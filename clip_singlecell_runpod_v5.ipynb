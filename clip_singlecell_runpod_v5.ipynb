{
 "cells": [
  {
   "cell_type": "markdown",
   "metadata": {
    "id": "MZ56DgrzwOA3"
   },
   "source": [
    "# Code\n"
   ]
  },
  {
   "cell_type": "code",
   "execution_count": 5,
   "metadata": {
    "id": "qQrhPqhafi_w"
   },
   "outputs": [
    {
     "name": "stdout",
     "output_type": "stream",
     "text": [
      "Initial freq stats: min=0.0e+00, max=4.2e+03, mean=3.2e+02, std=7.7e+02\n"
     ]
    },
    {
     "name": "stderr",
     "output_type": "stream",
     "text": [
      "                                                                                         \r"
     ]
    },
    {
     "name": "stdout",
     "output_type": "stream",
     "text": [
      "Epoch 1/10000 — Avg Train Loss: 6.6616 | Avg Val Loss:   6.5027 | LR: 2.00e-04\n",
      "  ► Saved new best checkpoint (Val Loss: 6.5027)\n"
     ]
    },
    {
     "name": "stderr",
     "output_type": "stream",
     "text": [
      "                                                                                         \r"
     ]
    },
    {
     "name": "stdout",
     "output_type": "stream",
     "text": [
      "Epoch 2/10000 — Avg Train Loss: 6.4817 | Avg Val Loss:   6.5026 | LR: 4.00e-04\n",
      "  ► Saved new best checkpoint (Val Loss: 6.5026)\n"
     ]
    },
    {
     "name": "stderr",
     "output_type": "stream",
     "text": [
      "                                                                                         \r"
     ]
    },
    {
     "name": "stdout",
     "output_type": "stream",
     "text": [
      "Epoch 3/10000 — Avg Train Loss: 6.4747 | Avg Val Loss:   6.5187 | LR: 6.00e-04\n"
     ]
    },
    {
     "name": "stderr",
     "output_type": "stream",
     "text": [
      "                                                                                         \r"
     ]
    },
    {
     "name": "stdout",
     "output_type": "stream",
     "text": [
      "Epoch 4/10000 — Avg Train Loss: 6.4710 | Avg Val Loss:   6.5013 | LR: 8.00e-04\n",
      "  ► Saved new best checkpoint (Val Loss: 6.5013)\n"
     ]
    },
    {
     "name": "stderr",
     "output_type": "stream",
     "text": [
      "                                                                                         \r"
     ]
    },
    {
     "name": "stdout",
     "output_type": "stream",
     "text": [
      "Epoch 5/10000 — Avg Train Loss: 6.4659 | Avg Val Loss:   6.5016 | LR: 1.00e-03\n"
     ]
    },
    {
     "name": "stderr",
     "output_type": "stream",
     "text": [
      "                                                                                         \r"
     ]
    },
    {
     "name": "stdout",
     "output_type": "stream",
     "text": [
      "Epoch 6/10000 — Avg Train Loss: 6.4601 | Avg Val Loss:   6.5087 | LR: 1.20e-03\n"
     ]
    },
    {
     "name": "stderr",
     "output_type": "stream",
     "text": [
      "                                                                                         \r"
     ]
    },
    {
     "name": "stdout",
     "output_type": "stream",
     "text": [
      "Epoch 7/10000 — Avg Train Loss: 6.4574 | Avg Val Loss:   6.5358 | LR: 1.40e-03\n"
     ]
    },
    {
     "name": "stderr",
     "output_type": "stream",
     "text": [
      "                                                                                         \r"
     ]
    },
    {
     "name": "stdout",
     "output_type": "stream",
     "text": [
      "Epoch 8/10000 — Avg Train Loss: 6.4522 | Avg Val Loss:   6.5963 | LR: 1.60e-03\n"
     ]
    },
    {
     "name": "stderr",
     "output_type": "stream",
     "text": [
      "                                                                                         \r"
     ]
    },
    {
     "name": "stdout",
     "output_type": "stream",
     "text": [
      "Epoch 9/10000 — Avg Train Loss: 6.4498 | Avg Val Loss:   6.4958 | LR: 1.80e-03\n",
      "  ► Saved new best checkpoint (Val Loss: 6.4958)\n"
     ]
    },
    {
     "name": "stderr",
     "output_type": "stream",
     "text": [
      "                                                                                          \r"
     ]
    },
    {
     "name": "stdout",
     "output_type": "stream",
     "text": [
      "Epoch 10/10000 — Avg Train Loss: 6.4518 | Avg Val Loss:   6.5145 | LR: 2.00e-03\n"
     ]
    },
    {
     "name": "stderr",
     "output_type": "stream",
     "text": [
      "                                                                                          \r"
     ]
    },
    {
     "name": "stdout",
     "output_type": "stream",
     "text": [
      "Epoch 11/10000 — Avg Train Loss: 6.4522 | Avg Val Loss:   6.5086 | LR: 2.20e-03\n"
     ]
    },
    {
     "name": "stderr",
     "output_type": "stream",
     "text": [
      "                                                                                          \r"
     ]
    },
    {
     "name": "stdout",
     "output_type": "stream",
     "text": [
      "Epoch 12/10000 — Avg Train Loss: 6.4530 | Avg Val Loss:   6.5262 | LR: 2.40e-03\n"
     ]
    },
    {
     "name": "stderr",
     "output_type": "stream",
     "text": [
      "                                                                                          \r"
     ]
    },
    {
     "name": "stdout",
     "output_type": "stream",
     "text": [
      "Epoch 13/10000 — Avg Train Loss: 6.4555 | Avg Val Loss:   6.5293 | LR: 2.60e-03\n"
     ]
    },
    {
     "name": "stderr",
     "output_type": "stream",
     "text": [
      "                                                                                          \r"
     ]
    },
    {
     "name": "stdout",
     "output_type": "stream",
     "text": [
      "Epoch 14/10000 — Avg Train Loss: 6.4553 | Avg Val Loss:   6.5101 | LR: 2.80e-03\n"
     ]
    },
    {
     "name": "stderr",
     "output_type": "stream",
     "text": [
      "                                                                                          \r"
     ]
    },
    {
     "name": "stdout",
     "output_type": "stream",
     "text": [
      "Epoch 15/10000 — Avg Train Loss: 6.4576 | Avg Val Loss:   6.5039 | LR: 3.00e-03\n"
     ]
    },
    {
     "name": "stderr",
     "output_type": "stream",
     "text": [
      "                                                                                          \r"
     ]
    },
    {
     "name": "stdout",
     "output_type": "stream",
     "text": [
      "Epoch 16/10000 — Avg Train Loss: 6.4571 | Avg Val Loss:   6.5183 | LR: 3.20e-03\n"
     ]
    },
    {
     "name": "stderr",
     "output_type": "stream",
     "text": [
      "                                                                                          \r"
     ]
    },
    {
     "name": "stdout",
     "output_type": "stream",
     "text": [
      "Epoch 17/10000 — Avg Train Loss: 6.4568 | Avg Val Loss:   6.5240 | LR: 3.40e-03\n"
     ]
    },
    {
     "name": "stderr",
     "output_type": "stream",
     "text": [
      "                                                                                          \r"
     ]
    },
    {
     "name": "stdout",
     "output_type": "stream",
     "text": [
      "Epoch 18/10000 — Avg Train Loss: 6.4571 | Avg Val Loss:   6.5276 | LR: 3.60e-03\n"
     ]
    },
    {
     "name": "stderr",
     "output_type": "stream",
     "text": [
      "                                                                                          \r"
     ]
    },
    {
     "name": "stdout",
     "output_type": "stream",
     "text": [
      "Epoch 19/10000 — Avg Train Loss: 6.4584 | Avg Val Loss:   6.6107 | LR: 3.80e-03\n"
     ]
    },
    {
     "name": "stderr",
     "output_type": "stream",
     "text": [
      "                                                                                          \r"
     ]
    },
    {
     "name": "stdout",
     "output_type": "stream",
     "text": [
      "Epoch 20/10000 — Avg Train Loss: 6.4569 | Avg Val Loss:   6.5173 | LR: 4.00e-03\n"
     ]
    },
    {
     "name": "stderr",
     "output_type": "stream",
     "text": [
      "                                                                                          \r"
     ]
    },
    {
     "name": "stdout",
     "output_type": "stream",
     "text": [
      "Epoch 21/10000 — Avg Train Loss: 6.4570 | Avg Val Loss:   6.5113 | LR: 4.20e-03\n"
     ]
    },
    {
     "name": "stderr",
     "output_type": "stream",
     "text": [
      "                                                                                          \r"
     ]
    },
    {
     "name": "stdout",
     "output_type": "stream",
     "text": [
      "Epoch 22/10000 — Avg Train Loss: 6.4567 | Avg Val Loss:   6.5155 | LR: 4.40e-03\n"
     ]
    },
    {
     "name": "stderr",
     "output_type": "stream",
     "text": [
      "                                                                                          \r"
     ]
    },
    {
     "name": "stdout",
     "output_type": "stream",
     "text": [
      "Epoch 23/10000 — Avg Train Loss: 6.4559 | Avg Val Loss:   6.5122 | LR: 4.60e-03\n"
     ]
    },
    {
     "name": "stderr",
     "output_type": "stream",
     "text": [
      "                                                                                          \r"
     ]
    },
    {
     "name": "stdout",
     "output_type": "stream",
     "text": [
      "Epoch 24/10000 — Avg Train Loss: 6.4558 | Avg Val Loss:   6.5357 | LR: 4.80e-03\n"
     ]
    },
    {
     "name": "stderr",
     "output_type": "stream",
     "text": [
      "                                                                                          \r"
     ]
    },
    {
     "name": "stdout",
     "output_type": "stream",
     "text": [
      "Epoch 25/10000 — Avg Train Loss: 6.4584 | Avg Val Loss:   6.5255 | LR: 5.00e-03\n"
     ]
    },
    {
     "name": "stderr",
     "output_type": "stream",
     "text": [
      "                                                                                          \r"
     ]
    },
    {
     "name": "stdout",
     "output_type": "stream",
     "text": [
      "Epoch 26/10000 — Avg Train Loss: 6.4566 | Avg Val Loss:   6.5232 | LR: 5.20e-03\n"
     ]
    },
    {
     "name": "stderr",
     "output_type": "stream",
     "text": [
      "                                                                                          \r"
     ]
    },
    {
     "name": "stdout",
     "output_type": "stream",
     "text": [
      "Epoch 27/10000 — Avg Train Loss: 6.4539 | Avg Val Loss:   6.5236 | LR: 5.40e-03\n"
     ]
    },
    {
     "name": "stderr",
     "output_type": "stream",
     "text": [
      "                                                                                          \r"
     ]
    },
    {
     "name": "stdout",
     "output_type": "stream",
     "text": [
      "Epoch 28/10000 — Avg Train Loss: 6.4532 | Avg Val Loss:   6.5143 | LR: 5.60e-03\n"
     ]
    },
    {
     "name": "stderr",
     "output_type": "stream",
     "text": [
      "                                                                                          \r"
     ]
    },
    {
     "name": "stdout",
     "output_type": "stream",
     "text": [
      "Epoch 29/10000 — Avg Train Loss: 6.4523 | Avg Val Loss:   6.5133 | LR: 5.80e-03\n"
     ]
    },
    {
     "name": "stderr",
     "output_type": "stream",
     "text": [
      "                                                                                          \r"
     ]
    },
    {
     "name": "stdout",
     "output_type": "stream",
     "text": [
      "Epoch 30/10000 — Avg Train Loss: 6.4516 | Avg Val Loss:   6.5165 | LR: 6.00e-03\n"
     ]
    },
    {
     "name": "stderr",
     "output_type": "stream",
     "text": [
      "                                                                                          \r"
     ]
    },
    {
     "name": "stdout",
     "output_type": "stream",
     "text": [
      "Epoch 31/10000 — Avg Train Loss: 6.4509 | Avg Val Loss:   6.5160 | LR: 6.20e-03\n"
     ]
    },
    {
     "name": "stderr",
     "output_type": "stream",
     "text": [
      "                                                                                          \r"
     ]
    },
    {
     "name": "stdout",
     "output_type": "stream",
     "text": [
      "Epoch 32/10000 — Avg Train Loss: 6.4477 | Avg Val Loss:   6.5158 | LR: 6.40e-03\n"
     ]
    },
    {
     "name": "stderr",
     "output_type": "stream",
     "text": [
      "                                                                                          \r"
     ]
    },
    {
     "name": "stdout",
     "output_type": "stream",
     "text": [
      "Epoch 33/10000 — Avg Train Loss: 6.4490 | Avg Val Loss:   6.5188 | LR: 6.60e-03\n"
     ]
    },
    {
     "name": "stderr",
     "output_type": "stream",
     "text": [
      "                                                                                          \r"
     ]
    },
    {
     "name": "stdout",
     "output_type": "stream",
     "text": [
      "Epoch 34/10000 — Avg Train Loss: 6.4475 | Avg Val Loss:   6.5206 | LR: 6.80e-03\n"
     ]
    },
    {
     "name": "stderr",
     "output_type": "stream",
     "text": [
      "                                                                                          \r"
     ]
    },
    {
     "name": "stdout",
     "output_type": "stream",
     "text": [
      "Epoch 35/10000 — Avg Train Loss: 6.4460 | Avg Val Loss:   6.5326 | LR: 7.00e-03\n"
     ]
    },
    {
     "name": "stderr",
     "output_type": "stream",
     "text": [
      "                                                                                          \r"
     ]
    },
    {
     "name": "stdout",
     "output_type": "stream",
     "text": [
      "Epoch 36/10000 — Avg Train Loss: 6.4447 | Avg Val Loss:   6.5176 | LR: 7.20e-03\n"
     ]
    },
    {
     "name": "stderr",
     "output_type": "stream",
     "text": [
      "                                                                                          \r"
     ]
    },
    {
     "name": "stdout",
     "output_type": "stream",
     "text": [
      "Epoch 37/10000 — Avg Train Loss: 6.4442 | Avg Val Loss:   6.5275 | LR: 7.40e-03\n"
     ]
    },
    {
     "name": "stderr",
     "output_type": "stream",
     "text": [
      "                                                                                          \r"
     ]
    },
    {
     "name": "stdout",
     "output_type": "stream",
     "text": [
      "Epoch 38/10000 — Avg Train Loss: 6.4416 | Avg Val Loss:   6.5239 | LR: 7.60e-03\n"
     ]
    },
    {
     "name": "stderr",
     "output_type": "stream",
     "text": [
      "                                                                                          \r"
     ]
    },
    {
     "name": "stdout",
     "output_type": "stream",
     "text": [
      "Epoch 39/10000 — Avg Train Loss: 6.4421 | Avg Val Loss:   6.5203 | LR: 7.80e-03\n"
     ]
    },
    {
     "name": "stderr",
     "output_type": "stream",
     "text": [
      "                                                                                          \r"
     ]
    },
    {
     "name": "stdout",
     "output_type": "stream",
     "text": [
      "Epoch 40/10000 — Avg Train Loss: 6.4386 | Avg Val Loss:   6.5361 | LR: 8.00e-03\n"
     ]
    },
    {
     "name": "stderr",
     "output_type": "stream",
     "text": [
      "                                                                                          \r"
     ]
    },
    {
     "name": "stdout",
     "output_type": "stream",
     "text": [
      "Epoch 41/10000 — Avg Train Loss: 6.4360 | Avg Val Loss:   6.5221 | LR: 8.20e-03\n"
     ]
    },
    {
     "name": "stderr",
     "output_type": "stream",
     "text": [
      "                                                                                          \r"
     ]
    },
    {
     "name": "stdout",
     "output_type": "stream",
     "text": [
      "Epoch 42/10000 — Avg Train Loss: 6.4344 | Avg Val Loss:   6.5252 | LR: 8.40e-03\n"
     ]
    },
    {
     "name": "stderr",
     "output_type": "stream",
     "text": [
      "                                                                                          \r"
     ]
    },
    {
     "name": "stdout",
     "output_type": "stream",
     "text": [
      "Epoch 43/10000 — Avg Train Loss: 6.4317 | Avg Val Loss:   6.5215 | LR: 8.60e-03\n"
     ]
    },
    {
     "name": "stderr",
     "output_type": "stream",
     "text": [
      "                                                                                          \r"
     ]
    },
    {
     "name": "stdout",
     "output_type": "stream",
     "text": [
      "Epoch 44/10000 — Avg Train Loss: 6.4261 | Avg Val Loss:   6.9048 | LR: 8.80e-03\n"
     ]
    },
    {
     "name": "stderr",
     "output_type": "stream",
     "text": [
      "                                                                                          \r"
     ]
    },
    {
     "name": "stdout",
     "output_type": "stream",
     "text": [
      "Epoch 45/10000 — Avg Train Loss: 6.4239 | Avg Val Loss:   6.5213 | LR: 9.00e-03\n"
     ]
    },
    {
     "name": "stderr",
     "output_type": "stream",
     "text": [
      "                                                                                          \r"
     ]
    },
    {
     "name": "stdout",
     "output_type": "stream",
     "text": [
      "Epoch 46/10000 — Avg Train Loss: 6.4201 | Avg Val Loss:   6.5230 | LR: 9.20e-03\n"
     ]
    },
    {
     "name": "stderr",
     "output_type": "stream",
     "text": [
      "                                                                                          \r"
     ]
    },
    {
     "name": "stdout",
     "output_type": "stream",
     "text": [
      "Epoch 47/10000 — Avg Train Loss: 6.4149 | Avg Val Loss:   6.5212 | LR: 9.40e-03\n"
     ]
    },
    {
     "name": "stderr",
     "output_type": "stream",
     "text": [
      "                                                                                          \r"
     ]
    },
    {
     "name": "stdout",
     "output_type": "stream",
     "text": [
      "Epoch 48/10000 — Avg Train Loss: 6.4117 | Avg Val Loss:   6.5231 | LR: 9.60e-03\n"
     ]
    },
    {
     "name": "stderr",
     "output_type": "stream",
     "text": [
      "                                                                                          \r"
     ]
    },
    {
     "name": "stdout",
     "output_type": "stream",
     "text": [
      "Epoch 49/10000 — Avg Train Loss: 6.4068 | Avg Val Loss:   6.5481 | LR: 9.80e-03\n"
     ]
    },
    {
     "name": "stderr",
     "output_type": "stream",
     "text": [
      "                                                                                          \r"
     ]
    },
    {
     "name": "stdout",
     "output_type": "stream",
     "text": [
      "Epoch 50/10000 — Avg Train Loss: 6.3994 | Avg Val Loss:   6.5256 | LR: 1.00e-02\n"
     ]
    },
    {
     "name": "stderr",
     "output_type": "stream",
     "text": [
      "                                                                                          \r"
     ]
    },
    {
     "name": "stdout",
     "output_type": "stream",
     "text": [
      "Epoch 51/10000 — Avg Train Loss: 6.3909 | Avg Val Loss:   6.5238 | LR: 1.00e-02\n"
     ]
    },
    {
     "name": "stderr",
     "output_type": "stream",
     "text": [
      "                                                                                          \r"
     ]
    },
    {
     "name": "stdout",
     "output_type": "stream",
     "text": [
      "Epoch 52/10000 — Avg Train Loss: 6.3861 | Avg Val Loss:   6.5250 | LR: 1.00e-02\n"
     ]
    },
    {
     "name": "stderr",
     "output_type": "stream",
     "text": [
      "                                                                                          \r"
     ]
    },
    {
     "name": "stdout",
     "output_type": "stream",
     "text": [
      "Epoch 53/10000 — Avg Train Loss: 6.3766 | Avg Val Loss:   6.5285 | LR: 1.00e-02\n"
     ]
    },
    {
     "name": "stderr",
     "output_type": "stream",
     "text": [
      "                                                                                          \r"
     ]
    },
    {
     "name": "stdout",
     "output_type": "stream",
     "text": [
      "Epoch 54/10000 — Avg Train Loss: 6.3644 | Avg Val Loss:   6.5306 | LR: 1.00e-02\n"
     ]
    },
    {
     "name": "stderr",
     "output_type": "stream",
     "text": [
      "                                                                                          \r"
     ]
    },
    {
     "name": "stdout",
     "output_type": "stream",
     "text": [
      "Epoch 55/10000 — Avg Train Loss: 6.3595 | Avg Val Loss:   6.5251 | LR: 1.00e-02\n"
     ]
    },
    {
     "name": "stderr",
     "output_type": "stream",
     "text": [
      "                                                                                          \r"
     ]
    },
    {
     "name": "stdout",
     "output_type": "stream",
     "text": [
      "Epoch 56/10000 — Avg Train Loss: 6.3936 | Avg Val Loss:   6.5210 | LR: 1.00e-02\n"
     ]
    },
    {
     "name": "stderr",
     "output_type": "stream",
     "text": [
      "                                                                                          \r"
     ]
    },
    {
     "name": "stdout",
     "output_type": "stream",
     "text": [
      "Epoch 57/10000 — Avg Train Loss: 6.4704 | Avg Val Loss:   6.5225 | LR: 1.00e-02\n"
     ]
    },
    {
     "name": "stderr",
     "output_type": "stream",
     "text": [
      "                                                                                          \r"
     ]
    },
    {
     "name": "stdout",
     "output_type": "stream",
     "text": [
      "Epoch 58/10000 — Avg Train Loss: 6.4842 | Avg Val Loss:   6.5365 | LR: 1.00e-02\n"
     ]
    },
    {
     "name": "stderr",
     "output_type": "stream",
     "text": [
      "                                                                                          \r"
     ]
    },
    {
     "name": "stdout",
     "output_type": "stream",
     "text": [
      "Epoch 59/10000 — Avg Train Loss: 6.4788 | Avg Val Loss:   6.5227 | LR: 1.00e-02\n"
     ]
    },
    {
     "name": "stderr",
     "output_type": "stream",
     "text": [
      "                                                                                          \r"
     ]
    },
    {
     "name": "stdout",
     "output_type": "stream",
     "text": [
      "Epoch 60/10000 — Avg Train Loss: 6.4758 | Avg Val Loss:   6.5220 | LR: 1.00e-02\n"
     ]
    },
    {
     "name": "stderr",
     "output_type": "stream",
     "text": [
      "                                                                                          \r"
     ]
    },
    {
     "name": "stdout",
     "output_type": "stream",
     "text": [
      "Epoch 61/10000 — Avg Train Loss: 6.4729 | Avg Val Loss:   6.5247 | LR: 1.00e-02\n"
     ]
    },
    {
     "name": "stderr",
     "output_type": "stream",
     "text": [
      "                                                                                          \r"
     ]
    },
    {
     "name": "stdout",
     "output_type": "stream",
     "text": [
      "Epoch 62/10000 — Avg Train Loss: 6.4695 | Avg Val Loss:   6.5182 | LR: 1.00e-02\n"
     ]
    },
    {
     "name": "stderr",
     "output_type": "stream",
     "text": [
      "                                                                                          \r"
     ]
    },
    {
     "name": "stdout",
     "output_type": "stream",
     "text": [
      "Epoch 63/10000 — Avg Train Loss: 6.4657 | Avg Val Loss:   6.5421 | LR: 1.00e-02\n"
     ]
    },
    {
     "name": "stderr",
     "output_type": "stream",
     "text": [
      "                                                                                          \r"
     ]
    },
    {
     "name": "stdout",
     "output_type": "stream",
     "text": [
      "Epoch 64/10000 — Avg Train Loss: 6.4613 | Avg Val Loss:   6.5302 | LR: 1.00e-02\n"
     ]
    },
    {
     "name": "stderr",
     "output_type": "stream",
     "text": [
      "                                                                                          \r"
     ]
    },
    {
     "name": "stdout",
     "output_type": "stream",
     "text": [
      "Epoch 65/10000 — Avg Train Loss: 6.4565 | Avg Val Loss:   6.5763 | LR: 1.00e-02\n"
     ]
    },
    {
     "name": "stderr",
     "output_type": "stream",
     "text": [
      "                                                                                          \r"
     ]
    },
    {
     "name": "stdout",
     "output_type": "stream",
     "text": [
      "Epoch 66/10000 — Avg Train Loss: 6.4669 | Avg Val Loss:   6.5241 | LR: 1.00e-02\n"
     ]
    },
    {
     "name": "stderr",
     "output_type": "stream",
     "text": [
      "                                                                                          \r"
     ]
    },
    {
     "name": "stdout",
     "output_type": "stream",
     "text": [
      "Epoch 67/10000 — Avg Train Loss: 6.4686 | Avg Val Loss:   6.5361 | LR: 1.00e-02\n"
     ]
    },
    {
     "name": "stderr",
     "output_type": "stream",
     "text": [
      "                                                                                          \r"
     ]
    },
    {
     "name": "stdout",
     "output_type": "stream",
     "text": [
      "Epoch 68/10000 — Avg Train Loss: 6.4625 | Avg Val Loss:   6.5155 | LR: 1.00e-02\n"
     ]
    },
    {
     "name": "stderr",
     "output_type": "stream",
     "text": [
      "                                                                                          \r"
     ]
    },
    {
     "name": "stdout",
     "output_type": "stream",
     "text": [
      "Epoch 69/10000 — Avg Train Loss: 6.4579 | Avg Val Loss:   6.5295 | LR: 1.00e-02\n"
     ]
    },
    {
     "name": "stderr",
     "output_type": "stream",
     "text": [
      "                                                                                          \r"
     ]
    },
    {
     "name": "stdout",
     "output_type": "stream",
     "text": [
      "Epoch 70/10000 — Avg Train Loss: 6.4533 | Avg Val Loss:   6.5416 | LR: 1.00e-02\n"
     ]
    },
    {
     "name": "stderr",
     "output_type": "stream",
     "text": [
      "                                                                                          \r"
     ]
    },
    {
     "name": "stdout",
     "output_type": "stream",
     "text": [
      "Epoch 71/10000 — Avg Train Loss: 6.4496 | Avg Val Loss:   6.6149 | LR: 1.00e-02\n"
     ]
    },
    {
     "name": "stderr",
     "output_type": "stream",
     "text": [
      "                                                                                          \r"
     ]
    },
    {
     "name": "stdout",
     "output_type": "stream",
     "text": [
      "Epoch 72/10000 — Avg Train Loss: 6.4469 | Avg Val Loss:   6.5301 | LR: 1.00e-02\n"
     ]
    },
    {
     "name": "stderr",
     "output_type": "stream",
     "text": [
      "                                                                                          \r"
     ]
    },
    {
     "name": "stdout",
     "output_type": "stream",
     "text": [
      "Epoch 73/10000 — Avg Train Loss: 6.4423 | Avg Val Loss:   6.5395 | LR: 1.00e-02\n"
     ]
    },
    {
     "name": "stderr",
     "output_type": "stream",
     "text": [
      "                                                                                          \r"
     ]
    },
    {
     "name": "stdout",
     "output_type": "stream",
     "text": [
      "Epoch 74/10000 — Avg Train Loss: 6.4374 | Avg Val Loss:   6.5193 | LR: 1.00e-02\n"
     ]
    },
    {
     "name": "stderr",
     "output_type": "stream",
     "text": [
      "                                                                                          \r"
     ]
    },
    {
     "name": "stdout",
     "output_type": "stream",
     "text": [
      "Epoch 75/10000 — Avg Train Loss: 6.4309 | Avg Val Loss:   6.5203 | LR: 1.00e-02\n"
     ]
    },
    {
     "name": "stderr",
     "output_type": "stream",
     "text": [
      "                                                                                          \r"
     ]
    },
    {
     "name": "stdout",
     "output_type": "stream",
     "text": [
      "Epoch 76/10000 — Avg Train Loss: 6.4269 | Avg Val Loss:   6.5771 | LR: 1.00e-02\n"
     ]
    },
    {
     "name": "stderr",
     "output_type": "stream",
     "text": [
      "                                                                                          \r"
     ]
    },
    {
     "name": "stdout",
     "output_type": "stream",
     "text": [
      "Epoch 77/10000 — Avg Train Loss: 6.4186 | Avg Val Loss:   6.5753 | LR: 1.00e-02\n"
     ]
    },
    {
     "name": "stderr",
     "output_type": "stream",
     "text": [
      "                                                                                          \r"
     ]
    },
    {
     "name": "stdout",
     "output_type": "stream",
     "text": [
      "Epoch 78/10000 — Avg Train Loss: 6.4156 | Avg Val Loss:   6.5162 | LR: 1.00e-02\n"
     ]
    },
    {
     "name": "stderr",
     "output_type": "stream",
     "text": [
      "                                                                                          \r"
     ]
    },
    {
     "name": "stdout",
     "output_type": "stream",
     "text": [
      "Epoch 79/10000 — Avg Train Loss: 6.4127 | Avg Val Loss:   6.5474 | LR: 1.00e-02\n"
     ]
    },
    {
     "name": "stderr",
     "output_type": "stream",
     "text": [
      "                                                                                          \r"
     ]
    },
    {
     "name": "stdout",
     "output_type": "stream",
     "text": [
      "Epoch 80/10000 — Avg Train Loss: 6.4077 | Avg Val Loss:   6.5118 | LR: 1.00e-02\n"
     ]
    },
    {
     "name": "stderr",
     "output_type": "stream",
     "text": [
      "                                                                                          \r"
     ]
    },
    {
     "name": "stdout",
     "output_type": "stream",
     "text": [
      "Epoch 81/10000 — Avg Train Loss: 6.3981 | Avg Val Loss:   6.5255 | LR: 1.00e-02\n"
     ]
    },
    {
     "name": "stderr",
     "output_type": "stream",
     "text": [
      "                                                                                          \r"
     ]
    },
    {
     "name": "stdout",
     "output_type": "stream",
     "text": [
      "Epoch 82/10000 — Avg Train Loss: 6.3866 | Avg Val Loss:   6.6062 | LR: 1.00e-02\n"
     ]
    },
    {
     "name": "stderr",
     "output_type": "stream",
     "text": [
      "                                                                                          \r"
     ]
    },
    {
     "name": "stdout",
     "output_type": "stream",
     "text": [
      "Epoch 83/10000 — Avg Train Loss: 6.3771 | Avg Val Loss:   6.6623 | LR: 1.00e-02\n"
     ]
    },
    {
     "name": "stderr",
     "output_type": "stream",
     "text": [
      "                                                                                          \r"
     ]
    },
    {
     "name": "stdout",
     "output_type": "stream",
     "text": [
      "Epoch 84/10000 — Avg Train Loss: 6.3691 | Avg Val Loss:   6.5338 | LR: 1.00e-02\n"
     ]
    },
    {
     "name": "stderr",
     "output_type": "stream",
     "text": [
      "                                                                                          \r"
     ]
    },
    {
     "name": "stdout",
     "output_type": "stream",
     "text": [
      "Epoch 85/10000 — Avg Train Loss: 6.3563 | Avg Val Loss:   6.5973 | LR: 1.00e-02\n"
     ]
    },
    {
     "name": "stderr",
     "output_type": "stream",
     "text": [
      "                                                                                          \r"
     ]
    },
    {
     "name": "stdout",
     "output_type": "stream",
     "text": [
      "Epoch 86/10000 — Avg Train Loss: 6.3420 | Avg Val Loss:   6.5250 | LR: 1.00e-02\n"
     ]
    },
    {
     "name": "stderr",
     "output_type": "stream",
     "text": [
      "                                                                                          \r"
     ]
    },
    {
     "name": "stdout",
     "output_type": "stream",
     "text": [
      "Epoch 87/10000 — Avg Train Loss: 6.3336 | Avg Val Loss:   6.5486 | LR: 1.00e-02\n"
     ]
    },
    {
     "name": "stderr",
     "output_type": "stream",
     "text": [
      "                                                                                          \r"
     ]
    },
    {
     "name": "stdout",
     "output_type": "stream",
     "text": [
      "Epoch 88/10000 — Avg Train Loss: 6.3163 | Avg Val Loss:   6.5349 | LR: 1.00e-02\n"
     ]
    },
    {
     "name": "stderr",
     "output_type": "stream",
     "text": [
      "                                                                                          \r"
     ]
    },
    {
     "name": "stdout",
     "output_type": "stream",
     "text": [
      "Epoch 89/10000 — Avg Train Loss: 6.3049 | Avg Val Loss:   6.5365 | LR: 1.00e-02\n"
     ]
    },
    {
     "name": "stderr",
     "output_type": "stream",
     "text": [
      "                                                                                          \r"
     ]
    },
    {
     "name": "stdout",
     "output_type": "stream",
     "text": [
      "Epoch 90/10000 — Avg Train Loss: 6.2908 | Avg Val Loss:   6.5525 | LR: 1.00e-02\n"
     ]
    },
    {
     "name": "stderr",
     "output_type": "stream",
     "text": [
      "                                                                                          \r"
     ]
    },
    {
     "name": "stdout",
     "output_type": "stream",
     "text": [
      "Epoch 91/10000 — Avg Train Loss: 6.2746 | Avg Val Loss:   6.5523 | LR: 1.00e-02\n"
     ]
    },
    {
     "name": "stderr",
     "output_type": "stream",
     "text": [
      "                                                                                          \r"
     ]
    },
    {
     "name": "stdout",
     "output_type": "stream",
     "text": [
      "Epoch 92/10000 — Avg Train Loss: 6.2653 | Avg Val Loss:   6.5687 | LR: 1.00e-02\n"
     ]
    },
    {
     "name": "stderr",
     "output_type": "stream",
     "text": [
      "                                                                                          \r"
     ]
    },
    {
     "name": "stdout",
     "output_type": "stream",
     "text": [
      "Epoch 93/10000 — Avg Train Loss: 6.2461 | Avg Val Loss:   6.5754 | LR: 1.00e-02\n"
     ]
    },
    {
     "name": "stderr",
     "output_type": "stream",
     "text": [
      "                                                                                          \r"
     ]
    },
    {
     "name": "stdout",
     "output_type": "stream",
     "text": [
      "Epoch 94/10000 — Avg Train Loss: 6.2271 | Avg Val Loss:   6.5794 | LR: 1.00e-02\n"
     ]
    },
    {
     "name": "stderr",
     "output_type": "stream",
     "text": [
      "                                                                                          \r"
     ]
    },
    {
     "name": "stdout",
     "output_type": "stream",
     "text": [
      "Epoch 95/10000 — Avg Train Loss: 6.2024 | Avg Val Loss:   6.5668 | LR: 1.00e-02\n"
     ]
    },
    {
     "name": "stderr",
     "output_type": "stream",
     "text": [
      "                                                                                          \r"
     ]
    },
    {
     "name": "stdout",
     "output_type": "stream",
     "text": [
      "Epoch 96/10000 — Avg Train Loss: 6.1924 | Avg Val Loss:   6.8604 | LR: 1.00e-02\n"
     ]
    },
    {
     "name": "stderr",
     "output_type": "stream",
     "text": [
      "                                                                                          \r"
     ]
    },
    {
     "name": "stdout",
     "output_type": "stream",
     "text": [
      "Epoch 97/10000 — Avg Train Loss: 6.1762 | Avg Val Loss:   6.6624 | LR: 1.00e-02\n"
     ]
    },
    {
     "name": "stderr",
     "output_type": "stream",
     "text": [
      "                                                                                          \r"
     ]
    },
    {
     "name": "stdout",
     "output_type": "stream",
     "text": [
      "Epoch 98/10000 — Avg Train Loss: 6.1574 | Avg Val Loss:   6.6773 | LR: 1.00e-02\n"
     ]
    },
    {
     "name": "stderr",
     "output_type": "stream",
     "text": [
      "                                                                                          \r"
     ]
    },
    {
     "name": "stdout",
     "output_type": "stream",
     "text": [
      "Epoch 99/10000 — Avg Train Loss: 6.1394 | Avg Val Loss:   6.9260 | LR: 1.00e-02\n"
     ]
    },
    {
     "name": "stderr",
     "output_type": "stream",
     "text": [
      "                                                                                           \r"
     ]
    },
    {
     "name": "stdout",
     "output_type": "stream",
     "text": [
      "Epoch 100/10000 — Avg Train Loss: 6.1166 | Avg Val Loss:   6.6158 | LR: 1.00e-02\n"
     ]
    },
    {
     "name": "stderr",
     "output_type": "stream",
     "text": [
      "                                                                                           \r"
     ]
    },
    {
     "name": "stdout",
     "output_type": "stream",
     "text": [
      "Epoch 102/10000 — Avg Train Loss: 6.0878 | Avg Val Loss:   6.5886 | LR: 1.00e-02\n"
     ]
    },
    {
     "name": "stderr",
     "output_type": "stream",
     "text": [
      "                                                                                           \r"
     ]
    },
    {
     "name": "stdout",
     "output_type": "stream",
     "text": [
      "Epoch 103/10000 — Avg Train Loss: 6.0718 | Avg Val Loss:   7.0047 | LR: 1.00e-02\n"
     ]
    },
    {
     "name": "stderr",
     "output_type": "stream",
     "text": [
      "                                                                                           \r"
     ]
    },
    {
     "name": "stdout",
     "output_type": "stream",
     "text": [
      "Epoch 104/10000 — Avg Train Loss: 6.0531 | Avg Val Loss:   6.8963 | LR: 1.00e-02\n"
     ]
    },
    {
     "name": "stderr",
     "output_type": "stream",
     "text": [
      "                                                                                           \r"
     ]
    },
    {
     "name": "stdout",
     "output_type": "stream",
     "text": [
      "Epoch 105/10000 — Avg Train Loss: 6.0270 | Avg Val Loss:   7.2821 | LR: 1.00e-02\n"
     ]
    },
    {
     "name": "stderr",
     "output_type": "stream",
     "text": [
      "                                                                                           \r"
     ]
    },
    {
     "name": "stdout",
     "output_type": "stream",
     "text": [
      "Epoch 106/10000 — Avg Train Loss: 6.0020 | Avg Val Loss:   7.1832 | LR: 1.00e-02\n"
     ]
    },
    {
     "name": "stderr",
     "output_type": "stream",
     "text": [
      "                                                                                           \r"
     ]
    },
    {
     "name": "stdout",
     "output_type": "stream",
     "text": [
      "Epoch 107/10000 — Avg Train Loss: 6.0093 | Avg Val Loss:   7.0034 | LR: 1.00e-02\n"
     ]
    },
    {
     "name": "stderr",
     "output_type": "stream",
     "text": [
      "                                                                                           \r"
     ]
    },
    {
     "name": "stdout",
     "output_type": "stream",
     "text": [
      "Epoch 108/10000 — Avg Train Loss: 5.9913 | Avg Val Loss:   7.0112 | LR: 1.00e-02\n"
     ]
    },
    {
     "name": "stderr",
     "output_type": "stream",
     "text": [
      "                                                                                           \r"
     ]
    },
    {
     "name": "stdout",
     "output_type": "stream",
     "text": [
      "Epoch 109/10000 — Avg Train Loss: 5.9556 | Avg Val Loss:   7.1376 | LR: 1.00e-02\n"
     ]
    },
    {
     "name": "stderr",
     "output_type": "stream",
     "text": [
      "                                                                                           \r"
     ]
    },
    {
     "name": "stdout",
     "output_type": "stream",
     "text": [
      "Epoch 110/10000 — Avg Train Loss: 5.9287 | Avg Val Loss:   7.3209 | LR: 1.00e-02\n"
     ]
    },
    {
     "name": "stderr",
     "output_type": "stream",
     "text": [
      "                                                                                           \r"
     ]
    },
    {
     "name": "stdout",
     "output_type": "stream",
     "text": [
      "Epoch 111/10000 — Avg Train Loss: 5.9191 | Avg Val Loss:   7.0671 | LR: 1.00e-02\n"
     ]
    },
    {
     "name": "stderr",
     "output_type": "stream",
     "text": [
      "                                                                                           \r"
     ]
    },
    {
     "name": "stdout",
     "output_type": "stream",
     "text": [
      "Epoch 112/10000 — Avg Train Loss: 5.9106 | Avg Val Loss:   7.3008 | LR: 1.00e-02\n"
     ]
    },
    {
     "name": "stderr",
     "output_type": "stream",
     "text": [
      "                                                                                           \r"
     ]
    },
    {
     "name": "stdout",
     "output_type": "stream",
     "text": [
      "Epoch 113/10000 — Avg Train Loss: 5.8892 | Avg Val Loss:   7.1012 | LR: 1.00e-02\n"
     ]
    },
    {
     "name": "stderr",
     "output_type": "stream",
     "text": [
      "                                                                                           \r"
     ]
    },
    {
     "name": "stdout",
     "output_type": "stream",
     "text": [
      "Epoch 114/10000 — Avg Train Loss: 5.8766 | Avg Val Loss:   6.9411 | LR: 1.00e-02\n"
     ]
    },
    {
     "name": "stderr",
     "output_type": "stream",
     "text": [
      "                                                                                           \r"
     ]
    },
    {
     "name": "stdout",
     "output_type": "stream",
     "text": [
      "Epoch 115/10000 — Avg Train Loss: 5.8986 | Avg Val Loss:   7.1175 | LR: 1.00e-02\n"
     ]
    },
    {
     "name": "stderr",
     "output_type": "stream",
     "text": [
      "                                                                                           \r"
     ]
    },
    {
     "name": "stdout",
     "output_type": "stream",
     "text": [
      "Epoch 116/10000 — Avg Train Loss: 5.9058 | Avg Val Loss:   7.2863 | LR: 1.00e-02\n"
     ]
    },
    {
     "name": "stderr",
     "output_type": "stream",
     "text": [
      "                                                                                           \r"
     ]
    },
    {
     "name": "stdout",
     "output_type": "stream",
     "text": [
      "Epoch 117/10000 — Avg Train Loss: 5.8606 | Avg Val Loss:   7.1587 | LR: 1.00e-02\n"
     ]
    },
    {
     "name": "stderr",
     "output_type": "stream",
     "text": [
      "                                                                                           \r"
     ]
    },
    {
     "name": "stdout",
     "output_type": "stream",
     "text": [
      "Epoch 118/10000 — Avg Train Loss: 5.8482 | Avg Val Loss:   7.4674 | LR: 1.00e-02\n"
     ]
    },
    {
     "name": "stderr",
     "output_type": "stream",
     "text": [
      "                                                                                           \r"
     ]
    },
    {
     "name": "stdout",
     "output_type": "stream",
     "text": [
      "Epoch 119/10000 — Avg Train Loss: 5.8503 | Avg Val Loss:   7.0253 | LR: 1.00e-02\n"
     ]
    },
    {
     "name": "stderr",
     "output_type": "stream",
     "text": [
      "                                                                                           \r"
     ]
    },
    {
     "name": "stdout",
     "output_type": "stream",
     "text": [
      "Epoch 120/10000 — Avg Train Loss: 5.8395 | Avg Val Loss:   7.2875 | LR: 1.00e-02\n"
     ]
    },
    {
     "name": "stderr",
     "output_type": "stream",
     "text": [
      "                                                                                           \r"
     ]
    },
    {
     "name": "stdout",
     "output_type": "stream",
     "text": [
      "Epoch 121/10000 — Avg Train Loss: 5.8141 | Avg Val Loss:   7.3316 | LR: 1.00e-02\n"
     ]
    },
    {
     "name": "stderr",
     "output_type": "stream",
     "text": [
      "                                                                                           \r"
     ]
    },
    {
     "name": "stdout",
     "output_type": "stream",
     "text": [
      "Epoch 122/10000 — Avg Train Loss: 5.7984 | Avg Val Loss:   7.4181 | LR: 1.00e-02\n"
     ]
    },
    {
     "name": "stderr",
     "output_type": "stream",
     "text": [
      "                                                                                           \r"
     ]
    },
    {
     "name": "stdout",
     "output_type": "stream",
     "text": [
      "Epoch 123/10000 — Avg Train Loss: 5.7621 | Avg Val Loss:   7.5212 | LR: 1.00e-02\n"
     ]
    },
    {
     "name": "stderr",
     "output_type": "stream",
     "text": [
      "                                                                                           \r"
     ]
    },
    {
     "name": "stdout",
     "output_type": "stream",
     "text": [
      "Epoch 124/10000 — Avg Train Loss: 5.7536 | Avg Val Loss:   7.3740 | LR: 1.00e-02\n"
     ]
    },
    {
     "name": "stderr",
     "output_type": "stream",
     "text": [
      "                                                                                           \r"
     ]
    },
    {
     "name": "stdout",
     "output_type": "stream",
     "text": [
      "Epoch 125/10000 — Avg Train Loss: 5.7461 | Avg Val Loss:   7.5696 | LR: 1.00e-02\n"
     ]
    },
    {
     "name": "stderr",
     "output_type": "stream",
     "text": [
      "                                                                                           \r"
     ]
    },
    {
     "name": "stdout",
     "output_type": "stream",
     "text": [
      "Epoch 126/10000 — Avg Train Loss: 5.7144 | Avg Val Loss:   7.5848 | LR: 1.00e-02\n"
     ]
    },
    {
     "name": "stderr",
     "output_type": "stream",
     "text": [
      "                                                                                           \r"
     ]
    },
    {
     "name": "stdout",
     "output_type": "stream",
     "text": [
      "Epoch 127/10000 — Avg Train Loss: 5.7204 | Avg Val Loss:   7.5236 | LR: 1.00e-02\n"
     ]
    },
    {
     "name": "stderr",
     "output_type": "stream",
     "text": [
      "                                                                                           \r"
     ]
    },
    {
     "name": "stdout",
     "output_type": "stream",
     "text": [
      "Epoch 128/10000 — Avg Train Loss: 5.7103 | Avg Val Loss:   7.5718 | LR: 1.00e-02\n"
     ]
    },
    {
     "name": "stderr",
     "output_type": "stream",
     "text": [
      "                                                                                           \r"
     ]
    },
    {
     "name": "stdout",
     "output_type": "stream",
     "text": [
      "Epoch 129/10000 — Avg Train Loss: 5.6984 | Avg Val Loss:   7.8622 | LR: 1.00e-02\n"
     ]
    },
    {
     "name": "stderr",
     "output_type": "stream",
     "text": [
      "                                                                                           \r"
     ]
    },
    {
     "name": "stdout",
     "output_type": "stream",
     "text": [
      "Epoch 130/10000 — Avg Train Loss: 5.6745 | Avg Val Loss:   7.6526 | LR: 1.00e-02\n"
     ]
    },
    {
     "name": "stderr",
     "output_type": "stream",
     "text": [
      "                                                                                           \r"
     ]
    },
    {
     "name": "stdout",
     "output_type": "stream",
     "text": [
      "Epoch 131/10000 — Avg Train Loss: 5.6637 | Avg Val Loss:   7.4680 | LR: 1.00e-02\n"
     ]
    },
    {
     "name": "stderr",
     "output_type": "stream",
     "text": [
      "                                                                                           \r"
     ]
    },
    {
     "name": "stdout",
     "output_type": "stream",
     "text": [
      "Epoch 132/10000 — Avg Train Loss: 5.6545 | Avg Val Loss:   7.7575 | LR: 1.00e-02\n"
     ]
    },
    {
     "name": "stderr",
     "output_type": "stream",
     "text": [
      "                                                                                           \r"
     ]
    },
    {
     "name": "stdout",
     "output_type": "stream",
     "text": [
      "Epoch 133/10000 — Avg Train Loss: 5.6392 | Avg Val Loss:   7.9868 | LR: 1.00e-02\n"
     ]
    },
    {
     "name": "stderr",
     "output_type": "stream",
     "text": [
      "                                                                                           \r"
     ]
    },
    {
     "name": "stdout",
     "output_type": "stream",
     "text": [
      "Epoch 134/10000 — Avg Train Loss: 5.6199 | Avg Val Loss:   7.5458 | LR: 1.00e-02\n"
     ]
    },
    {
     "name": "stderr",
     "output_type": "stream",
     "text": [
      "                                                                                           \r"
     ]
    },
    {
     "name": "stdout",
     "output_type": "stream",
     "text": [
      "Epoch 135/10000 — Avg Train Loss: 5.6095 | Avg Val Loss:   7.6481 | LR: 1.00e-02\n"
     ]
    },
    {
     "name": "stderr",
     "output_type": "stream",
     "text": [
      "                                                                                           \r"
     ]
    },
    {
     "name": "stdout",
     "output_type": "stream",
     "text": [
      "Epoch 136/10000 — Avg Train Loss: 5.6100 | Avg Val Loss:   7.6231 | LR: 1.00e-02\n"
     ]
    },
    {
     "name": "stderr",
     "output_type": "stream",
     "text": [
      "                                                                                           \r"
     ]
    },
    {
     "name": "stdout",
     "output_type": "stream",
     "text": [
      "Epoch 137/10000 — Avg Train Loss: 5.6148 | Avg Val Loss:   7.8276 | LR: 1.00e-02\n"
     ]
    },
    {
     "name": "stderr",
     "output_type": "stream",
     "text": [
      "                                                                                           \r"
     ]
    },
    {
     "name": "stdout",
     "output_type": "stream",
     "text": [
      "Epoch 138/10000 — Avg Train Loss: 5.5991 | Avg Val Loss:   7.7224 | LR: 1.00e-02\n"
     ]
    },
    {
     "name": "stderr",
     "output_type": "stream",
     "text": [
      "                                                                                           \r"
     ]
    },
    {
     "name": "stdout",
     "output_type": "stream",
     "text": [
      "Epoch 139/10000 — Avg Train Loss: 5.5872 | Avg Val Loss:   7.5956 | LR: 1.00e-02\n"
     ]
    },
    {
     "name": "stderr",
     "output_type": "stream",
     "text": [
      "                                                                                           \r"
     ]
    },
    {
     "name": "stdout",
     "output_type": "stream",
     "text": [
      "Epoch 140/10000 — Avg Train Loss: 5.5660 | Avg Val Loss:   8.2261 | LR: 1.00e-02\n"
     ]
    },
    {
     "name": "stderr",
     "output_type": "stream",
     "text": [
      "                                                                                           \r"
     ]
    },
    {
     "name": "stdout",
     "output_type": "stream",
     "text": [
      "Epoch 141/10000 — Avg Train Loss: 5.5520 | Avg Val Loss:   7.6931 | LR: 1.00e-02\n"
     ]
    },
    {
     "name": "stderr",
     "output_type": "stream",
     "text": [
      "                                                                                           \r"
     ]
    },
    {
     "name": "stdout",
     "output_type": "stream",
     "text": [
      "Epoch 142/10000 — Avg Train Loss: 5.5558 | Avg Val Loss:   7.8441 | LR: 1.00e-02\n"
     ]
    },
    {
     "name": "stderr",
     "output_type": "stream",
     "text": [
      "                                                                                           \r"
     ]
    },
    {
     "name": "stdout",
     "output_type": "stream",
     "text": [
      "Epoch 143/10000 — Avg Train Loss: 5.5289 | Avg Val Loss:   7.8486 | LR: 1.00e-02\n"
     ]
    },
    {
     "name": "stderr",
     "output_type": "stream",
     "text": [
      "                                                                                           \r"
     ]
    },
    {
     "name": "stdout",
     "output_type": "stream",
     "text": [
      "Epoch 144/10000 — Avg Train Loss: 5.5113 | Avg Val Loss:   7.9036 | LR: 1.00e-02\n"
     ]
    },
    {
     "name": "stderr",
     "output_type": "stream",
     "text": [
      "                                                                                           \r"
     ]
    },
    {
     "name": "stdout",
     "output_type": "stream",
     "text": [
      "Epoch 145/10000 — Avg Train Loss: 5.5093 | Avg Val Loss:   8.1926 | LR: 1.00e-02\n"
     ]
    },
    {
     "name": "stderr",
     "output_type": "stream",
     "text": [
      "                                                                                           \r"
     ]
    },
    {
     "name": "stdout",
     "output_type": "stream",
     "text": [
      "Epoch 146/10000 — Avg Train Loss: 5.5113 | Avg Val Loss:   7.7671 | LR: 1.00e-02\n"
     ]
    },
    {
     "name": "stderr",
     "output_type": "stream",
     "text": [
      "                                                                                           \r"
     ]
    },
    {
     "name": "stdout",
     "output_type": "stream",
     "text": [
      "Epoch 147/10000 — Avg Train Loss: 5.5059 | Avg Val Loss:   8.0882 | LR: 1.00e-02\n"
     ]
    },
    {
     "name": "stderr",
     "output_type": "stream",
     "text": [
      "                                                                                           \r"
     ]
    },
    {
     "name": "stdout",
     "output_type": "stream",
     "text": [
      "Epoch 148/10000 — Avg Train Loss: 5.4907 | Avg Val Loss:   8.1930 | LR: 1.00e-02\n"
     ]
    },
    {
     "name": "stderr",
     "output_type": "stream",
     "text": [
      "                                                                                           \r"
     ]
    },
    {
     "name": "stdout",
     "output_type": "stream",
     "text": [
      "Epoch 149/10000 — Avg Train Loss: 5.4909 | Avg Val Loss:   7.9506 | LR: 1.00e-02\n"
     ]
    },
    {
     "name": "stderr",
     "output_type": "stream",
     "text": [
      "                                                                                           \r"
     ]
    },
    {
     "name": "stdout",
     "output_type": "stream",
     "text": [
      "Epoch 150/10000 — Avg Train Loss: 5.4663 | Avg Val Loss:   7.8202 | LR: 1.00e-02\n"
     ]
    },
    {
     "name": "stderr",
     "output_type": "stream",
     "text": [
      "                                                                                           \r"
     ]
    },
    {
     "name": "stdout",
     "output_type": "stream",
     "text": [
      "Epoch 151/10000 — Avg Train Loss: 5.4547 | Avg Val Loss:   7.6825 | LR: 1.00e-02\n"
     ]
    },
    {
     "name": "stderr",
     "output_type": "stream",
     "text": [
      "                                                                                           \r"
     ]
    },
    {
     "name": "stdout",
     "output_type": "stream",
     "text": [
      "Epoch 152/10000 — Avg Train Loss: 5.4753 | Avg Val Loss:   7.9226 | LR: 1.00e-02\n"
     ]
    },
    {
     "name": "stderr",
     "output_type": "stream",
     "text": [
      "                                                                                           \r"
     ]
    },
    {
     "name": "stdout",
     "output_type": "stream",
     "text": [
      "Epoch 153/10000 — Avg Train Loss: 5.4350 | Avg Val Loss:   8.2963 | LR: 1.00e-02\n"
     ]
    },
    {
     "name": "stderr",
     "output_type": "stream",
     "text": [
      "                                                                                           \r"
     ]
    },
    {
     "name": "stdout",
     "output_type": "stream",
     "text": [
      "Epoch 154/10000 — Avg Train Loss: 5.4448 | Avg Val Loss:   7.7993 | LR: 1.00e-02\n"
     ]
    },
    {
     "name": "stderr",
     "output_type": "stream",
     "text": [
      "                                                                                           \r"
     ]
    },
    {
     "name": "stdout",
     "output_type": "stream",
     "text": [
      "Epoch 155/10000 — Avg Train Loss: 5.4217 | Avg Val Loss:   8.0461 | LR: 1.00e-02\n"
     ]
    },
    {
     "name": "stderr",
     "output_type": "stream",
     "text": [
      "                                                                                           \r"
     ]
    },
    {
     "name": "stdout",
     "output_type": "stream",
     "text": [
      "Epoch 156/10000 — Avg Train Loss: 5.4306 | Avg Val Loss:   8.2684 | LR: 1.00e-02\n"
     ]
    },
    {
     "name": "stderr",
     "output_type": "stream",
     "text": [
      "                                                                                           \r"
     ]
    },
    {
     "name": "stdout",
     "output_type": "stream",
     "text": [
      "Epoch 157/10000 — Avg Train Loss: 5.4388 | Avg Val Loss:   8.0854 | LR: 1.00e-02\n"
     ]
    },
    {
     "name": "stderr",
     "output_type": "stream",
     "text": [
      "                                                                                           \r"
     ]
    },
    {
     "name": "stdout",
     "output_type": "stream",
     "text": [
      "Epoch 158/10000 — Avg Train Loss: 5.4422 | Avg Val Loss:   7.5744 | LR: 1.00e-02\n"
     ]
    },
    {
     "name": "stderr",
     "output_type": "stream",
     "text": [
      "                                                                                           \r"
     ]
    },
    {
     "name": "stdout",
     "output_type": "stream",
     "text": [
      "Epoch 159/10000 — Avg Train Loss: 5.4277 | Avg Val Loss:   7.9811 | LR: 1.00e-02\n"
     ]
    },
    {
     "name": "stderr",
     "output_type": "stream",
     "text": [
      "                                                                                           \r"
     ]
    },
    {
     "name": "stdout",
     "output_type": "stream",
     "text": [
      "Epoch 160/10000 — Avg Train Loss: 5.4215 | Avg Val Loss:   7.7836 | LR: 1.00e-02\n"
     ]
    },
    {
     "name": "stderr",
     "output_type": "stream",
     "text": [
      "                                                                                           \r"
     ]
    },
    {
     "name": "stdout",
     "output_type": "stream",
     "text": [
      "Epoch 161/10000 — Avg Train Loss: 5.4071 | Avg Val Loss:   8.3546 | LR: 1.00e-02\n"
     ]
    },
    {
     "name": "stderr",
     "output_type": "stream",
     "text": [
      "                                                                                           \r"
     ]
    },
    {
     "name": "stdout",
     "output_type": "stream",
     "text": [
      "Epoch 162/10000 — Avg Train Loss: 5.3897 | Avg Val Loss:   8.0739 | LR: 1.00e-02\n"
     ]
    },
    {
     "name": "stderr",
     "output_type": "stream",
     "text": [
      "                                                                                           \r"
     ]
    },
    {
     "name": "stdout",
     "output_type": "stream",
     "text": [
      "Epoch 163/10000 — Avg Train Loss: 5.4535 | Avg Val Loss:   7.5607 | LR: 1.00e-02\n"
     ]
    },
    {
     "name": "stderr",
     "output_type": "stream",
     "text": [
      "                                                                                           \r"
     ]
    },
    {
     "name": "stdout",
     "output_type": "stream",
     "text": [
      "Epoch 164/10000 — Avg Train Loss: 5.3914 | Avg Val Loss:   8.2076 | LR: 1.00e-02\n"
     ]
    },
    {
     "name": "stderr",
     "output_type": "stream",
     "text": [
      "                                                                                           \r"
     ]
    },
    {
     "name": "stdout",
     "output_type": "stream",
     "text": [
      "Epoch 165/10000 — Avg Train Loss: 5.3552 | Avg Val Loss:   8.0832 | LR: 1.00e-02\n"
     ]
    },
    {
     "name": "stderr",
     "output_type": "stream",
     "text": [
      "                                                                                           \r"
     ]
    },
    {
     "name": "stdout",
     "output_type": "stream",
     "text": [
      "Epoch 166/10000 — Avg Train Loss: 5.3661 | Avg Val Loss:   8.0422 | LR: 1.00e-02\n"
     ]
    },
    {
     "name": "stderr",
     "output_type": "stream",
     "text": [
      "                                                                                           \r"
     ]
    },
    {
     "name": "stdout",
     "output_type": "stream",
     "text": [
      "Epoch 167/10000 — Avg Train Loss: 5.3618 | Avg Val Loss:   8.5794 | LR: 1.00e-02\n"
     ]
    },
    {
     "name": "stderr",
     "output_type": "stream",
     "text": [
      "                                                                                           \r"
     ]
    },
    {
     "name": "stdout",
     "output_type": "stream",
     "text": [
      "Epoch 168/10000 — Avg Train Loss: 5.3552 | Avg Val Loss:   8.2640 | LR: 1.00e-02\n"
     ]
    },
    {
     "name": "stderr",
     "output_type": "stream",
     "text": [
      "                                                                                           \r"
     ]
    },
    {
     "name": "stdout",
     "output_type": "stream",
     "text": [
      "Epoch 169/10000 — Avg Train Loss: 5.3294 | Avg Val Loss:   8.0452 | LR: 1.00e-02\n"
     ]
    },
    {
     "name": "stderr",
     "output_type": "stream",
     "text": [
      "                                                                                           \r"
     ]
    },
    {
     "name": "stdout",
     "output_type": "stream",
     "text": [
      "Epoch 170/10000 — Avg Train Loss: 5.3495 | Avg Val Loss:   8.0402 | LR: 1.00e-02\n"
     ]
    },
    {
     "name": "stderr",
     "output_type": "stream",
     "text": [
      "                                                                                           \r"
     ]
    },
    {
     "name": "stdout",
     "output_type": "stream",
     "text": [
      "Epoch 171/10000 — Avg Train Loss: 5.3463 | Avg Val Loss:   7.8887 | LR: 1.00e-02\n"
     ]
    },
    {
     "name": "stderr",
     "output_type": "stream",
     "text": [
      "                                                                                           \r"
     ]
    },
    {
     "name": "stdout",
     "output_type": "stream",
     "text": [
      "Epoch 172/10000 — Avg Train Loss: 5.3449 | Avg Val Loss:   8.2926 | LR: 1.00e-02\n"
     ]
    },
    {
     "name": "stderr",
     "output_type": "stream",
     "text": [
      "                                                                                           \r"
     ]
    },
    {
     "name": "stdout",
     "output_type": "stream",
     "text": [
      "Epoch 173/10000 — Avg Train Loss: 5.3254 | Avg Val Loss:   7.8604 | LR: 1.00e-02\n"
     ]
    },
    {
     "name": "stderr",
     "output_type": "stream",
     "text": [
      "                                                                                           \r"
     ]
    },
    {
     "name": "stdout",
     "output_type": "stream",
     "text": [
      "Epoch 174/10000 — Avg Train Loss: 5.3023 | Avg Val Loss:   7.9919 | LR: 1.00e-02\n"
     ]
    },
    {
     "name": "stderr",
     "output_type": "stream",
     "text": [
      "                                                                                           \r"
     ]
    },
    {
     "name": "stdout",
     "output_type": "stream",
     "text": [
      "Epoch 175/10000 — Avg Train Loss: 5.2925 | Avg Val Loss:   8.5420 | LR: 1.00e-02\n"
     ]
    },
    {
     "name": "stderr",
     "output_type": "stream",
     "text": [
      "                                                                                           \r"
     ]
    },
    {
     "name": "stdout",
     "output_type": "stream",
     "text": [
      "Epoch 176/10000 — Avg Train Loss: 5.2685 | Avg Val Loss:   8.0527 | LR: 1.00e-02\n"
     ]
    },
    {
     "name": "stderr",
     "output_type": "stream",
     "text": [
      "                                                                                           \r"
     ]
    },
    {
     "name": "stdout",
     "output_type": "stream",
     "text": [
      "Epoch 177/10000 — Avg Train Loss: 5.2934 | Avg Val Loss:   8.0550 | LR: 1.00e-02\n"
     ]
    },
    {
     "name": "stderr",
     "output_type": "stream",
     "text": [
      "                                                                                           \r"
     ]
    },
    {
     "name": "stdout",
     "output_type": "stream",
     "text": [
      "Epoch 178/10000 — Avg Train Loss: 5.2941 | Avg Val Loss:   7.7596 | LR: 1.00e-02\n"
     ]
    },
    {
     "name": "stderr",
     "output_type": "stream",
     "text": [
      "                                                                                           \r"
     ]
    },
    {
     "name": "stdout",
     "output_type": "stream",
     "text": [
      "Epoch 179/10000 — Avg Train Loss: 5.2812 | Avg Val Loss:   8.0800 | LR: 1.00e-02\n"
     ]
    },
    {
     "name": "stderr",
     "output_type": "stream",
     "text": [
      "                                                                                           \r"
     ]
    },
    {
     "name": "stdout",
     "output_type": "stream",
     "text": [
      "Epoch 180/10000 — Avg Train Loss: 5.2838 | Avg Val Loss:   8.0148 | LR: 1.00e-02\n"
     ]
    },
    {
     "name": "stderr",
     "output_type": "stream",
     "text": [
      "                                                                                           \r"
     ]
    },
    {
     "name": "stdout",
     "output_type": "stream",
     "text": [
      "Epoch 181/10000 — Avg Train Loss: 5.2816 | Avg Val Loss:   8.2974 | LR: 1.00e-02\n"
     ]
    },
    {
     "name": "stderr",
     "output_type": "stream",
     "text": [
      "                                                                                           \r"
     ]
    },
    {
     "name": "stdout",
     "output_type": "stream",
     "text": [
      "Epoch 182/10000 — Avg Train Loss: 5.2566 | Avg Val Loss:   8.4851 | LR: 1.00e-02\n"
     ]
    },
    {
     "name": "stderr",
     "output_type": "stream",
     "text": [
      "                                                                                           \r"
     ]
    },
    {
     "name": "stdout",
     "output_type": "stream",
     "text": [
      "Epoch 183/10000 — Avg Train Loss: 5.2538 | Avg Val Loss:   8.3708 | LR: 1.00e-02\n"
     ]
    },
    {
     "name": "stderr",
     "output_type": "stream",
     "text": [
      "                                                                                           \r"
     ]
    },
    {
     "name": "stdout",
     "output_type": "stream",
     "text": [
      "Epoch 184/10000 — Avg Train Loss: 5.2508 | Avg Val Loss:   7.9187 | LR: 1.00e-02\n"
     ]
    },
    {
     "name": "stderr",
     "output_type": "stream",
     "text": [
      "                                                                                           \r"
     ]
    },
    {
     "name": "stdout",
     "output_type": "stream",
     "text": [
      "Epoch 185/10000 — Avg Train Loss: 5.2914 | Avg Val Loss:   8.2491 | LR: 1.00e-02\n"
     ]
    },
    {
     "name": "stderr",
     "output_type": "stream",
     "text": [
      "                                                                                           \r"
     ]
    },
    {
     "name": "stdout",
     "output_type": "stream",
     "text": [
      "Epoch 186/10000 — Avg Train Loss: 5.2423 | Avg Val Loss:   7.9624 | LR: 1.00e-02\n"
     ]
    },
    {
     "name": "stderr",
     "output_type": "stream",
     "text": [
      "                                                                                           \r"
     ]
    },
    {
     "name": "stdout",
     "output_type": "stream",
     "text": [
      "Epoch 187/10000 — Avg Train Loss: 5.2315 | Avg Val Loss:   8.6583 | LR: 1.00e-02\n"
     ]
    },
    {
     "name": "stderr",
     "output_type": "stream",
     "text": [
      "                                                                                           \r"
     ]
    },
    {
     "name": "stdout",
     "output_type": "stream",
     "text": [
      "Epoch 188/10000 — Avg Train Loss: 5.2131 | Avg Val Loss:   8.0489 | LR: 1.00e-02\n"
     ]
    },
    {
     "name": "stderr",
     "output_type": "stream",
     "text": [
      "                                                                                           \r"
     ]
    },
    {
     "name": "stdout",
     "output_type": "stream",
     "text": [
      "Epoch 189/10000 — Avg Train Loss: 5.2167 | Avg Val Loss:   8.3207 | LR: 1.00e-02\n"
     ]
    },
    {
     "name": "stderr",
     "output_type": "stream",
     "text": [
      "                                                                                           \r"
     ]
    },
    {
     "name": "stdout",
     "output_type": "stream",
     "text": [
      "Epoch 190/10000 — Avg Train Loss: 5.2341 | Avg Val Loss:   7.7084 | LR: 1.00e-02\n"
     ]
    },
    {
     "name": "stderr",
     "output_type": "stream",
     "text": [
      "                                                                                           \r"
     ]
    },
    {
     "name": "stdout",
     "output_type": "stream",
     "text": [
      "Epoch 191/10000 — Avg Train Loss: 5.2312 | Avg Val Loss:   7.9768 | LR: 1.00e-02\n"
     ]
    },
    {
     "name": "stderr",
     "output_type": "stream",
     "text": [
      "                                                                                           \r"
     ]
    },
    {
     "name": "stdout",
     "output_type": "stream",
     "text": [
      "Epoch 192/10000 — Avg Train Loss: 5.2398 | Avg Val Loss:   8.2130 | LR: 9.99e-03\n"
     ]
    },
    {
     "name": "stderr",
     "output_type": "stream",
     "text": [
      "                                                                                           \r"
     ]
    },
    {
     "name": "stdout",
     "output_type": "stream",
     "text": [
      "Epoch 193/10000 — Avg Train Loss: 5.2304 | Avg Val Loss:   8.2158 | LR: 9.99e-03\n"
     ]
    },
    {
     "name": "stderr",
     "output_type": "stream",
     "text": [
      "                                                                                           \r"
     ]
    },
    {
     "name": "stdout",
     "output_type": "stream",
     "text": [
      "Epoch 194/10000 — Avg Train Loss: 5.2335 | Avg Val Loss:   8.0992 | LR: 9.99e-03\n"
     ]
    },
    {
     "name": "stderr",
     "output_type": "stream",
     "text": [
      "                                                                                           \r"
     ]
    },
    {
     "name": "stdout",
     "output_type": "stream",
     "text": [
      "Epoch 195/10000 — Avg Train Loss: 5.2062 | Avg Val Loss:   7.9190 | LR: 9.99e-03\n"
     ]
    },
    {
     "name": "stderr",
     "output_type": "stream",
     "text": [
      "                                                                                           \r"
     ]
    },
    {
     "name": "stdout",
     "output_type": "stream",
     "text": [
      "Epoch 196/10000 — Avg Train Loss: 5.2498 | Avg Val Loss:   8.0501 | LR: 9.99e-03\n"
     ]
    },
    {
     "name": "stderr",
     "output_type": "stream",
     "text": [
      "                                                                                           \r"
     ]
    },
    {
     "name": "stdout",
     "output_type": "stream",
     "text": [
      "Epoch 197/10000 — Avg Train Loss: 5.1889 | Avg Val Loss:   8.3959 | LR: 9.99e-03\n"
     ]
    },
    {
     "name": "stderr",
     "output_type": "stream",
     "text": [
      "                                                                                           \r"
     ]
    },
    {
     "name": "stdout",
     "output_type": "stream",
     "text": [
      "Epoch 198/10000 — Avg Train Loss: 5.2035 | Avg Val Loss:   9.0550 | LR: 9.99e-03\n"
     ]
    },
    {
     "name": "stderr",
     "output_type": "stream",
     "text": [
      "                                                                                           \r"
     ]
    },
    {
     "name": "stdout",
     "output_type": "stream",
     "text": [
      "Epoch 199/10000 — Avg Train Loss: 5.1594 | Avg Val Loss:   8.2721 | LR: 9.99e-03\n"
     ]
    },
    {
     "name": "stderr",
     "output_type": "stream",
     "text": [
      "                                                                                           \r"
     ]
    },
    {
     "name": "stdout",
     "output_type": "stream",
     "text": [
      "Epoch 200/10000 — Avg Train Loss: 5.1761 | Avg Val Loss:   8.1942 | LR: 9.99e-03\n"
     ]
    },
    {
     "name": "stderr",
     "output_type": "stream",
     "text": [
      "                                                                                           \r"
     ]
    },
    {
     "name": "stdout",
     "output_type": "stream",
     "text": [
      "Epoch 201/10000 — Avg Train Loss: 5.1711 | Avg Val Loss:   8.3606 | LR: 9.99e-03\n"
     ]
    },
    {
     "name": "stderr",
     "output_type": "stream",
     "text": [
      "                                                                                           \r"
     ]
    },
    {
     "name": "stdout",
     "output_type": "stream",
     "text": [
      "Epoch 202/10000 — Avg Train Loss: 5.1989 | Avg Val Loss:   8.1030 | LR: 9.99e-03\n"
     ]
    },
    {
     "name": "stderr",
     "output_type": "stream",
     "text": [
      "                                                                                           \r"
     ]
    },
    {
     "name": "stdout",
     "output_type": "stream",
     "text": [
      "Epoch 203/10000 — Avg Train Loss: 5.1664 | Avg Val Loss:   8.3574 | LR: 9.99e-03\n"
     ]
    },
    {
     "name": "stderr",
     "output_type": "stream",
     "text": [
      "                                                                                           \r"
     ]
    },
    {
     "name": "stdout",
     "output_type": "stream",
     "text": [
      "Epoch 204/10000 — Avg Train Loss: 5.1531 | Avg Val Loss:   8.3257 | LR: 9.99e-03\n"
     ]
    },
    {
     "name": "stderr",
     "output_type": "stream",
     "text": [
      "                                                                                           \r"
     ]
    },
    {
     "name": "stdout",
     "output_type": "stream",
     "text": [
      "Epoch 205/10000 — Avg Train Loss: 5.1707 | Avg Val Loss:   8.4868 | LR: 9.99e-03\n"
     ]
    },
    {
     "name": "stderr",
     "output_type": "stream",
     "text": [
      "                                                                                           \r"
     ]
    },
    {
     "name": "stdout",
     "output_type": "stream",
     "text": [
      "Epoch 206/10000 — Avg Train Loss: 5.1519 | Avg Val Loss:   8.2927 | LR: 9.99e-03\n"
     ]
    },
    {
     "name": "stderr",
     "output_type": "stream",
     "text": [
      "                                                                                           \r"
     ]
    },
    {
     "name": "stdout",
     "output_type": "stream",
     "text": [
      "Epoch 207/10000 — Avg Train Loss: 5.1882 | Avg Val Loss:   8.4116 | LR: 9.99e-03\n"
     ]
    },
    {
     "name": "stderr",
     "output_type": "stream",
     "text": [
      "                                                                                           \r"
     ]
    },
    {
     "name": "stdout",
     "output_type": "stream",
     "text": [
      "Epoch 208/10000 — Avg Train Loss: 5.1862 | Avg Val Loss:   8.1376 | LR: 9.99e-03\n"
     ]
    },
    {
     "name": "stderr",
     "output_type": "stream",
     "text": [
      "                                                                                           \r"
     ]
    },
    {
     "name": "stdout",
     "output_type": "stream",
     "text": [
      "Epoch 209/10000 — Avg Train Loss: 5.2012 | Avg Val Loss:   8.5070 | LR: 9.99e-03\n"
     ]
    },
    {
     "name": "stderr",
     "output_type": "stream",
     "text": [
      "                                                                                           \r"
     ]
    },
    {
     "name": "stdout",
     "output_type": "stream",
     "text": [
      "Epoch 210/10000 — Avg Train Loss: 5.1698 | Avg Val Loss:   8.6909 | LR: 9.99e-03\n"
     ]
    },
    {
     "name": "stderr",
     "output_type": "stream",
     "text": [
      "                                                                                           \r"
     ]
    },
    {
     "name": "stdout",
     "output_type": "stream",
     "text": [
      "Epoch 211/10000 — Avg Train Loss: 5.1663 | Avg Val Loss:   8.4949 | LR: 9.99e-03\n"
     ]
    },
    {
     "name": "stderr",
     "output_type": "stream",
     "text": [
      "                                                                                           \r"
     ]
    },
    {
     "name": "stdout",
     "output_type": "stream",
     "text": [
      "Epoch 212/10000 — Avg Train Loss: 5.1872 | Avg Val Loss:   8.2041 | LR: 9.99e-03\n"
     ]
    },
    {
     "name": "stderr",
     "output_type": "stream",
     "text": [
      "                                                                                           \r"
     ]
    },
    {
     "name": "stdout",
     "output_type": "stream",
     "text": [
      "Epoch 213/10000 — Avg Train Loss: 5.1406 | Avg Val Loss:   8.9336 | LR: 9.99e-03\n"
     ]
    },
    {
     "name": "stderr",
     "output_type": "stream",
     "text": [
      "                                                                                           \r"
     ]
    },
    {
     "name": "stdout",
     "output_type": "stream",
     "text": [
      "Epoch 214/10000 — Avg Train Loss: 5.1509 | Avg Val Loss:   8.6112 | LR: 9.99e-03\n"
     ]
    },
    {
     "name": "stderr",
     "output_type": "stream",
     "text": [
      "                                                                                           \r"
     ]
    },
    {
     "name": "stdout",
     "output_type": "stream",
     "text": [
      "Epoch 215/10000 — Avg Train Loss: 5.1439 | Avg Val Loss:   8.2397 | LR: 9.99e-03\n"
     ]
    },
    {
     "name": "stderr",
     "output_type": "stream",
     "text": [
      "                                                                                           \r"
     ]
    },
    {
     "name": "stdout",
     "output_type": "stream",
     "text": [
      "Epoch 216/10000 — Avg Train Loss: 5.1812 | Avg Val Loss:   8.1230 | LR: 9.99e-03\n"
     ]
    },
    {
     "name": "stderr",
     "output_type": "stream",
     "text": [
      "                                                                                           \r"
     ]
    },
    {
     "name": "stdout",
     "output_type": "stream",
     "text": [
      "Epoch 217/10000 — Avg Train Loss: 5.1588 | Avg Val Loss:   8.3886 | LR: 9.99e-03\n"
     ]
    },
    {
     "name": "stderr",
     "output_type": "stream",
     "text": [
      "                                                                                           \r"
     ]
    },
    {
     "name": "stdout",
     "output_type": "stream",
     "text": [
      "Epoch 218/10000 — Avg Train Loss: 5.1596 | Avg Val Loss:   7.9957 | LR: 9.99e-03\n"
     ]
    },
    {
     "name": "stderr",
     "output_type": "stream",
     "text": [
      "                                                                                           \r"
     ]
    },
    {
     "name": "stdout",
     "output_type": "stream",
     "text": [
      "Epoch 219/10000 — Avg Train Loss: 5.1621 | Avg Val Loss:   8.7139 | LR: 9.99e-03\n"
     ]
    },
    {
     "name": "stderr",
     "output_type": "stream",
     "text": [
      "                                                                                           \r"
     ]
    },
    {
     "name": "stdout",
     "output_type": "stream",
     "text": [
      "Epoch 220/10000 — Avg Train Loss: 5.1417 | Avg Val Loss:   8.2096 | LR: 9.99e-03\n"
     ]
    },
    {
     "name": "stderr",
     "output_type": "stream",
     "text": [
      "                                                                                           \r"
     ]
    },
    {
     "name": "stdout",
     "output_type": "stream",
     "text": [
      "Epoch 221/10000 — Avg Train Loss: 5.1595 | Avg Val Loss:   8.1260 | LR: 9.99e-03\n"
     ]
    },
    {
     "name": "stderr",
     "output_type": "stream",
     "text": [
      "                                                                                           \r"
     ]
    },
    {
     "name": "stdout",
     "output_type": "stream",
     "text": [
      "Epoch 222/10000 — Avg Train Loss: 5.1084 | Avg Val Loss:   8.5061 | LR: 9.99e-03\n"
     ]
    },
    {
     "name": "stderr",
     "output_type": "stream",
     "text": [
      "                                                                                           \r"
     ]
    },
    {
     "name": "stdout",
     "output_type": "stream",
     "text": [
      "Epoch 223/10000 — Avg Train Loss: 5.1201 | Avg Val Loss:   8.9377 | LR: 9.99e-03\n"
     ]
    },
    {
     "name": "stderr",
     "output_type": "stream",
     "text": [
      "                                                                                           \r"
     ]
    },
    {
     "name": "stdout",
     "output_type": "stream",
     "text": [
      "Epoch 224/10000 — Avg Train Loss: 5.1127 | Avg Val Loss:   8.6873 | LR: 9.99e-03\n"
     ]
    },
    {
     "name": "stderr",
     "output_type": "stream",
     "text": [
      "                                                                                           \r"
     ]
    },
    {
     "name": "stdout",
     "output_type": "stream",
     "text": [
      "Epoch 225/10000 — Avg Train Loss: 5.1017 | Avg Val Loss:   8.1789 | LR: 9.99e-03\n"
     ]
    },
    {
     "name": "stderr",
     "output_type": "stream",
     "text": [
      "                                                                                           \r"
     ]
    },
    {
     "name": "stdout",
     "output_type": "stream",
     "text": [
      "Epoch 226/10000 — Avg Train Loss: 5.0724 | Avg Val Loss:   8.3699 | LR: 9.99e-03\n"
     ]
    },
    {
     "name": "stderr",
     "output_type": "stream",
     "text": [
      "                                                                                           \r"
     ]
    },
    {
     "name": "stdout",
     "output_type": "stream",
     "text": [
      "Epoch 227/10000 — Avg Train Loss: 5.0415 | Avg Val Loss:   8.7153 | LR: 9.99e-03\n"
     ]
    },
    {
     "name": "stderr",
     "output_type": "stream",
     "text": [
      "                                                                                           \r"
     ]
    },
    {
     "name": "stdout",
     "output_type": "stream",
     "text": [
      "Epoch 228/10000 — Avg Train Loss: 5.0522 | Avg Val Loss:   8.9874 | LR: 9.99e-03\n"
     ]
    },
    {
     "name": "stderr",
     "output_type": "stream",
     "text": [
      "                                                                                           \r"
     ]
    },
    {
     "name": "stdout",
     "output_type": "stream",
     "text": [
      "Epoch 229/10000 — Avg Train Loss: 5.0479 | Avg Val Loss:   8.2127 | LR: 9.99e-03\n"
     ]
    },
    {
     "name": "stderr",
     "output_type": "stream",
     "text": [
      "                                                                                           \r"
     ]
    },
    {
     "name": "stdout",
     "output_type": "stream",
     "text": [
      "Epoch 230/10000 — Avg Train Loss: 5.0773 | Avg Val Loss:   8.7468 | LR: 9.99e-03\n"
     ]
    },
    {
     "name": "stderr",
     "output_type": "stream",
     "text": [
      "                                                                                           \r"
     ]
    },
    {
     "name": "stdout",
     "output_type": "stream",
     "text": [
      "Epoch 231/10000 — Avg Train Loss: 5.0847 | Avg Val Loss:   8.4998 | LR: 9.99e-03\n"
     ]
    },
    {
     "name": "stderr",
     "output_type": "stream",
     "text": [
      "                                                                                           \r"
     ]
    },
    {
     "name": "stdout",
     "output_type": "stream",
     "text": [
      "Epoch 232/10000 — Avg Train Loss: 5.0681 | Avg Val Loss:   8.6649 | LR: 9.99e-03\n"
     ]
    },
    {
     "name": "stderr",
     "output_type": "stream",
     "text": [
      "                                                                                           \r"
     ]
    },
    {
     "name": "stdout",
     "output_type": "stream",
     "text": [
      "Epoch 233/10000 — Avg Train Loss: 5.0753 | Avg Val Loss:   8.8795 | LR: 9.99e-03\n"
     ]
    },
    {
     "name": "stderr",
     "output_type": "stream",
     "text": [
      "                                                                                           \r"
     ]
    },
    {
     "name": "stdout",
     "output_type": "stream",
     "text": [
      "Epoch 234/10000 — Avg Train Loss: 5.1175 | Avg Val Loss:   8.3044 | LR: 9.99e-03\n"
     ]
    },
    {
     "name": "stderr",
     "output_type": "stream",
     "text": [
      "                                                                                           \r"
     ]
    },
    {
     "name": "stdout",
     "output_type": "stream",
     "text": [
      "Epoch 235/10000 — Avg Train Loss: 5.0745 | Avg Val Loss:   8.4021 | LR: 9.99e-03\n"
     ]
    },
    {
     "name": "stderr",
     "output_type": "stream",
     "text": [
      "                                                                                           \r"
     ]
    },
    {
     "name": "stdout",
     "output_type": "stream",
     "text": [
      "Epoch 236/10000 — Avg Train Loss: 5.0939 | Avg Val Loss:   8.5283 | LR: 9.99e-03\n"
     ]
    },
    {
     "name": "stderr",
     "output_type": "stream",
     "text": [
      "                                                                                           \r"
     ]
    },
    {
     "name": "stdout",
     "output_type": "stream",
     "text": [
      "Epoch 237/10000 — Avg Train Loss: 5.0826 | Avg Val Loss:   9.0676 | LR: 9.99e-03\n"
     ]
    },
    {
     "name": "stderr",
     "output_type": "stream",
     "text": [
      "                                                                                           \r"
     ]
    },
    {
     "name": "stdout",
     "output_type": "stream",
     "text": [
      "Epoch 238/10000 — Avg Train Loss: 5.0489 | Avg Val Loss:   8.7899 | LR: 9.99e-03\n"
     ]
    },
    {
     "name": "stderr",
     "output_type": "stream",
     "text": [
      "                                                                                           \r"
     ]
    },
    {
     "name": "stdout",
     "output_type": "stream",
     "text": [
      "Epoch 239/10000 — Avg Train Loss: 5.0465 | Avg Val Loss:   8.4252 | LR: 9.99e-03\n"
     ]
    },
    {
     "name": "stderr",
     "output_type": "stream",
     "text": [
      "                                                                                           \r"
     ]
    },
    {
     "name": "stdout",
     "output_type": "stream",
     "text": [
      "Epoch 240/10000 — Avg Train Loss: 5.0740 | Avg Val Loss:   8.2386 | LR: 9.99e-03\n"
     ]
    },
    {
     "name": "stderr",
     "output_type": "stream",
     "text": [
      "                                                                                           \r"
     ]
    },
    {
     "name": "stdout",
     "output_type": "stream",
     "text": [
      "Epoch 241/10000 — Avg Train Loss: 5.0501 | Avg Val Loss:   8.4107 | LR: 9.99e-03\n"
     ]
    },
    {
     "name": "stderr",
     "output_type": "stream",
     "text": [
      "                                                                                           \r"
     ]
    },
    {
     "name": "stdout",
     "output_type": "stream",
     "text": [
      "Epoch 242/10000 — Avg Train Loss: 5.0728 | Avg Val Loss:   8.3045 | LR: 9.99e-03\n"
     ]
    },
    {
     "name": "stderr",
     "output_type": "stream",
     "text": [
      "                                                                                           \r"
     ]
    },
    {
     "name": "stdout",
     "output_type": "stream",
     "text": [
      "Epoch 243/10000 — Avg Train Loss: 5.0570 | Avg Val Loss:   8.5311 | LR: 9.99e-03\n"
     ]
    },
    {
     "name": "stderr",
     "output_type": "stream",
     "text": [
      "                                                                                           \r"
     ]
    },
    {
     "name": "stdout",
     "output_type": "stream",
     "text": [
      "Epoch 244/10000 — Avg Train Loss: 5.0494 | Avg Val Loss:   8.1831 | LR: 9.99e-03\n"
     ]
    },
    {
     "name": "stderr",
     "output_type": "stream",
     "text": [
      "                                                                                           \r"
     ]
    },
    {
     "name": "stdout",
     "output_type": "stream",
     "text": [
      "Epoch 245/10000 — Avg Train Loss: 5.0511 | Avg Val Loss:   8.8271 | LR: 9.99e-03\n"
     ]
    },
    {
     "name": "stderr",
     "output_type": "stream",
     "text": [
      "                                                                                           \r"
     ]
    },
    {
     "name": "stdout",
     "output_type": "stream",
     "text": [
      "Epoch 246/10000 — Avg Train Loss: 5.0110 | Avg Val Loss:   8.8695 | LR: 9.99e-03\n"
     ]
    },
    {
     "name": "stderr",
     "output_type": "stream",
     "text": [
      "                                                                                           \r"
     ]
    },
    {
     "name": "stdout",
     "output_type": "stream",
     "text": [
      "Epoch 247/10000 — Avg Train Loss: 5.0221 | Avg Val Loss:   9.1235 | LR: 9.99e-03\n"
     ]
    },
    {
     "name": "stderr",
     "output_type": "stream",
     "text": [
      "                                                                                           \r"
     ]
    },
    {
     "name": "stdout",
     "output_type": "stream",
     "text": [
      "Epoch 248/10000 — Avg Train Loss: 5.0413 | Avg Val Loss:   8.8185 | LR: 9.99e-03\n"
     ]
    },
    {
     "name": "stderr",
     "output_type": "stream",
     "text": [
      "                                                                                           \r"
     ]
    },
    {
     "name": "stdout",
     "output_type": "stream",
     "text": [
      "Epoch 249/10000 — Avg Train Loss: 5.0519 | Avg Val Loss:   8.3228 | LR: 9.99e-03\n"
     ]
    },
    {
     "name": "stderr",
     "output_type": "stream",
     "text": [
      "                                                                                           \r"
     ]
    },
    {
     "name": "stdout",
     "output_type": "stream",
     "text": [
      "Epoch 250/10000 — Avg Train Loss: 5.0147 | Avg Val Loss:   8.7874 | LR: 9.99e-03\n"
     ]
    },
    {
     "name": "stderr",
     "output_type": "stream",
     "text": [
      "                                                                                           \r"
     ]
    },
    {
     "name": "stdout",
     "output_type": "stream",
     "text": [
      "Epoch 251/10000 — Avg Train Loss: 5.0152 | Avg Val Loss:   9.0120 | LR: 9.99e-03\n"
     ]
    },
    {
     "name": "stderr",
     "output_type": "stream",
     "text": [
      "                                                                                           \r"
     ]
    },
    {
     "name": "stdout",
     "output_type": "stream",
     "text": [
      "Epoch 252/10000 — Avg Train Loss: 5.0055 | Avg Val Loss:   8.8498 | LR: 9.99e-03\n"
     ]
    },
    {
     "name": "stderr",
     "output_type": "stream",
     "text": [
      "                                                                                           \r"
     ]
    },
    {
     "name": "stdout",
     "output_type": "stream",
     "text": [
      "Epoch 253/10000 — Avg Train Loss: 4.9775 | Avg Val Loss:   8.5354 | LR: 9.99e-03\n"
     ]
    },
    {
     "name": "stderr",
     "output_type": "stream",
     "text": [
      "                                                                                           \r"
     ]
    },
    {
     "name": "stdout",
     "output_type": "stream",
     "text": [
      "Epoch 254/10000 — Avg Train Loss: 4.9948 | Avg Val Loss:   8.4370 | LR: 9.99e-03\n"
     ]
    },
    {
     "name": "stderr",
     "output_type": "stream",
     "text": [
      "                                                                                           \r"
     ]
    },
    {
     "name": "stdout",
     "output_type": "stream",
     "text": [
      "Epoch 255/10000 — Avg Train Loss: 5.0517 | Avg Val Loss:   8.4250 | LR: 9.99e-03\n"
     ]
    },
    {
     "name": "stderr",
     "output_type": "stream",
     "text": [
      "                                                                                           \r"
     ]
    },
    {
     "name": "stdout",
     "output_type": "stream",
     "text": [
      "Epoch 256/10000 — Avg Train Loss: 4.9994 | Avg Val Loss:   8.2599 | LR: 9.99e-03\n"
     ]
    },
    {
     "name": "stderr",
     "output_type": "stream",
     "text": [
      "                                                                                           \r"
     ]
    },
    {
     "name": "stdout",
     "output_type": "stream",
     "text": [
      "Epoch 257/10000 — Avg Train Loss: 4.9710 | Avg Val Loss:   8.9972 | LR: 9.99e-03\n"
     ]
    },
    {
     "name": "stderr",
     "output_type": "stream",
     "text": [
      "                                                                                           \r"
     ]
    },
    {
     "name": "stdout",
     "output_type": "stream",
     "text": [
      "Epoch 258/10000 — Avg Train Loss: 5.0404 | Avg Val Loss:   8.6502 | LR: 9.99e-03\n"
     ]
    },
    {
     "name": "stderr",
     "output_type": "stream",
     "text": [
      "                                                                                           \r"
     ]
    },
    {
     "name": "stdout",
     "output_type": "stream",
     "text": [
      "Epoch 259/10000 — Avg Train Loss: 5.0297 | Avg Val Loss:   8.4189 | LR: 9.99e-03\n"
     ]
    },
    {
     "name": "stderr",
     "output_type": "stream",
     "text": [
      "                                                                                           \r"
     ]
    },
    {
     "name": "stdout",
     "output_type": "stream",
     "text": [
      "Epoch 260/10000 — Avg Train Loss: 5.0305 | Avg Val Loss:   8.4590 | LR: 9.99e-03\n"
     ]
    },
    {
     "name": "stderr",
     "output_type": "stream",
     "text": [
      "                                                                                           \r"
     ]
    },
    {
     "name": "stdout",
     "output_type": "stream",
     "text": [
      "Epoch 261/10000 — Avg Train Loss: 5.0028 | Avg Val Loss:   8.6835 | LR: 9.99e-03\n"
     ]
    },
    {
     "name": "stderr",
     "output_type": "stream",
     "text": [
      "                                                                                           \r"
     ]
    },
    {
     "name": "stdout",
     "output_type": "stream",
     "text": [
      "Epoch 262/10000 — Avg Train Loss: 5.0143 | Avg Val Loss:   8.8055 | LR: 9.99e-03\n"
     ]
    },
    {
     "name": "stderr",
     "output_type": "stream",
     "text": [
      "                                                                                           \r"
     ]
    },
    {
     "name": "stdout",
     "output_type": "stream",
     "text": [
      "Epoch 263/10000 — Avg Train Loss: 4.9829 | Avg Val Loss:   8.5853 | LR: 9.99e-03\n"
     ]
    },
    {
     "name": "stderr",
     "output_type": "stream",
     "text": [
      "                                                                                           \r"
     ]
    },
    {
     "name": "stdout",
     "output_type": "stream",
     "text": [
      "Epoch 264/10000 — Avg Train Loss: 4.9887 | Avg Val Loss:   8.7006 | LR: 9.99e-03\n"
     ]
    },
    {
     "name": "stderr",
     "output_type": "stream",
     "text": [
      "                                                                                           \r"
     ]
    },
    {
     "name": "stdout",
     "output_type": "stream",
     "text": [
      "Epoch 265/10000 — Avg Train Loss: 4.9405 | Avg Val Loss:   8.9687 | LR: 9.99e-03\n"
     ]
    },
    {
     "name": "stderr",
     "output_type": "stream",
     "text": [
      "                                                                                           \r"
     ]
    },
    {
     "name": "stdout",
     "output_type": "stream",
     "text": [
      "Epoch 266/10000 — Avg Train Loss: 4.9355 | Avg Val Loss:   9.4095 | LR: 9.99e-03\n"
     ]
    },
    {
     "name": "stderr",
     "output_type": "stream",
     "text": [
      "                                                                                           \r"
     ]
    },
    {
     "name": "stdout",
     "output_type": "stream",
     "text": [
      "Epoch 267/10000 — Avg Train Loss: 4.9637 | Avg Val Loss:   9.3229 | LR: 9.99e-03\n"
     ]
    },
    {
     "name": "stderr",
     "output_type": "stream",
     "text": [
      "                                                                                           \r"
     ]
    },
    {
     "name": "stdout",
     "output_type": "stream",
     "text": [
      "Epoch 268/10000 — Avg Train Loss: 4.9491 | Avg Val Loss:   9.0718 | LR: 9.99e-03\n"
     ]
    },
    {
     "name": "stderr",
     "output_type": "stream",
     "text": [
      "                                                                                           \r"
     ]
    },
    {
     "name": "stdout",
     "output_type": "stream",
     "text": [
      "Epoch 269/10000 — Avg Train Loss: 4.9401 | Avg Val Loss:   9.1215 | LR: 9.99e-03\n"
     ]
    },
    {
     "name": "stderr",
     "output_type": "stream",
     "text": [
      "                                                                                           \r"
     ]
    },
    {
     "name": "stdout",
     "output_type": "stream",
     "text": [
      "Epoch 270/10000 — Avg Train Loss: 4.9432 | Avg Val Loss:   8.8424 | LR: 9.99e-03\n"
     ]
    },
    {
     "name": "stderr",
     "output_type": "stream",
     "text": [
      "                                                                                           \r"
     ]
    },
    {
     "name": "stdout",
     "output_type": "stream",
     "text": [
      "Epoch 271/10000 — Avg Train Loss: 4.9209 | Avg Val Loss:   9.2912 | LR: 9.99e-03\n"
     ]
    },
    {
     "name": "stderr",
     "output_type": "stream",
     "text": [
      "                                                                                           \r"
     ]
    },
    {
     "name": "stdout",
     "output_type": "stream",
     "text": [
      "Epoch 272/10000 — Avg Train Loss: 4.9221 | Avg Val Loss:   8.8445 | LR: 9.99e-03\n"
     ]
    },
    {
     "name": "stderr",
     "output_type": "stream",
     "text": [
      "                                                                                           \r"
     ]
    },
    {
     "name": "stdout",
     "output_type": "stream",
     "text": [
      "Epoch 273/10000 — Avg Train Loss: 4.9126 | Avg Val Loss:   9.0736 | LR: 9.99e-03\n"
     ]
    },
    {
     "name": "stderr",
     "output_type": "stream",
     "text": [
      "                                                                                           \r"
     ]
    },
    {
     "name": "stdout",
     "output_type": "stream",
     "text": [
      "Epoch 274/10000 — Avg Train Loss: 4.9350 | Avg Val Loss:   8.7367 | LR: 9.99e-03\n"
     ]
    },
    {
     "name": "stderr",
     "output_type": "stream",
     "text": [
      "                                                                                           \r"
     ]
    },
    {
     "name": "stdout",
     "output_type": "stream",
     "text": [
      "Epoch 275/10000 — Avg Train Loss: 4.9568 | Avg Val Loss:   9.1291 | LR: 9.99e-03\n"
     ]
    },
    {
     "name": "stderr",
     "output_type": "stream",
     "text": [
      "                                                                                           \r"
     ]
    },
    {
     "name": "stdout",
     "output_type": "stream",
     "text": [
      "Epoch 276/10000 — Avg Train Loss: 4.9365 | Avg Val Loss:   8.4835 | LR: 9.99e-03\n"
     ]
    },
    {
     "name": "stderr",
     "output_type": "stream",
     "text": [
      "                                                                                           \r"
     ]
    },
    {
     "name": "stdout",
     "output_type": "stream",
     "text": [
      "Epoch 277/10000 — Avg Train Loss: 4.9447 | Avg Val Loss:   9.1735 | LR: 9.99e-03\n"
     ]
    },
    {
     "name": "stderr",
     "output_type": "stream",
     "text": [
      "                                                                                           \r"
     ]
    },
    {
     "name": "stdout",
     "output_type": "stream",
     "text": [
      "Epoch 278/10000 — Avg Train Loss: 4.9523 | Avg Val Loss:   8.7828 | LR: 9.99e-03\n"
     ]
    },
    {
     "name": "stderr",
     "output_type": "stream",
     "text": [
      "                                                                                           \r"
     ]
    },
    {
     "name": "stdout",
     "output_type": "stream",
     "text": [
      "Epoch 279/10000 — Avg Train Loss: 4.9347 | Avg Val Loss:   9.0107 | LR: 9.99e-03\n"
     ]
    },
    {
     "name": "stderr",
     "output_type": "stream",
     "text": [
      "                                                                                           \r"
     ]
    },
    {
     "name": "stdout",
     "output_type": "stream",
     "text": [
      "Epoch 280/10000 — Avg Train Loss: 4.9474 | Avg Val Loss:   9.0193 | LR: 9.99e-03\n"
     ]
    },
    {
     "name": "stderr",
     "output_type": "stream",
     "text": [
      "                                                                                           \r"
     ]
    },
    {
     "name": "stdout",
     "output_type": "stream",
     "text": [
      "Epoch 281/10000 — Avg Train Loss: 4.9432 | Avg Val Loss:   8.5879 | LR: 9.99e-03\n"
     ]
    },
    {
     "name": "stderr",
     "output_type": "stream",
     "text": [
      "                                                                                           \r"
     ]
    },
    {
     "name": "stdout",
     "output_type": "stream",
     "text": [
      "Epoch 282/10000 — Avg Train Loss: 4.9067 | Avg Val Loss:   8.9663 | LR: 9.99e-03\n"
     ]
    },
    {
     "name": "stderr",
     "output_type": "stream",
     "text": [
      "                                                                                           \r"
     ]
    },
    {
     "name": "stdout",
     "output_type": "stream",
     "text": [
      "Epoch 283/10000 — Avg Train Loss: 4.9155 | Avg Val Loss:   8.5969 | LR: 9.99e-03\n"
     ]
    },
    {
     "name": "stderr",
     "output_type": "stream",
     "text": [
      "                                                                                           \r"
     ]
    },
    {
     "name": "stdout",
     "output_type": "stream",
     "text": [
      "Epoch 284/10000 — Avg Train Loss: 4.9365 | Avg Val Loss:   8.7972 | LR: 9.99e-03\n"
     ]
    },
    {
     "name": "stderr",
     "output_type": "stream",
     "text": [
      "                                                                                           \r"
     ]
    },
    {
     "name": "stdout",
     "output_type": "stream",
     "text": [
      "Epoch 285/10000 — Avg Train Loss: 4.8980 | Avg Val Loss:   8.8600 | LR: 9.99e-03\n"
     ]
    },
    {
     "name": "stderr",
     "output_type": "stream",
     "text": [
      "                                                                                           \r"
     ]
    },
    {
     "name": "stdout",
     "output_type": "stream",
     "text": [
      "Epoch 286/10000 — Avg Train Loss: 4.8980 | Avg Val Loss:   9.1412 | LR: 9.99e-03\n"
     ]
    },
    {
     "name": "stderr",
     "output_type": "stream",
     "text": [
      "                                                                                           \r"
     ]
    },
    {
     "name": "stdout",
     "output_type": "stream",
     "text": [
      "Epoch 287/10000 — Avg Train Loss: 4.9203 | Avg Val Loss:   9.1053 | LR: 9.99e-03\n"
     ]
    },
    {
     "name": "stderr",
     "output_type": "stream",
     "text": [
      "                                                                                           \r"
     ]
    },
    {
     "name": "stdout",
     "output_type": "stream",
     "text": [
      "Epoch 288/10000 — Avg Train Loss: 4.8808 | Avg Val Loss:   8.9955 | LR: 9.99e-03\n"
     ]
    },
    {
     "name": "stderr",
     "output_type": "stream",
     "text": [
      "                                                                                           \r"
     ]
    },
    {
     "name": "stdout",
     "output_type": "stream",
     "text": [
      "Epoch 289/10000 — Avg Train Loss: 4.9079 | Avg Val Loss:   8.9550 | LR: 9.99e-03\n"
     ]
    },
    {
     "name": "stderr",
     "output_type": "stream",
     "text": [
      "                                                                                           \r"
     ]
    },
    {
     "name": "stdout",
     "output_type": "stream",
     "text": [
      "Epoch 290/10000 — Avg Train Loss: 4.9274 | Avg Val Loss:   8.7418 | LR: 9.99e-03\n"
     ]
    },
    {
     "name": "stderr",
     "output_type": "stream",
     "text": [
      "                                                                                           \r"
     ]
    },
    {
     "name": "stdout",
     "output_type": "stream",
     "text": [
      "Epoch 291/10000 — Avg Train Loss: 4.8911 | Avg Val Loss:   8.8699 | LR: 9.99e-03\n"
     ]
    },
    {
     "name": "stderr",
     "output_type": "stream",
     "text": [
      "                                                                                           \r"
     ]
    },
    {
     "name": "stdout",
     "output_type": "stream",
     "text": [
      "Epoch 292/10000 — Avg Train Loss: 4.8732 | Avg Val Loss:   8.6646 | LR: 9.99e-03\n"
     ]
    },
    {
     "name": "stderr",
     "output_type": "stream",
     "text": [
      "                                                                                           \r"
     ]
    },
    {
     "name": "stdout",
     "output_type": "stream",
     "text": [
      "Epoch 293/10000 — Avg Train Loss: 4.8571 | Avg Val Loss:   8.8693 | LR: 9.99e-03\n"
     ]
    },
    {
     "name": "stderr",
     "output_type": "stream",
     "text": [
      "                                                                                           \r"
     ]
    },
    {
     "name": "stdout",
     "output_type": "stream",
     "text": [
      "Epoch 294/10000 — Avg Train Loss: 4.8837 | Avg Val Loss:   8.8443 | LR: 9.99e-03\n"
     ]
    },
    {
     "name": "stderr",
     "output_type": "stream",
     "text": [
      "                                                                                           \r"
     ]
    },
    {
     "name": "stdout",
     "output_type": "stream",
     "text": [
      "Epoch 295/10000 — Avg Train Loss: 4.8695 | Avg Val Loss:   9.7017 | LR: 9.99e-03\n"
     ]
    },
    {
     "name": "stderr",
     "output_type": "stream",
     "text": [
      "                                                                                           \r"
     ]
    },
    {
     "name": "stdout",
     "output_type": "stream",
     "text": [
      "Epoch 296/10000 — Avg Train Loss: 4.8736 | Avg Val Loss:   9.0913 | LR: 9.98e-03\n"
     ]
    },
    {
     "name": "stderr",
     "output_type": "stream",
     "text": [
      "                                                                                           \r"
     ]
    },
    {
     "name": "stdout",
     "output_type": "stream",
     "text": [
      "Epoch 297/10000 — Avg Train Loss: 4.8521 | Avg Val Loss:   9.3973 | LR: 9.98e-03\n"
     ]
    },
    {
     "name": "stderr",
     "output_type": "stream",
     "text": [
      "                                                                                           \r"
     ]
    },
    {
     "name": "stdout",
     "output_type": "stream",
     "text": [
      "Epoch 298/10000 — Avg Train Loss: 4.8421 | Avg Val Loss:   9.0115 | LR: 9.98e-03\n"
     ]
    },
    {
     "name": "stderr",
     "output_type": "stream",
     "text": [
      "                                                                                           \r"
     ]
    },
    {
     "name": "stdout",
     "output_type": "stream",
     "text": [
      "Epoch 299/10000 — Avg Train Loss: 4.8440 | Avg Val Loss:   9.0781 | LR: 9.98e-03\n"
     ]
    },
    {
     "name": "stderr",
     "output_type": "stream",
     "text": [
      "                                                                                           \r"
     ]
    },
    {
     "name": "stdout",
     "output_type": "stream",
     "text": [
      "Epoch 300/10000 — Avg Train Loss: 4.8602 | Avg Val Loss:   9.5021 | LR: 9.98e-03\n"
     ]
    },
    {
     "name": "stderr",
     "output_type": "stream",
     "text": [
      "                                                                                           \r"
     ]
    },
    {
     "name": "stdout",
     "output_type": "stream",
     "text": [
      "Epoch 301/10000 — Avg Train Loss: 4.8763 | Avg Val Loss:   9.6367 | LR: 9.98e-03\n"
     ]
    },
    {
     "name": "stderr",
     "output_type": "stream",
     "text": [
      "                                                                                           \r"
     ]
    },
    {
     "name": "stdout",
     "output_type": "stream",
     "text": [
      "Epoch 302/10000 — Avg Train Loss: 4.8708 | Avg Val Loss:   8.7691 | LR: 9.98e-03\n"
     ]
    },
    {
     "name": "stderr",
     "output_type": "stream",
     "text": [
      "                                                                                           \r"
     ]
    },
    {
     "name": "stdout",
     "output_type": "stream",
     "text": [
      "Epoch 303/10000 — Avg Train Loss: 4.8572 | Avg Val Loss:   9.4484 | LR: 9.98e-03\n"
     ]
    },
    {
     "name": "stderr",
     "output_type": "stream",
     "text": [
      "                                                                                           \r"
     ]
    },
    {
     "name": "stdout",
     "output_type": "stream",
     "text": [
      "Epoch 304/10000 — Avg Train Loss: 4.8574 | Avg Val Loss:   8.9052 | LR: 9.98e-03\n"
     ]
    },
    {
     "name": "stderr",
     "output_type": "stream",
     "text": [
      "                                                                                           \r"
     ]
    },
    {
     "name": "stdout",
     "output_type": "stream",
     "text": [
      "Epoch 305/10000 — Avg Train Loss: 4.8569 | Avg Val Loss:   9.1822 | LR: 9.98e-03\n"
     ]
    },
    {
     "name": "stderr",
     "output_type": "stream",
     "text": [
      "                                                                                           \r"
     ]
    },
    {
     "name": "stdout",
     "output_type": "stream",
     "text": [
      "Epoch 306/10000 — Avg Train Loss: 4.8309 | Avg Val Loss:   9.3007 | LR: 9.98e-03\n"
     ]
    },
    {
     "name": "stderr",
     "output_type": "stream",
     "text": [
      "                                                                                           \r"
     ]
    },
    {
     "name": "stdout",
     "output_type": "stream",
     "text": [
      "Epoch 307/10000 — Avg Train Loss: 4.8098 | Avg Val Loss:   8.9745 | LR: 9.98e-03\n"
     ]
    },
    {
     "name": "stderr",
     "output_type": "stream",
     "text": [
      "                                                                                           \r"
     ]
    },
    {
     "name": "stdout",
     "output_type": "stream",
     "text": [
      "Epoch 308/10000 — Avg Train Loss: 4.8196 | Avg Val Loss:   10.0345 | LR: 9.98e-03\n"
     ]
    },
    {
     "name": "stderr",
     "output_type": "stream",
     "text": [
      "                                                                                           \r"
     ]
    },
    {
     "name": "stdout",
     "output_type": "stream",
     "text": [
      "Epoch 309/10000 — Avg Train Loss: 4.8209 | Avg Val Loss:   9.9012 | LR: 9.98e-03\n"
     ]
    },
    {
     "name": "stderr",
     "output_type": "stream",
     "text": [
      "                                                                                           \r"
     ]
    },
    {
     "name": "stdout",
     "output_type": "stream",
     "text": [
      "Epoch 310/10000 — Avg Train Loss: 4.8251 | Avg Val Loss:   9.1630 | LR: 9.98e-03\n"
     ]
    },
    {
     "name": "stderr",
     "output_type": "stream",
     "text": [
      "                                                                                           \r"
     ]
    },
    {
     "name": "stdout",
     "output_type": "stream",
     "text": [
      "Epoch 311/10000 — Avg Train Loss: 4.8305 | Avg Val Loss:   9.1758 | LR: 9.98e-03\n"
     ]
    },
    {
     "name": "stderr",
     "output_type": "stream",
     "text": [
      "                                                                                           \r"
     ]
    },
    {
     "name": "stdout",
     "output_type": "stream",
     "text": [
      "Epoch 312/10000 — Avg Train Loss: 4.7917 | Avg Val Loss:   9.2147 | LR: 9.98e-03\n"
     ]
    },
    {
     "name": "stderr",
     "output_type": "stream",
     "text": [
      "                                                                                           \r"
     ]
    },
    {
     "name": "stdout",
     "output_type": "stream",
     "text": [
      "Epoch 313/10000 — Avg Train Loss: 4.8011 | Avg Val Loss:   9.2266 | LR: 9.98e-03\n"
     ]
    },
    {
     "name": "stderr",
     "output_type": "stream",
     "text": [
      "                                                                                           \r"
     ]
    },
    {
     "name": "stdout",
     "output_type": "stream",
     "text": [
      "Epoch 314/10000 — Avg Train Loss: 4.8347 | Avg Val Loss:   9.4124 | LR: 9.98e-03\n"
     ]
    },
    {
     "name": "stderr",
     "output_type": "stream",
     "text": [
      "                                                                                           \r"
     ]
    },
    {
     "name": "stdout",
     "output_type": "stream",
     "text": [
      "Epoch 315/10000 — Avg Train Loss: 4.8220 | Avg Val Loss:   8.9013 | LR: 9.98e-03\n"
     ]
    },
    {
     "name": "stderr",
     "output_type": "stream",
     "text": [
      "                                                                                           \r"
     ]
    },
    {
     "name": "stdout",
     "output_type": "stream",
     "text": [
      "Epoch 316/10000 — Avg Train Loss: 4.8101 | Avg Val Loss:   9.3158 | LR: 9.98e-03\n"
     ]
    },
    {
     "name": "stderr",
     "output_type": "stream",
     "text": [
      "                                                                                           \r"
     ]
    },
    {
     "name": "stdout",
     "output_type": "stream",
     "text": [
      "Epoch 317/10000 — Avg Train Loss: 4.8232 | Avg Val Loss:   9.1453 | LR: 9.98e-03\n"
     ]
    },
    {
     "name": "stderr",
     "output_type": "stream",
     "text": [
      "                                                                                           \r"
     ]
    },
    {
     "name": "stdout",
     "output_type": "stream",
     "text": [
      "Epoch 318/10000 — Avg Train Loss: 4.8057 | Avg Val Loss:   9.3467 | LR: 9.98e-03\n"
     ]
    },
    {
     "name": "stderr",
     "output_type": "stream",
     "text": [
      "                                                                                           \r"
     ]
    },
    {
     "name": "stdout",
     "output_type": "stream",
     "text": [
      "Epoch 319/10000 — Avg Train Loss: 4.7813 | Avg Val Loss:   9.4577 | LR: 9.98e-03\n"
     ]
    },
    {
     "name": "stderr",
     "output_type": "stream",
     "text": [
      "                                                                                           \r"
     ]
    },
    {
     "name": "stdout",
     "output_type": "stream",
     "text": [
      "Epoch 320/10000 — Avg Train Loss: 4.8049 | Avg Val Loss:   9.1751 | LR: 9.98e-03\n"
     ]
    },
    {
     "name": "stderr",
     "output_type": "stream",
     "text": [
      "                                                                                           \r"
     ]
    },
    {
     "name": "stdout",
     "output_type": "stream",
     "text": [
      "Epoch 321/10000 — Avg Train Loss: 4.7863 | Avg Val Loss:   9.5101 | LR: 9.98e-03\n"
     ]
    },
    {
     "name": "stderr",
     "output_type": "stream",
     "text": [
      "                                                                                           \r"
     ]
    },
    {
     "name": "stdout",
     "output_type": "stream",
     "text": [
      "Epoch 322/10000 — Avg Train Loss: 4.8025 | Avg Val Loss:   9.6127 | LR: 9.98e-03\n"
     ]
    },
    {
     "name": "stderr",
     "output_type": "stream",
     "text": [
      "                                                                                           \r"
     ]
    },
    {
     "name": "stdout",
     "output_type": "stream",
     "text": [
      "Epoch 323/10000 — Avg Train Loss: 4.7975 | Avg Val Loss:   9.0121 | LR: 9.98e-03\n"
     ]
    },
    {
     "name": "stderr",
     "output_type": "stream",
     "text": [
      "                                                                                           \r"
     ]
    },
    {
     "name": "stdout",
     "output_type": "stream",
     "text": [
      "Epoch 324/10000 — Avg Train Loss: 4.7684 | Avg Val Loss:   9.8239 | LR: 9.98e-03\n"
     ]
    },
    {
     "name": "stderr",
     "output_type": "stream",
     "text": [
      "                                                                                           \r"
     ]
    },
    {
     "name": "stdout",
     "output_type": "stream",
     "text": [
      "Epoch 325/10000 — Avg Train Loss: 4.8058 | Avg Val Loss:   9.0314 | LR: 9.98e-03\n"
     ]
    },
    {
     "name": "stderr",
     "output_type": "stream",
     "text": [
      "                                                                                           \r"
     ]
    },
    {
     "name": "stdout",
     "output_type": "stream",
     "text": [
      "Epoch 326/10000 — Avg Train Loss: 4.7829 | Avg Val Loss:   10.1276 | LR: 9.98e-03\n"
     ]
    },
    {
     "name": "stderr",
     "output_type": "stream",
     "text": [
      "                                                                                           \r"
     ]
    },
    {
     "name": "stdout",
     "output_type": "stream",
     "text": [
      "Epoch 327/10000 — Avg Train Loss: 4.7966 | Avg Val Loss:   9.6761 | LR: 9.98e-03\n"
     ]
    },
    {
     "name": "stderr",
     "output_type": "stream",
     "text": [
      "                                                                                           \r"
     ]
    },
    {
     "name": "stdout",
     "output_type": "stream",
     "text": [
      "Epoch 328/10000 — Avg Train Loss: 4.7933 | Avg Val Loss:   9.3548 | LR: 9.98e-03\n"
     ]
    },
    {
     "name": "stderr",
     "output_type": "stream",
     "text": [
      "                                                                                           \r"
     ]
    },
    {
     "name": "stdout",
     "output_type": "stream",
     "text": [
      "Epoch 329/10000 — Avg Train Loss: 4.7663 | Avg Val Loss:   9.6967 | LR: 9.98e-03\n"
     ]
    },
    {
     "name": "stderr",
     "output_type": "stream",
     "text": [
      "                                                                                           \r"
     ]
    },
    {
     "name": "stdout",
     "output_type": "stream",
     "text": [
      "Epoch 330/10000 — Avg Train Loss: 4.7762 | Avg Val Loss:   9.4896 | LR: 9.98e-03\n"
     ]
    },
    {
     "name": "stderr",
     "output_type": "stream",
     "text": [
      "                                                                                           \r"
     ]
    },
    {
     "name": "stdout",
     "output_type": "stream",
     "text": [
      "Epoch 331/10000 — Avg Train Loss: 4.7649 | Avg Val Loss:   9.7454 | LR: 9.98e-03\n"
     ]
    },
    {
     "name": "stderr",
     "output_type": "stream",
     "text": [
      "                                                                                           \r"
     ]
    },
    {
     "name": "stdout",
     "output_type": "stream",
     "text": [
      "Epoch 332/10000 — Avg Train Loss: 4.7722 | Avg Val Loss:   9.0371 | LR: 9.98e-03\n"
     ]
    },
    {
     "name": "stderr",
     "output_type": "stream",
     "text": [
      "                                                                                           \r"
     ]
    },
    {
     "name": "stdout",
     "output_type": "stream",
     "text": [
      "Epoch 333/10000 — Avg Train Loss: 4.8034 | Avg Val Loss:   9.3896 | LR: 9.98e-03\n"
     ]
    },
    {
     "name": "stderr",
     "output_type": "stream",
     "text": [
      "                                                                                           \r"
     ]
    },
    {
     "name": "stdout",
     "output_type": "stream",
     "text": [
      "Epoch 334/10000 — Avg Train Loss: 4.7749 | Avg Val Loss:   9.4843 | LR: 9.98e-03\n"
     ]
    },
    {
     "name": "stderr",
     "output_type": "stream",
     "text": [
      "                                                                                           \r"
     ]
    },
    {
     "name": "stdout",
     "output_type": "stream",
     "text": [
      "Epoch 335/10000 — Avg Train Loss: 4.7792 | Avg Val Loss:   8.8586 | LR: 9.98e-03\n"
     ]
    },
    {
     "name": "stderr",
     "output_type": "stream",
     "text": [
      "                                                                                           \r"
     ]
    },
    {
     "name": "stdout",
     "output_type": "stream",
     "text": [
      "Epoch 336/10000 — Avg Train Loss: 4.7840 | Avg Val Loss:   9.6299 | LR: 9.98e-03\n"
     ]
    },
    {
     "name": "stderr",
     "output_type": "stream",
     "text": [
      "                                                                                           \r"
     ]
    },
    {
     "name": "stdout",
     "output_type": "stream",
     "text": [
      "Epoch 337/10000 — Avg Train Loss: 4.7476 | Avg Val Loss:   9.6063 | LR: 9.98e-03\n"
     ]
    },
    {
     "name": "stderr",
     "output_type": "stream",
     "text": [
      "                                                                                           \r"
     ]
    },
    {
     "name": "stdout",
     "output_type": "stream",
     "text": [
      "Epoch 338/10000 — Avg Train Loss: 4.7380 | Avg Val Loss:   9.5543 | LR: 9.98e-03\n"
     ]
    },
    {
     "name": "stderr",
     "output_type": "stream",
     "text": [
      "                                                                                           \r"
     ]
    },
    {
     "name": "stdout",
     "output_type": "stream",
     "text": [
      "Epoch 339/10000 — Avg Train Loss: 4.7486 | Avg Val Loss:   9.6170 | LR: 9.98e-03\n"
     ]
    },
    {
     "name": "stderr",
     "output_type": "stream",
     "text": [
      "                                                                                           \r"
     ]
    },
    {
     "name": "stdout",
     "output_type": "stream",
     "text": [
      "Epoch 340/10000 — Avg Train Loss: 4.7387 | Avg Val Loss:   9.6475 | LR: 9.98e-03\n"
     ]
    },
    {
     "name": "stderr",
     "output_type": "stream",
     "text": [
      "                                                                                           \r"
     ]
    },
    {
     "name": "stdout",
     "output_type": "stream",
     "text": [
      "Epoch 341/10000 — Avg Train Loss: 4.7452 | Avg Val Loss:   10.0322 | LR: 9.98e-03\n"
     ]
    },
    {
     "name": "stderr",
     "output_type": "stream",
     "text": [
      "                                                                                           \r"
     ]
    },
    {
     "name": "stdout",
     "output_type": "stream",
     "text": [
      "Epoch 342/10000 — Avg Train Loss: 4.7483 | Avg Val Loss:   9.9099 | LR: 9.98e-03\n"
     ]
    },
    {
     "name": "stderr",
     "output_type": "stream",
     "text": [
      "                                                                                           \r"
     ]
    },
    {
     "name": "stdout",
     "output_type": "stream",
     "text": [
      "Epoch 343/10000 — Avg Train Loss: 4.7380 | Avg Val Loss:   9.9509 | LR: 9.98e-03\n"
     ]
    },
    {
     "name": "stderr",
     "output_type": "stream",
     "text": [
      "                                                                                           \r"
     ]
    },
    {
     "name": "stdout",
     "output_type": "stream",
     "text": [
      "Epoch 344/10000 — Avg Train Loss: 4.7427 | Avg Val Loss:   9.2791 | LR: 9.98e-03\n"
     ]
    },
    {
     "name": "stderr",
     "output_type": "stream",
     "text": [
      "                                                                                           \r"
     ]
    },
    {
     "name": "stdout",
     "output_type": "stream",
     "text": [
      "Epoch 345/10000 — Avg Train Loss: 4.7323 | Avg Val Loss:   9.8377 | LR: 9.98e-03\n"
     ]
    },
    {
     "name": "stderr",
     "output_type": "stream",
     "text": [
      "                                                                                           \r"
     ]
    },
    {
     "name": "stdout",
     "output_type": "stream",
     "text": [
      "Epoch 346/10000 — Avg Train Loss: 4.7320 | Avg Val Loss:   9.1114 | LR: 9.98e-03\n"
     ]
    },
    {
     "name": "stderr",
     "output_type": "stream",
     "text": [
      "                                                                                           \r"
     ]
    },
    {
     "name": "stdout",
     "output_type": "stream",
     "text": [
      "Epoch 347/10000 — Avg Train Loss: 4.7648 | Avg Val Loss:   9.5550 | LR: 9.98e-03\n"
     ]
    },
    {
     "name": "stderr",
     "output_type": "stream",
     "text": [
      "                                                                                           \r"
     ]
    },
    {
     "name": "stdout",
     "output_type": "stream",
     "text": [
      "Epoch 348/10000 — Avg Train Loss: 4.6986 | Avg Val Loss:   9.5826 | LR: 9.98e-03\n"
     ]
    },
    {
     "name": "stderr",
     "output_type": "stream",
     "text": [
      "                                                                                           \r"
     ]
    },
    {
     "name": "stdout",
     "output_type": "stream",
     "text": [
      "Epoch 349/10000 — Avg Train Loss: 4.7310 | Avg Val Loss:   9.6864 | LR: 9.98e-03\n"
     ]
    },
    {
     "name": "stderr",
     "output_type": "stream",
     "text": [
      "                                                                                           \r"
     ]
    },
    {
     "name": "stdout",
     "output_type": "stream",
     "text": [
      "Epoch 350/10000 — Avg Train Loss: 4.7321 | Avg Val Loss:   9.9542 | LR: 9.98e-03\n"
     ]
    },
    {
     "name": "stderr",
     "output_type": "stream",
     "text": [
      "                                                                                           \r"
     ]
    },
    {
     "name": "stdout",
     "output_type": "stream",
     "text": [
      "Epoch 351/10000 — Avg Train Loss: 4.7356 | Avg Val Loss:   9.4730 | LR: 9.98e-03\n"
     ]
    },
    {
     "name": "stderr",
     "output_type": "stream",
     "text": [
      "                                                                                           \r"
     ]
    },
    {
     "name": "stdout",
     "output_type": "stream",
     "text": [
      "Epoch 352/10000 — Avg Train Loss: 4.7180 | Avg Val Loss:   9.5292 | LR: 9.98e-03\n"
     ]
    },
    {
     "name": "stderr",
     "output_type": "stream",
     "text": [
      "                                                                                           \r"
     ]
    },
    {
     "name": "stdout",
     "output_type": "stream",
     "text": [
      "Epoch 353/10000 — Avg Train Loss: 4.7174 | Avg Val Loss:   9.4174 | LR: 9.98e-03\n"
     ]
    },
    {
     "name": "stderr",
     "output_type": "stream",
     "text": [
      "                                                                                           \r"
     ]
    },
    {
     "name": "stdout",
     "output_type": "stream",
     "text": [
      "Epoch 354/10000 — Avg Train Loss: 4.6945 | Avg Val Loss:   9.3009 | LR: 9.98e-03\n"
     ]
    },
    {
     "name": "stderr",
     "output_type": "stream",
     "text": [
      "                                                                                           \r"
     ]
    },
    {
     "name": "stdout",
     "output_type": "stream",
     "text": [
      "Epoch 355/10000 — Avg Train Loss: 4.7127 | Avg Val Loss:   9.5316 | LR: 9.98e-03\n"
     ]
    },
    {
     "name": "stderr",
     "output_type": "stream",
     "text": [
      "                                                                                           \r"
     ]
    },
    {
     "name": "stdout",
     "output_type": "stream",
     "text": [
      "Epoch 356/10000 — Avg Train Loss: 4.7346 | Avg Val Loss:   9.5690 | LR: 9.98e-03\n"
     ]
    },
    {
     "name": "stderr",
     "output_type": "stream",
     "text": [
      "                                                                                           \r"
     ]
    },
    {
     "name": "stdout",
     "output_type": "stream",
     "text": [
      "Epoch 357/10000 — Avg Train Loss: 4.7479 | Avg Val Loss:   9.5605 | LR: 9.98e-03\n"
     ]
    },
    {
     "name": "stderr",
     "output_type": "stream",
     "text": [
      "                                                                                           \r"
     ]
    },
    {
     "name": "stdout",
     "output_type": "stream",
     "text": [
      "Epoch 358/10000 — Avg Train Loss: 4.7474 | Avg Val Loss:   9.4127 | LR: 9.98e-03\n"
     ]
    },
    {
     "name": "stderr",
     "output_type": "stream",
     "text": [
      "                                                                                           \r"
     ]
    },
    {
     "name": "stdout",
     "output_type": "stream",
     "text": [
      "Epoch 359/10000 — Avg Train Loss: 4.7415 | Avg Val Loss:   9.4849 | LR: 9.98e-03\n"
     ]
    },
    {
     "name": "stderr",
     "output_type": "stream",
     "text": [
      "                                                                                           \r"
     ]
    },
    {
     "name": "stdout",
     "output_type": "stream",
     "text": [
      "Epoch 360/10000 — Avg Train Loss: 4.7392 | Avg Val Loss:   9.5509 | LR: 9.98e-03\n"
     ]
    },
    {
     "name": "stderr",
     "output_type": "stream",
     "text": [
      "                                                                                           \r"
     ]
    },
    {
     "name": "stdout",
     "output_type": "stream",
     "text": [
      "Epoch 361/10000 — Avg Train Loss: 4.7663 | Avg Val Loss:   9.1142 | LR: 9.98e-03\n"
     ]
    },
    {
     "name": "stderr",
     "output_type": "stream",
     "text": [
      "                                                                                           \r"
     ]
    },
    {
     "name": "stdout",
     "output_type": "stream",
     "text": [
      "Epoch 362/10000 — Avg Train Loss: 4.7366 | Avg Val Loss:   9.5662 | LR: 9.98e-03\n"
     ]
    },
    {
     "name": "stderr",
     "output_type": "stream",
     "text": [
      "                                                                                           \r"
     ]
    },
    {
     "name": "stdout",
     "output_type": "stream",
     "text": [
      "Epoch 363/10000 — Avg Train Loss: 4.7024 | Avg Val Loss:   9.6888 | LR: 9.98e-03\n"
     ]
    },
    {
     "name": "stderr",
     "output_type": "stream",
     "text": [
      "                                                                                           \r"
     ]
    },
    {
     "name": "stdout",
     "output_type": "stream",
     "text": [
      "Epoch 364/10000 — Avg Train Loss: 4.6924 | Avg Val Loss:   9.6342 | LR: 9.98e-03\n"
     ]
    },
    {
     "name": "stderr",
     "output_type": "stream",
     "text": [
      "                                                                                           \r"
     ]
    },
    {
     "name": "stdout",
     "output_type": "stream",
     "text": [
      "Epoch 365/10000 — Avg Train Loss: 4.6897 | Avg Val Loss:   9.5098 | LR: 9.98e-03\n"
     ]
    },
    {
     "name": "stderr",
     "output_type": "stream",
     "text": [
      "                                                                                           \r"
     ]
    },
    {
     "name": "stdout",
     "output_type": "stream",
     "text": [
      "Epoch 366/10000 — Avg Train Loss: 4.6950 | Avg Val Loss:   9.6639 | LR: 9.98e-03\n"
     ]
    },
    {
     "name": "stderr",
     "output_type": "stream",
     "text": [
      "                                                                                           \r"
     ]
    },
    {
     "name": "stdout",
     "output_type": "stream",
     "text": [
      "Epoch 367/10000 — Avg Train Loss: 4.6642 | Avg Val Loss:   9.6446 | LR: 9.97e-03\n"
     ]
    },
    {
     "name": "stderr",
     "output_type": "stream",
     "text": [
      "                                                                                           \r"
     ]
    },
    {
     "name": "stdout",
     "output_type": "stream",
     "text": [
      "Epoch 368/10000 — Avg Train Loss: 4.6830 | Avg Val Loss:   9.8228 | LR: 9.97e-03\n"
     ]
    },
    {
     "name": "stderr",
     "output_type": "stream",
     "text": [
      "                                                                                           \r"
     ]
    },
    {
     "name": "stdout",
     "output_type": "stream",
     "text": [
      "Epoch 369/10000 — Avg Train Loss: 4.6831 | Avg Val Loss:   9.3461 | LR: 9.97e-03\n"
     ]
    },
    {
     "name": "stderr",
     "output_type": "stream",
     "text": [
      "                                                                                           \r"
     ]
    },
    {
     "name": "stdout",
     "output_type": "stream",
     "text": [
      "Epoch 370/10000 — Avg Train Loss: 4.6842 | Avg Val Loss:   9.6582 | LR: 9.97e-03\n"
     ]
    },
    {
     "name": "stderr",
     "output_type": "stream",
     "text": [
      "                                                                                           \r"
     ]
    },
    {
     "name": "stdout",
     "output_type": "stream",
     "text": [
      "Epoch 371/10000 — Avg Train Loss: 4.6864 | Avg Val Loss:   10.2134 | LR: 9.97e-03\n"
     ]
    },
    {
     "name": "stderr",
     "output_type": "stream",
     "text": [
      "                                                                                           \r"
     ]
    },
    {
     "name": "stdout",
     "output_type": "stream",
     "text": [
      "Epoch 372/10000 — Avg Train Loss: 4.6468 | Avg Val Loss:   9.7660 | LR: 9.97e-03\n"
     ]
    },
    {
     "name": "stderr",
     "output_type": "stream",
     "text": [
      "                                                                                           \r"
     ]
    },
    {
     "name": "stdout",
     "output_type": "stream",
     "text": [
      "Epoch 373/10000 — Avg Train Loss: 4.6817 | Avg Val Loss:   10.0796 | LR: 9.97e-03\n"
     ]
    },
    {
     "name": "stderr",
     "output_type": "stream",
     "text": [
      "                                                                                           \r"
     ]
    },
    {
     "name": "stdout",
     "output_type": "stream",
     "text": [
      "Epoch 374/10000 — Avg Train Loss: 4.6580 | Avg Val Loss:   10.2110 | LR: 9.97e-03\n"
     ]
    },
    {
     "name": "stderr",
     "output_type": "stream",
     "text": [
      "                                                                                           \r"
     ]
    },
    {
     "name": "stdout",
     "output_type": "stream",
     "text": [
      "Epoch 375/10000 — Avg Train Loss: 4.6679 | Avg Val Loss:   9.1858 | LR: 9.97e-03\n"
     ]
    },
    {
     "name": "stderr",
     "output_type": "stream",
     "text": [
      "                                                                                           \r"
     ]
    },
    {
     "name": "stdout",
     "output_type": "stream",
     "text": [
      "Epoch 376/10000 — Avg Train Loss: 4.7277 | Avg Val Loss:   8.7316 | LR: 9.97e-03\n"
     ]
    },
    {
     "name": "stderr",
     "output_type": "stream",
     "text": [
      "                                                                                           \r"
     ]
    },
    {
     "name": "stdout",
     "output_type": "stream",
     "text": [
      "Epoch 377/10000 — Avg Train Loss: 4.8624 | Avg Val Loss:   9.3861 | LR: 9.97e-03\n"
     ]
    },
    {
     "name": "stderr",
     "output_type": "stream",
     "text": [
      "                                                                                           \r"
     ]
    },
    {
     "name": "stdout",
     "output_type": "stream",
     "text": [
      "Epoch 378/10000 — Avg Train Loss: 4.6801 | Avg Val Loss:   9.8244 | LR: 9.97e-03\n"
     ]
    },
    {
     "name": "stderr",
     "output_type": "stream",
     "text": [
      "                                                                                           \r"
     ]
    },
    {
     "name": "stdout",
     "output_type": "stream",
     "text": [
      "Epoch 379/10000 — Avg Train Loss: 4.6698 | Avg Val Loss:   9.6939 | LR: 9.97e-03\n"
     ]
    },
    {
     "name": "stderr",
     "output_type": "stream",
     "text": [
      "                                                                                           \r"
     ]
    },
    {
     "name": "stdout",
     "output_type": "stream",
     "text": [
      "Epoch 380/10000 — Avg Train Loss: 4.6897 | Avg Val Loss:   9.4302 | LR: 9.97e-03\n"
     ]
    },
    {
     "name": "stderr",
     "output_type": "stream",
     "text": [
      "                                                                                           \r"
     ]
    },
    {
     "name": "stdout",
     "output_type": "stream",
     "text": [
      "Epoch 381/10000 — Avg Train Loss: 4.6727 | Avg Val Loss:   9.7362 | LR: 9.97e-03\n"
     ]
    },
    {
     "name": "stderr",
     "output_type": "stream",
     "text": [
      "                                                                                           \r"
     ]
    },
    {
     "name": "stdout",
     "output_type": "stream",
     "text": [
      "Epoch 382/10000 — Avg Train Loss: 4.6485 | Avg Val Loss:   10.0249 | LR: 9.97e-03\n"
     ]
    },
    {
     "name": "stderr",
     "output_type": "stream",
     "text": [
      "                                                                                           \r"
     ]
    },
    {
     "name": "stdout",
     "output_type": "stream",
     "text": [
      "Epoch 383/10000 — Avg Train Loss: 4.6620 | Avg Val Loss:   9.7930 | LR: 9.97e-03\n"
     ]
    },
    {
     "name": "stderr",
     "output_type": "stream",
     "text": [
      "                                                                                           \r"
     ]
    },
    {
     "name": "stdout",
     "output_type": "stream",
     "text": [
      "Epoch 384/10000 — Avg Train Loss: 4.6287 | Avg Val Loss:   9.8727 | LR: 9.97e-03\n"
     ]
    },
    {
     "name": "stderr",
     "output_type": "stream",
     "text": [
      "                                                                                           \r"
     ]
    },
    {
     "name": "stdout",
     "output_type": "stream",
     "text": [
      "Epoch 385/10000 — Avg Train Loss: 4.6280 | Avg Val Loss:   9.2941 | LR: 9.97e-03\n"
     ]
    },
    {
     "name": "stderr",
     "output_type": "stream",
     "text": [
      "                                                                                           \r"
     ]
    },
    {
     "name": "stdout",
     "output_type": "stream",
     "text": [
      "Epoch 386/10000 — Avg Train Loss: 4.6451 | Avg Val Loss:   10.1742 | LR: 9.97e-03\n"
     ]
    },
    {
     "name": "stderr",
     "output_type": "stream",
     "text": [
      "                                                                                           \r"
     ]
    },
    {
     "name": "stdout",
     "output_type": "stream",
     "text": [
      "Epoch 387/10000 — Avg Train Loss: 4.6393 | Avg Val Loss:   9.6736 | LR: 9.97e-03\n"
     ]
    },
    {
     "name": "stderr",
     "output_type": "stream",
     "text": [
      "                                                                                           \r"
     ]
    },
    {
     "name": "stdout",
     "output_type": "stream",
     "text": [
      "Epoch 388/10000 — Avg Train Loss: 4.6158 | Avg Val Loss:   9.4631 | LR: 9.97e-03\n"
     ]
    },
    {
     "name": "stderr",
     "output_type": "stream",
     "text": [
      "                                                                                           \r"
     ]
    },
    {
     "name": "stdout",
     "output_type": "stream",
     "text": [
      "Epoch 389/10000 — Avg Train Loss: 4.6327 | Avg Val Loss:   9.3980 | LR: 9.97e-03\n"
     ]
    },
    {
     "name": "stderr",
     "output_type": "stream",
     "text": [
      "                                                                                           \r"
     ]
    },
    {
     "name": "stdout",
     "output_type": "stream",
     "text": [
      "Epoch 390/10000 — Avg Train Loss: 4.6267 | Avg Val Loss:   9.6382 | LR: 9.97e-03\n"
     ]
    },
    {
     "name": "stderr",
     "output_type": "stream",
     "text": [
      "                                                                                           \r"
     ]
    },
    {
     "name": "stdout",
     "output_type": "stream",
     "text": [
      "Epoch 391/10000 — Avg Train Loss: 4.6200 | Avg Val Loss:   10.1062 | LR: 9.97e-03\n"
     ]
    },
    {
     "name": "stderr",
     "output_type": "stream",
     "text": [
      "                                                                                           \r"
     ]
    },
    {
     "name": "stdout",
     "output_type": "stream",
     "text": [
      "Epoch 392/10000 — Avg Train Loss: 4.6012 | Avg Val Loss:   10.0670 | LR: 9.97e-03\n"
     ]
    },
    {
     "name": "stderr",
     "output_type": "stream",
     "text": [
      "                                                                                           \r"
     ]
    },
    {
     "name": "stdout",
     "output_type": "stream",
     "text": [
      "Epoch 393/10000 — Avg Train Loss: 4.6236 | Avg Val Loss:   9.5129 | LR: 9.97e-03\n"
     ]
    },
    {
     "name": "stderr",
     "output_type": "stream",
     "text": [
      "                                                                                           \r"
     ]
    },
    {
     "name": "stdout",
     "output_type": "stream",
     "text": [
      "Epoch 394/10000 — Avg Train Loss: 4.6396 | Avg Val Loss:   10.5505 | LR: 9.97e-03\n"
     ]
    },
    {
     "name": "stderr",
     "output_type": "stream",
     "text": [
      "                                                                                           \r"
     ]
    },
    {
     "name": "stdout",
     "output_type": "stream",
     "text": [
      "Epoch 395/10000 — Avg Train Loss: 4.6156 | Avg Val Loss:   9.5822 | LR: 9.97e-03\n"
     ]
    },
    {
     "name": "stderr",
     "output_type": "stream",
     "text": [
      "                                                                                           \r"
     ]
    },
    {
     "name": "stdout",
     "output_type": "stream",
     "text": [
      "Epoch 396/10000 — Avg Train Loss: 4.6551 | Avg Val Loss:   9.6483 | LR: 9.97e-03\n"
     ]
    },
    {
     "name": "stderr",
     "output_type": "stream",
     "text": [
      "                                                                                           \r"
     ]
    },
    {
     "name": "stdout",
     "output_type": "stream",
     "text": [
      "Epoch 397/10000 — Avg Train Loss: 4.6134 | Avg Val Loss:   9.8202 | LR: 9.97e-03\n"
     ]
    },
    {
     "name": "stderr",
     "output_type": "stream",
     "text": [
      "                                                                                           \r"
     ]
    },
    {
     "name": "stdout",
     "output_type": "stream",
     "text": [
      "Epoch 398/10000 — Avg Train Loss: 4.6539 | Avg Val Loss:   9.4860 | LR: 9.97e-03\n"
     ]
    },
    {
     "name": "stderr",
     "output_type": "stream",
     "text": [
      "                                                                                           \r"
     ]
    },
    {
     "name": "stdout",
     "output_type": "stream",
     "text": [
      "Epoch 399/10000 — Avg Train Loss: 4.6327 | Avg Val Loss:   9.6457 | LR: 9.97e-03\n"
     ]
    },
    {
     "name": "stderr",
     "output_type": "stream",
     "text": [
      "                                                                                           \r"
     ]
    },
    {
     "name": "stdout",
     "output_type": "stream",
     "text": [
      "Epoch 400/10000 — Avg Train Loss: 4.6343 | Avg Val Loss:   10.0795 | LR: 9.97e-03\n"
     ]
    },
    {
     "name": "stderr",
     "output_type": "stream",
     "text": [
      "                                                                                           \r"
     ]
    },
    {
     "name": "stdout",
     "output_type": "stream",
     "text": [
      "Epoch 401/10000 — Avg Train Loss: 4.6063 | Avg Val Loss:   9.9968 | LR: 9.97e-03\n"
     ]
    },
    {
     "name": "stderr",
     "output_type": "stream",
     "text": [
      "                                                                                           \r"
     ]
    },
    {
     "name": "stdout",
     "output_type": "stream",
     "text": [
      "Epoch 402/10000 — Avg Train Loss: 4.6035 | Avg Val Loss:   9.6937 | LR: 9.97e-03\n"
     ]
    },
    {
     "name": "stderr",
     "output_type": "stream",
     "text": [
      "                                                                                           \r"
     ]
    },
    {
     "name": "stdout",
     "output_type": "stream",
     "text": [
      "Epoch 403/10000 — Avg Train Loss: 4.6177 | Avg Val Loss:   10.1599 | LR: 9.97e-03\n"
     ]
    },
    {
     "name": "stderr",
     "output_type": "stream",
     "text": [
      "                                                                                           \r"
     ]
    },
    {
     "name": "stdout",
     "output_type": "stream",
     "text": [
      "Epoch 404/10000 — Avg Train Loss: 4.6425 | Avg Val Loss:   10.1971 | LR: 9.97e-03\n"
     ]
    },
    {
     "name": "stderr",
     "output_type": "stream",
     "text": [
      "                                                                                           \r"
     ]
    },
    {
     "name": "stdout",
     "output_type": "stream",
     "text": [
      "Epoch 405/10000 — Avg Train Loss: 4.6185 | Avg Val Loss:   9.5049 | LR: 9.97e-03\n"
     ]
    },
    {
     "name": "stderr",
     "output_type": "stream",
     "text": [
      "                                                                                           \r"
     ]
    },
    {
     "name": "stdout",
     "output_type": "stream",
     "text": [
      "Epoch 406/10000 — Avg Train Loss: 4.6019 | Avg Val Loss:   9.8600 | LR: 9.97e-03\n"
     ]
    },
    {
     "name": "stderr",
     "output_type": "stream",
     "text": [
      "                                                                                           \r"
     ]
    },
    {
     "name": "stdout",
     "output_type": "stream",
     "text": [
      "Epoch 407/10000 — Avg Train Loss: 4.6206 | Avg Val Loss:   9.5784 | LR: 9.97e-03\n"
     ]
    },
    {
     "name": "stderr",
     "output_type": "stream",
     "text": [
      "                                                                                           \r"
     ]
    },
    {
     "name": "stdout",
     "output_type": "stream",
     "text": [
      "Epoch 408/10000 — Avg Train Loss: 4.6307 | Avg Val Loss:   9.5368 | LR: 9.97e-03\n"
     ]
    },
    {
     "name": "stderr",
     "output_type": "stream",
     "text": [
      "                                                                                           \r"
     ]
    },
    {
     "name": "stdout",
     "output_type": "stream",
     "text": [
      "Epoch 409/10000 — Avg Train Loss: 4.6322 | Avg Val Loss:   10.7590 | LR: 9.97e-03\n"
     ]
    },
    {
     "name": "stderr",
     "output_type": "stream",
     "text": [
      "                                                                                           \r"
     ]
    },
    {
     "name": "stdout",
     "output_type": "stream",
     "text": [
      "Epoch 410/10000 — Avg Train Loss: 4.6305 | Avg Val Loss:   9.9963 | LR: 9.97e-03\n"
     ]
    },
    {
     "name": "stderr",
     "output_type": "stream",
     "text": [
      "                                                                                           \r"
     ]
    },
    {
     "name": "stdout",
     "output_type": "stream",
     "text": [
      "Epoch 411/10000 — Avg Train Loss: 4.5824 | Avg Val Loss:   10.1063 | LR: 9.97e-03\n"
     ]
    },
    {
     "name": "stderr",
     "output_type": "stream",
     "text": [
      "                                                                                           \r"
     ]
    },
    {
     "name": "stdout",
     "output_type": "stream",
     "text": [
      "Epoch 412/10000 — Avg Train Loss: 4.5936 | Avg Val Loss:   9.5839 | LR: 9.97e-03\n"
     ]
    },
    {
     "name": "stderr",
     "output_type": "stream",
     "text": [
      "                                                                                           \r"
     ]
    },
    {
     "name": "stdout",
     "output_type": "stream",
     "text": [
      "Epoch 413/10000 — Avg Train Loss: 4.5822 | Avg Val Loss:   9.9835 | LR: 9.97e-03\n"
     ]
    },
    {
     "name": "stderr",
     "output_type": "stream",
     "text": [
      "                                                                                           \r"
     ]
    },
    {
     "name": "stdout",
     "output_type": "stream",
     "text": [
      "Epoch 414/10000 — Avg Train Loss: 4.6044 | Avg Val Loss:   9.7978 | LR: 9.97e-03\n"
     ]
    },
    {
     "name": "stderr",
     "output_type": "stream",
     "text": [
      "                                                                                           \r"
     ]
    },
    {
     "name": "stdout",
     "output_type": "stream",
     "text": [
      "Epoch 415/10000 — Avg Train Loss: 4.6052 | Avg Val Loss:   9.8059 | LR: 9.97e-03\n"
     ]
    },
    {
     "name": "stderr",
     "output_type": "stream",
     "text": [
      "                                                                                           \r"
     ]
    },
    {
     "name": "stdout",
     "output_type": "stream",
     "text": [
      "Epoch 416/10000 — Avg Train Loss: 4.6035 | Avg Val Loss:   9.6328 | LR: 9.97e-03\n"
     ]
    },
    {
     "name": "stderr",
     "output_type": "stream",
     "text": [
      "                                                                                           \r"
     ]
    },
    {
     "name": "stdout",
     "output_type": "stream",
     "text": [
      "Epoch 417/10000 — Avg Train Loss: 4.6047 | Avg Val Loss:   10.4502 | LR: 9.97e-03\n"
     ]
    },
    {
     "name": "stderr",
     "output_type": "stream",
     "text": [
      "                                                                                           \r"
     ]
    },
    {
     "name": "stdout",
     "output_type": "stream",
     "text": [
      "Epoch 418/10000 — Avg Train Loss: 4.5889 | Avg Val Loss:   9.9356 | LR: 9.97e-03\n"
     ]
    },
    {
     "name": "stderr",
     "output_type": "stream",
     "text": [
      "                                                                                           \r"
     ]
    },
    {
     "name": "stdout",
     "output_type": "stream",
     "text": [
      "Epoch 419/10000 — Avg Train Loss: 4.6029 | Avg Val Loss:   10.1331 | LR: 9.97e-03\n"
     ]
    },
    {
     "name": "stderr",
     "output_type": "stream",
     "text": [
      "                                                                                           \r"
     ]
    },
    {
     "name": "stdout",
     "output_type": "stream",
     "text": [
      "Epoch 420/10000 — Avg Train Loss: 4.5625 | Avg Val Loss:   9.9397 | LR: 9.97e-03\n"
     ]
    },
    {
     "name": "stderr",
     "output_type": "stream",
     "text": [
      "                                                                                           \r"
     ]
    },
    {
     "name": "stdout",
     "output_type": "stream",
     "text": [
      "Epoch 421/10000 — Avg Train Loss: 4.5793 | Avg Val Loss:   10.0665 | LR: 9.97e-03\n"
     ]
    },
    {
     "name": "stderr",
     "output_type": "stream",
     "text": [
      "                                                                                           \r"
     ]
    },
    {
     "name": "stdout",
     "output_type": "stream",
     "text": [
      "Epoch 422/10000 — Avg Train Loss: 4.5468 | Avg Val Loss:   10.4578 | LR: 9.97e-03\n"
     ]
    },
    {
     "name": "stderr",
     "output_type": "stream",
     "text": [
      "                                                                                           \r"
     ]
    },
    {
     "name": "stdout",
     "output_type": "stream",
     "text": [
      "Epoch 423/10000 — Avg Train Loss: 4.5896 | Avg Val Loss:   9.6944 | LR: 9.97e-03\n"
     ]
    },
    {
     "name": "stderr",
     "output_type": "stream",
     "text": [
      "                                                                                           \r"
     ]
    },
    {
     "name": "stdout",
     "output_type": "stream",
     "text": [
      "Epoch 424/10000 — Avg Train Loss: 4.5712 | Avg Val Loss:   10.0243 | LR: 9.97e-03\n"
     ]
    },
    {
     "name": "stderr",
     "output_type": "stream",
     "text": [
      "                                                                                           \r"
     ]
    },
    {
     "name": "stdout",
     "output_type": "stream",
     "text": [
      "Epoch 425/10000 — Avg Train Loss: 4.5780 | Avg Val Loss:   10.1358 | LR: 9.96e-03\n"
     ]
    },
    {
     "name": "stderr",
     "output_type": "stream",
     "text": [
      "                                                                                           \r"
     ]
    },
    {
     "name": "stdout",
     "output_type": "stream",
     "text": [
      "Epoch 426/10000 — Avg Train Loss: 4.5613 | Avg Val Loss:   9.3391 | LR: 9.96e-03\n"
     ]
    },
    {
     "name": "stderr",
     "output_type": "stream",
     "text": [
      "                                                                                           \r"
     ]
    },
    {
     "name": "stdout",
     "output_type": "stream",
     "text": [
      "Epoch 427/10000 — Avg Train Loss: 4.5612 | Avg Val Loss:   10.3049 | LR: 9.96e-03\n"
     ]
    },
    {
     "name": "stderr",
     "output_type": "stream",
     "text": [
      "                                                                                           \r"
     ]
    },
    {
     "name": "stdout",
     "output_type": "stream",
     "text": [
      "Epoch 428/10000 — Avg Train Loss: 4.5682 | Avg Val Loss:   9.4600 | LR: 9.96e-03\n"
     ]
    },
    {
     "name": "stderr",
     "output_type": "stream",
     "text": [
      "                                                                                           \r"
     ]
    },
    {
     "name": "stdout",
     "output_type": "stream",
     "text": [
      "Epoch 429/10000 — Avg Train Loss: 4.5447 | Avg Val Loss:   10.1944 | LR: 9.96e-03\n"
     ]
    },
    {
     "name": "stderr",
     "output_type": "stream",
     "text": [
      "                                                                                           \r"
     ]
    },
    {
     "name": "stdout",
     "output_type": "stream",
     "text": [
      "Epoch 430/10000 — Avg Train Loss: 4.5460 | Avg Val Loss:   10.3147 | LR: 9.96e-03\n"
     ]
    },
    {
     "name": "stderr",
     "output_type": "stream",
     "text": [
      "                                                                                           \r"
     ]
    },
    {
     "name": "stdout",
     "output_type": "stream",
     "text": [
      "Epoch 431/10000 — Avg Train Loss: 4.5697 | Avg Val Loss:   10.2494 | LR: 9.96e-03\n"
     ]
    },
    {
     "name": "stderr",
     "output_type": "stream",
     "text": [
      "                                                                                           \r"
     ]
    },
    {
     "name": "stdout",
     "output_type": "stream",
     "text": [
      "Epoch 432/10000 — Avg Train Loss: 4.5641 | Avg Val Loss:   10.2166 | LR: 9.96e-03\n"
     ]
    },
    {
     "name": "stderr",
     "output_type": "stream",
     "text": [
      "                                                                                           \r"
     ]
    },
    {
     "name": "stdout",
     "output_type": "stream",
     "text": [
      "Epoch 433/10000 — Avg Train Loss: 4.5540 | Avg Val Loss:   9.6374 | LR: 9.96e-03\n"
     ]
    },
    {
     "name": "stderr",
     "output_type": "stream",
     "text": [
      "                                                                                           \r"
     ]
    },
    {
     "name": "stdout",
     "output_type": "stream",
     "text": [
      "Epoch 434/10000 — Avg Train Loss: 4.5530 | Avg Val Loss:   10.2422 | LR: 9.96e-03\n"
     ]
    },
    {
     "name": "stderr",
     "output_type": "stream",
     "text": [
      "                                                                                           \r"
     ]
    },
    {
     "name": "stdout",
     "output_type": "stream",
     "text": [
      "Epoch 435/10000 — Avg Train Loss: 4.5644 | Avg Val Loss:   10.3933 | LR: 9.96e-03\n"
     ]
    },
    {
     "name": "stderr",
     "output_type": "stream",
     "text": [
      "                                                                                           \r"
     ]
    },
    {
     "name": "stdout",
     "output_type": "stream",
     "text": [
      "Epoch 436/10000 — Avg Train Loss: 4.5471 | Avg Val Loss:   10.0184 | LR: 9.96e-03\n"
     ]
    },
    {
     "name": "stderr",
     "output_type": "stream",
     "text": [
      "                                                                                           \r"
     ]
    },
    {
     "name": "stdout",
     "output_type": "stream",
     "text": [
      "Epoch 437/10000 — Avg Train Loss: 4.5177 | Avg Val Loss:   10.0702 | LR: 9.96e-03\n"
     ]
    },
    {
     "name": "stderr",
     "output_type": "stream",
     "text": [
      "                                                                                           \r"
     ]
    },
    {
     "name": "stdout",
     "output_type": "stream",
     "text": [
      "Epoch 438/10000 — Avg Train Loss: 4.5319 | Avg Val Loss:   10.1182 | LR: 9.96e-03\n"
     ]
    },
    {
     "name": "stderr",
     "output_type": "stream",
     "text": [
      "                                                                                           \r"
     ]
    },
    {
     "name": "stdout",
     "output_type": "stream",
     "text": [
      "Epoch 439/10000 — Avg Train Loss: 4.5516 | Avg Val Loss:   9.5835 | LR: 9.96e-03\n"
     ]
    },
    {
     "name": "stderr",
     "output_type": "stream",
     "text": [
      "                                                                                           \r"
     ]
    },
    {
     "name": "stdout",
     "output_type": "stream",
     "text": [
      "Epoch 440/10000 — Avg Train Loss: 4.5140 | Avg Val Loss:   10.4707 | LR: 9.96e-03\n"
     ]
    },
    {
     "name": "stderr",
     "output_type": "stream",
     "text": [
      "                                                                                           \r"
     ]
    },
    {
     "name": "stdout",
     "output_type": "stream",
     "text": [
      "Epoch 441/10000 — Avg Train Loss: 4.5487 | Avg Val Loss:   10.2400 | LR: 9.96e-03\n"
     ]
    },
    {
     "name": "stderr",
     "output_type": "stream",
     "text": [
      "                                                                                           \r"
     ]
    },
    {
     "name": "stdout",
     "output_type": "stream",
     "text": [
      "Epoch 442/10000 — Avg Train Loss: 4.5313 | Avg Val Loss:   10.7240 | LR: 9.96e-03\n"
     ]
    },
    {
     "name": "stderr",
     "output_type": "stream",
     "text": [
      "                                                                                           \r"
     ]
    },
    {
     "name": "stdout",
     "output_type": "stream",
     "text": [
      "Epoch 443/10000 — Avg Train Loss: 4.5413 | Avg Val Loss:   10.1749 | LR: 9.96e-03\n"
     ]
    },
    {
     "name": "stderr",
     "output_type": "stream",
     "text": [
      "                                                                                           \r"
     ]
    },
    {
     "name": "stdout",
     "output_type": "stream",
     "text": [
      "Epoch 444/10000 — Avg Train Loss: 4.5325 | Avg Val Loss:   10.5438 | LR: 9.96e-03\n"
     ]
    },
    {
     "name": "stderr",
     "output_type": "stream",
     "text": [
      "                                                                                           \r"
     ]
    },
    {
     "name": "stdout",
     "output_type": "stream",
     "text": [
      "Epoch 445/10000 — Avg Train Loss: 4.5660 | Avg Val Loss:   9.9620 | LR: 9.96e-03\n"
     ]
    },
    {
     "name": "stderr",
     "output_type": "stream",
     "text": [
      "                                                                                           \r"
     ]
    },
    {
     "name": "stdout",
     "output_type": "stream",
     "text": [
      "Epoch 446/10000 — Avg Train Loss: 4.5417 | Avg Val Loss:   10.1869 | LR: 9.96e-03\n"
     ]
    },
    {
     "name": "stderr",
     "output_type": "stream",
     "text": [
      "                                                                                           \r"
     ]
    },
    {
     "name": "stdout",
     "output_type": "stream",
     "text": [
      "Epoch 447/10000 — Avg Train Loss: 4.5368 | Avg Val Loss:   10.2060 | LR: 9.96e-03\n"
     ]
    },
    {
     "name": "stderr",
     "output_type": "stream",
     "text": [
      "                                                                                           \r"
     ]
    },
    {
     "name": "stdout",
     "output_type": "stream",
     "text": [
      "Epoch 448/10000 — Avg Train Loss: 4.5520 | Avg Val Loss:   9.9157 | LR: 9.96e-03\n"
     ]
    },
    {
     "name": "stderr",
     "output_type": "stream",
     "text": [
      "                                                                                           \r"
     ]
    },
    {
     "name": "stdout",
     "output_type": "stream",
     "text": [
      "Epoch 449/10000 — Avg Train Loss: 4.5278 | Avg Val Loss:   10.3376 | LR: 9.96e-03\n"
     ]
    },
    {
     "name": "stderr",
     "output_type": "stream",
     "text": [
      "                                                                                           \r"
     ]
    },
    {
     "name": "stdout",
     "output_type": "stream",
     "text": [
      "Epoch 450/10000 — Avg Train Loss: 4.5262 | Avg Val Loss:   10.4046 | LR: 9.96e-03\n"
     ]
    },
    {
     "name": "stderr",
     "output_type": "stream",
     "text": [
      "                                                                                           \r"
     ]
    },
    {
     "name": "stdout",
     "output_type": "stream",
     "text": [
      "Epoch 451/10000 — Avg Train Loss: 4.5447 | Avg Val Loss:   10.0232 | LR: 9.96e-03\n"
     ]
    },
    {
     "name": "stderr",
     "output_type": "stream",
     "text": [
      "                                                                                           \r"
     ]
    },
    {
     "name": "stdout",
     "output_type": "stream",
     "text": [
      "Epoch 452/10000 — Avg Train Loss: 4.5179 | Avg Val Loss:   9.5961 | LR: 9.96e-03\n"
     ]
    },
    {
     "name": "stderr",
     "output_type": "stream",
     "text": [
      "                                                                                           \r"
     ]
    },
    {
     "name": "stdout",
     "output_type": "stream",
     "text": [
      "Epoch 453/10000 — Avg Train Loss: 4.5297 | Avg Val Loss:   9.9781 | LR: 9.96e-03\n"
     ]
    },
    {
     "name": "stderr",
     "output_type": "stream",
     "text": [
      "                                                                                           \r"
     ]
    },
    {
     "name": "stdout",
     "output_type": "stream",
     "text": [
      "Epoch 454/10000 — Avg Train Loss: 4.5254 | Avg Val Loss:   11.0038 | LR: 9.96e-03\n"
     ]
    },
    {
     "name": "stderr",
     "output_type": "stream",
     "text": [
      "                                                                                           \r"
     ]
    },
    {
     "name": "stdout",
     "output_type": "stream",
     "text": [
      "Epoch 455/10000 — Avg Train Loss: 4.5192 | Avg Val Loss:   10.4213 | LR: 9.96e-03\n"
     ]
    },
    {
     "name": "stderr",
     "output_type": "stream",
     "text": [
      "                                                                                           \r"
     ]
    },
    {
     "name": "stdout",
     "output_type": "stream",
     "text": [
      "Epoch 456/10000 — Avg Train Loss: 4.4995 | Avg Val Loss:   10.3347 | LR: 9.96e-03\n"
     ]
    },
    {
     "name": "stderr",
     "output_type": "stream",
     "text": [
      "                                                                                           \r"
     ]
    },
    {
     "name": "stdout",
     "output_type": "stream",
     "text": [
      "Epoch 457/10000 — Avg Train Loss: 4.5281 | Avg Val Loss:   10.2770 | LR: 9.96e-03\n"
     ]
    },
    {
     "name": "stderr",
     "output_type": "stream",
     "text": [
      "                                                                                           \r"
     ]
    },
    {
     "name": "stdout",
     "output_type": "stream",
     "text": [
      "Epoch 458/10000 — Avg Train Loss: 4.5187 | Avg Val Loss:   9.8689 | LR: 9.96e-03\n"
     ]
    },
    {
     "name": "stderr",
     "output_type": "stream",
     "text": [
      "                                                                                           \r"
     ]
    },
    {
     "name": "stdout",
     "output_type": "stream",
     "text": [
      "Epoch 459/10000 — Avg Train Loss: 4.5343 | Avg Val Loss:   10.1976 | LR: 9.96e-03\n"
     ]
    },
    {
     "name": "stderr",
     "output_type": "stream",
     "text": [
      "                                                                                           \r"
     ]
    },
    {
     "name": "stdout",
     "output_type": "stream",
     "text": [
      "Epoch 460/10000 — Avg Train Loss: 4.5178 | Avg Val Loss:   10.4125 | LR: 9.96e-03\n"
     ]
    },
    {
     "name": "stderr",
     "output_type": "stream",
     "text": [
      "                                                                                           \r"
     ]
    },
    {
     "name": "stdout",
     "output_type": "stream",
     "text": [
      "Epoch 461/10000 — Avg Train Loss: 4.4976 | Avg Val Loss:   10.8844 | LR: 9.96e-03\n"
     ]
    },
    {
     "name": "stderr",
     "output_type": "stream",
     "text": [
      "                                                                                           \r"
     ]
    },
    {
     "name": "stdout",
     "output_type": "stream",
     "text": [
      "Epoch 462/10000 — Avg Train Loss: 4.4932 | Avg Val Loss:   10.4616 | LR: 9.96e-03\n"
     ]
    },
    {
     "name": "stderr",
     "output_type": "stream",
     "text": [
      "                                                                                           \r"
     ]
    },
    {
     "name": "stdout",
     "output_type": "stream",
     "text": [
      "Epoch 463/10000 — Avg Train Loss: 4.4970 | Avg Val Loss:   10.3731 | LR: 9.96e-03\n"
     ]
    },
    {
     "name": "stderr",
     "output_type": "stream",
     "text": [
      "                                                                                           \r"
     ]
    },
    {
     "name": "stdout",
     "output_type": "stream",
     "text": [
      "Epoch 464/10000 — Avg Train Loss: 4.5211 | Avg Val Loss:   9.8324 | LR: 9.96e-03\n"
     ]
    },
    {
     "name": "stderr",
     "output_type": "stream",
     "text": [
      "                                                                                           \r"
     ]
    },
    {
     "name": "stdout",
     "output_type": "stream",
     "text": [
      "Epoch 465/10000 — Avg Train Loss: 4.4966 | Avg Val Loss:   10.6934 | LR: 9.96e-03\n"
     ]
    },
    {
     "name": "stderr",
     "output_type": "stream",
     "text": [
      "                                                                                           \r"
     ]
    },
    {
     "name": "stdout",
     "output_type": "stream",
     "text": [
      "Epoch 466/10000 — Avg Train Loss: 4.4989 | Avg Val Loss:   10.3851 | LR: 9.96e-03\n"
     ]
    },
    {
     "name": "stderr",
     "output_type": "stream",
     "text": [
      "                                                                                           \r"
     ]
    },
    {
     "name": "stdout",
     "output_type": "stream",
     "text": [
      "Epoch 467/10000 — Avg Train Loss: 4.5095 | Avg Val Loss:   9.8904 | LR: 9.96e-03\n"
     ]
    },
    {
     "name": "stderr",
     "output_type": "stream",
     "text": [
      "                                                                                           \r"
     ]
    },
    {
     "name": "stdout",
     "output_type": "stream",
     "text": [
      "Epoch 468/10000 — Avg Train Loss: 4.5316 | Avg Val Loss:   10.3191 | LR: 9.96e-03\n"
     ]
    },
    {
     "name": "stderr",
     "output_type": "stream",
     "text": [
      "                                                                                           \r"
     ]
    },
    {
     "name": "stdout",
     "output_type": "stream",
     "text": [
      "Epoch 469/10000 — Avg Train Loss: 4.5071 | Avg Val Loss:   10.5301 | LR: 9.96e-03\n"
     ]
    },
    {
     "name": "stderr",
     "output_type": "stream",
     "text": [
      "                                                                                           \r"
     ]
    },
    {
     "name": "stdout",
     "output_type": "stream",
     "text": [
      "Epoch 470/10000 — Avg Train Loss: 4.4888 | Avg Val Loss:   10.1319 | LR: 9.96e-03\n"
     ]
    },
    {
     "name": "stderr",
     "output_type": "stream",
     "text": [
      "                                                                                           \r"
     ]
    },
    {
     "name": "stdout",
     "output_type": "stream",
     "text": [
      "Epoch 471/10000 — Avg Train Loss: 4.4574 | Avg Val Loss:   10.5173 | LR: 9.96e-03\n"
     ]
    },
    {
     "name": "stderr",
     "output_type": "stream",
     "text": [
      "                                                                                           \r"
     ]
    },
    {
     "name": "stdout",
     "output_type": "stream",
     "text": [
      "Epoch 472/10000 — Avg Train Loss: 4.5072 | Avg Val Loss:   10.4236 | LR: 9.96e-03\n"
     ]
    },
    {
     "name": "stderr",
     "output_type": "stream",
     "text": [
      "                                                                                           \r"
     ]
    },
    {
     "name": "stdout",
     "output_type": "stream",
     "text": [
      "Epoch 473/10000 — Avg Train Loss: 4.4842 | Avg Val Loss:   10.3681 | LR: 9.96e-03\n"
     ]
    },
    {
     "name": "stderr",
     "output_type": "stream",
     "text": [
      "                                                                                           \r"
     ]
    },
    {
     "name": "stdout",
     "output_type": "stream",
     "text": [
      "Epoch 474/10000 — Avg Train Loss: 4.4520 | Avg Val Loss:   10.7253 | LR: 9.96e-03\n"
     ]
    },
    {
     "name": "stderr",
     "output_type": "stream",
     "text": [
      "                                                                                           \r"
     ]
    },
    {
     "name": "stdout",
     "output_type": "stream",
     "text": [
      "Epoch 475/10000 — Avg Train Loss: 4.4621 | Avg Val Loss:   9.6738 | LR: 9.96e-03\n"
     ]
    },
    {
     "name": "stderr",
     "output_type": "stream",
     "text": [
      "                                                                                           \r"
     ]
    },
    {
     "name": "stdout",
     "output_type": "stream",
     "text": [
      "Epoch 476/10000 — Avg Train Loss: 4.4577 | Avg Val Loss:   10.4529 | LR: 9.95e-03\n"
     ]
    },
    {
     "name": "stderr",
     "output_type": "stream",
     "text": [
      "                                                                                           \r"
     ]
    },
    {
     "name": "stdout",
     "output_type": "stream",
     "text": [
      "Epoch 477/10000 — Avg Train Loss: 4.4875 | Avg Val Loss:   10.9586 | LR: 9.95e-03\n"
     ]
    },
    {
     "name": "stderr",
     "output_type": "stream",
     "text": [
      "                                                                                           \r"
     ]
    },
    {
     "name": "stdout",
     "output_type": "stream",
     "text": [
      "Epoch 478/10000 — Avg Train Loss: 4.4854 | Avg Val Loss:   9.7999 | LR: 9.95e-03\n"
     ]
    },
    {
     "name": "stderr",
     "output_type": "stream",
     "text": [
      "                                                                                           \r"
     ]
    },
    {
     "name": "stdout",
     "output_type": "stream",
     "text": [
      "Epoch 479/10000 — Avg Train Loss: 4.5319 | Avg Val Loss:   9.7324 | LR: 9.95e-03\n"
     ]
    },
    {
     "name": "stderr",
     "output_type": "stream",
     "text": [
      "                                                                                           \r"
     ]
    },
    {
     "name": "stdout",
     "output_type": "stream",
     "text": [
      "Epoch 480/10000 — Avg Train Loss: 4.5208 | Avg Val Loss:   10.1480 | LR: 9.95e-03\n"
     ]
    },
    {
     "name": "stderr",
     "output_type": "stream",
     "text": [
      "                                                                                           \r"
     ]
    },
    {
     "name": "stdout",
     "output_type": "stream",
     "text": [
      "Epoch 481/10000 — Avg Train Loss: 4.4899 | Avg Val Loss:   10.3416 | LR: 9.95e-03\n"
     ]
    },
    {
     "name": "stderr",
     "output_type": "stream",
     "text": [
      "                                                                                           \r"
     ]
    },
    {
     "name": "stdout",
     "output_type": "stream",
     "text": [
      "Epoch 482/10000 — Avg Train Loss: 4.5208 | Avg Val Loss:   10.1131 | LR: 9.95e-03\n"
     ]
    },
    {
     "name": "stderr",
     "output_type": "stream",
     "text": [
      "                                                                                           \r"
     ]
    },
    {
     "name": "stdout",
     "output_type": "stream",
     "text": [
      "Epoch 483/10000 — Avg Train Loss: 4.5227 | Avg Val Loss:   10.3869 | LR: 9.95e-03\n"
     ]
    },
    {
     "name": "stderr",
     "output_type": "stream",
     "text": [
      "                                                                                           \r"
     ]
    },
    {
     "name": "stdout",
     "output_type": "stream",
     "text": [
      "Epoch 484/10000 — Avg Train Loss: 4.5117 | Avg Val Loss:   10.9163 | LR: 9.95e-03\n"
     ]
    },
    {
     "name": "stderr",
     "output_type": "stream",
     "text": [
      "                                                                                           \r"
     ]
    },
    {
     "name": "stdout",
     "output_type": "stream",
     "text": [
      "Epoch 485/10000 — Avg Train Loss: 4.4859 | Avg Val Loss:   10.2515 | LR: 9.95e-03\n"
     ]
    },
    {
     "name": "stderr",
     "output_type": "stream",
     "text": [
      "                                                                                           \r"
     ]
    },
    {
     "name": "stdout",
     "output_type": "stream",
     "text": [
      "Epoch 486/10000 — Avg Train Loss: 4.4914 | Avg Val Loss:   10.4949 | LR: 9.95e-03\n"
     ]
    },
    {
     "name": "stderr",
     "output_type": "stream",
     "text": [
      "                                                                                           \r"
     ]
    },
    {
     "name": "stdout",
     "output_type": "stream",
     "text": [
      "Epoch 487/10000 — Avg Train Loss: 4.4990 | Avg Val Loss:   10.2197 | LR: 9.95e-03\n"
     ]
    },
    {
     "name": "stderr",
     "output_type": "stream",
     "text": [
      "                                                                                           \r"
     ]
    },
    {
     "name": "stdout",
     "output_type": "stream",
     "text": [
      "Epoch 488/10000 — Avg Train Loss: 4.5276 | Avg Val Loss:   9.9343 | LR: 9.95e-03\n"
     ]
    },
    {
     "name": "stderr",
     "output_type": "stream",
     "text": [
      "                                                                                           \r"
     ]
    },
    {
     "name": "stdout",
     "output_type": "stream",
     "text": [
      "Epoch 489/10000 — Avg Train Loss: 4.5529 | Avg Val Loss:   10.2867 | LR: 9.95e-03\n"
     ]
    },
    {
     "name": "stderr",
     "output_type": "stream",
     "text": [
      "                                                                                           \r"
     ]
    },
    {
     "name": "stdout",
     "output_type": "stream",
     "text": [
      "Epoch 490/10000 — Avg Train Loss: 4.5450 | Avg Val Loss:   10.2944 | LR: 9.95e-03\n"
     ]
    },
    {
     "name": "stderr",
     "output_type": "stream",
     "text": [
      "                                                                                           \r"
     ]
    },
    {
     "name": "stdout",
     "output_type": "stream",
     "text": [
      "Epoch 491/10000 — Avg Train Loss: 4.5362 | Avg Val Loss:   10.1685 | LR: 9.95e-03\n"
     ]
    },
    {
     "name": "stderr",
     "output_type": "stream",
     "text": [
      "                                                                                           \r"
     ]
    },
    {
     "name": "stdout",
     "output_type": "stream",
     "text": [
      "Epoch 492/10000 — Avg Train Loss: 4.5161 | Avg Val Loss:   9.9932 | LR: 9.95e-03\n"
     ]
    },
    {
     "name": "stderr",
     "output_type": "stream",
     "text": [
      "                                                                                           \r"
     ]
    },
    {
     "name": "stdout",
     "output_type": "stream",
     "text": [
      "Epoch 493/10000 — Avg Train Loss: 4.4857 | Avg Val Loss:   9.8599 | LR: 9.95e-03\n"
     ]
    },
    {
     "name": "stderr",
     "output_type": "stream",
     "text": [
      "                                                                                           \r"
     ]
    },
    {
     "name": "stdout",
     "output_type": "stream",
     "text": [
      "Epoch 494/10000 — Avg Train Loss: 4.4908 | Avg Val Loss:   10.2226 | LR: 9.95e-03\n"
     ]
    },
    {
     "name": "stderr",
     "output_type": "stream",
     "text": [
      "                                                                                           \r"
     ]
    },
    {
     "name": "stdout",
     "output_type": "stream",
     "text": [
      "Epoch 495/10000 — Avg Train Loss: 4.4862 | Avg Val Loss:   10.6826 | LR: 9.95e-03\n"
     ]
    },
    {
     "name": "stderr",
     "output_type": "stream",
     "text": [
      "                                                                                           \r"
     ]
    },
    {
     "name": "stdout",
     "output_type": "stream",
     "text": [
      "Epoch 496/10000 — Avg Train Loss: 4.4592 | Avg Val Loss:   10.2493 | LR: 9.95e-03\n"
     ]
    },
    {
     "name": "stderr",
     "output_type": "stream",
     "text": [
      "                                                                                           \r"
     ]
    },
    {
     "name": "stdout",
     "output_type": "stream",
     "text": [
      "Epoch 497/10000 — Avg Train Loss: 4.4755 | Avg Val Loss:   9.9955 | LR: 9.95e-03\n"
     ]
    },
    {
     "name": "stderr",
     "output_type": "stream",
     "text": [
      "                                                                                           \r"
     ]
    },
    {
     "name": "stdout",
     "output_type": "stream",
     "text": [
      "Epoch 498/10000 — Avg Train Loss: 4.4822 | Avg Val Loss:   10.1364 | LR: 9.95e-03\n"
     ]
    },
    {
     "name": "stderr",
     "output_type": "stream",
     "text": [
      "                                                                                           \r"
     ]
    },
    {
     "name": "stdout",
     "output_type": "stream",
     "text": [
      "Epoch 499/10000 — Avg Train Loss: 4.4883 | Avg Val Loss:   9.5347 | LR: 9.95e-03\n"
     ]
    },
    {
     "name": "stderr",
     "output_type": "stream",
     "text": [
      "                                                                                           \r"
     ]
    },
    {
     "name": "stdout",
     "output_type": "stream",
     "text": [
      "Epoch 500/10000 — Avg Train Loss: 4.4840 | Avg Val Loss:   10.1342 | LR: 9.95e-03\n"
     ]
    },
    {
     "name": "stderr",
     "output_type": "stream",
     "text": [
      "                                                                                           \r"
     ]
    },
    {
     "name": "stdout",
     "output_type": "stream",
     "text": [
      "Epoch 501/10000 — Avg Train Loss: 4.5001 | Avg Val Loss:   10.0654 | LR: 9.95e-03\n"
     ]
    },
    {
     "name": "stderr",
     "output_type": "stream",
     "text": [
      "                                                                                           \r"
     ]
    },
    {
     "name": "stdout",
     "output_type": "stream",
     "text": [
      "Epoch 502/10000 — Avg Train Loss: 4.5149 | Avg Val Loss:   9.6739 | LR: 9.95e-03\n"
     ]
    },
    {
     "name": "stderr",
     "output_type": "stream",
     "text": [
      "                                                                                           \r"
     ]
    },
    {
     "name": "stdout",
     "output_type": "stream",
     "text": [
      "Epoch 503/10000 — Avg Train Loss: 4.4955 | Avg Val Loss:   10.3435 | LR: 9.95e-03\n"
     ]
    },
    {
     "name": "stderr",
     "output_type": "stream",
     "text": [
      "                                                                                           \r"
     ]
    },
    {
     "name": "stdout",
     "output_type": "stream",
     "text": [
      "Epoch 504/10000 — Avg Train Loss: 4.4908 | Avg Val Loss:   10.3281 | LR: 9.95e-03\n"
     ]
    },
    {
     "name": "stderr",
     "output_type": "stream",
     "text": [
      "                                                                                           \r"
     ]
    },
    {
     "name": "stdout",
     "output_type": "stream",
     "text": [
      "Epoch 505/10000 — Avg Train Loss: 4.5001 | Avg Val Loss:   10.9950 | LR: 9.95e-03\n"
     ]
    },
    {
     "name": "stderr",
     "output_type": "stream",
     "text": [
      "                                                                                           \r"
     ]
    },
    {
     "name": "stdout",
     "output_type": "stream",
     "text": [
      "Epoch 506/10000 — Avg Train Loss: 4.4597 | Avg Val Loss:   10.4152 | LR: 9.95e-03\n"
     ]
    },
    {
     "name": "stderr",
     "output_type": "stream",
     "text": [
      "                                                                                           \r"
     ]
    },
    {
     "name": "stdout",
     "output_type": "stream",
     "text": [
      "Epoch 507/10000 — Avg Train Loss: 4.5022 | Avg Val Loss:   10.1392 | LR: 9.95e-03\n"
     ]
    },
    {
     "name": "stderr",
     "output_type": "stream",
     "text": [
      "                                                                                           \r"
     ]
    },
    {
     "name": "stdout",
     "output_type": "stream",
     "text": [
      "Epoch 508/10000 — Avg Train Loss: 4.4957 | Avg Val Loss:   10.3152 | LR: 9.95e-03\n"
     ]
    },
    {
     "name": "stderr",
     "output_type": "stream",
     "text": [
      "                                                                                           \r"
     ]
    },
    {
     "name": "stdout",
     "output_type": "stream",
     "text": [
      "Epoch 509/10000 — Avg Train Loss: 4.4769 | Avg Val Loss:   10.1853 | LR: 9.95e-03\n"
     ]
    },
    {
     "name": "stderr",
     "output_type": "stream",
     "text": [
      "                                                                                           \r"
     ]
    },
    {
     "name": "stdout",
     "output_type": "stream",
     "text": [
      "Epoch 510/10000 — Avg Train Loss: 4.4471 | Avg Val Loss:   10.0939 | LR: 9.95e-03\n"
     ]
    },
    {
     "name": "stderr",
     "output_type": "stream",
     "text": [
      "                                                                                           \r"
     ]
    },
    {
     "name": "stdout",
     "output_type": "stream",
     "text": [
      "Epoch 511/10000 — Avg Train Loss: 4.4478 | Avg Val Loss:   10.8090 | LR: 9.95e-03\n"
     ]
    },
    {
     "name": "stderr",
     "output_type": "stream",
     "text": [
      "                                                                                           \r"
     ]
    },
    {
     "name": "stdout",
     "output_type": "stream",
     "text": [
      "Epoch 512/10000 — Avg Train Loss: 4.4657 | Avg Val Loss:   10.1359 | LR: 9.95e-03\n"
     ]
    },
    {
     "name": "stderr",
     "output_type": "stream",
     "text": [
      "                                                                                           \r"
     ]
    },
    {
     "name": "stdout",
     "output_type": "stream",
     "text": [
      "Epoch 513/10000 — Avg Train Loss: 4.4708 | Avg Val Loss:   9.7925 | LR: 9.95e-03\n"
     ]
    },
    {
     "name": "stderr",
     "output_type": "stream",
     "text": [
      "                                                                                           \r"
     ]
    },
    {
     "name": "stdout",
     "output_type": "stream",
     "text": [
      "Epoch 514/10000 — Avg Train Loss: 4.4342 | Avg Val Loss:   9.8375 | LR: 9.95e-03\n"
     ]
    },
    {
     "name": "stderr",
     "output_type": "stream",
     "text": [
      "                                                                                           \r"
     ]
    },
    {
     "name": "stdout",
     "output_type": "stream",
     "text": [
      "Epoch 515/10000 — Avg Train Loss: 4.4464 | Avg Val Loss:   10.8027 | LR: 9.95e-03\n"
     ]
    },
    {
     "name": "stderr",
     "output_type": "stream",
     "text": [
      "                                                                                           \r"
     ]
    },
    {
     "name": "stdout",
     "output_type": "stream",
     "text": [
      "Epoch 516/10000 — Avg Train Loss: 4.4904 | Avg Val Loss:   10.0633 | LR: 9.95e-03\n"
     ]
    },
    {
     "name": "stderr",
     "output_type": "stream",
     "text": [
      "                                                                                           \r"
     ]
    },
    {
     "name": "stdout",
     "output_type": "stream",
     "text": [
      "Epoch 517/10000 — Avg Train Loss: 4.4860 | Avg Val Loss:   10.4170 | LR: 9.95e-03\n"
     ]
    },
    {
     "name": "stderr",
     "output_type": "stream",
     "text": [
      "                                                                                           \r"
     ]
    },
    {
     "name": "stdout",
     "output_type": "stream",
     "text": [
      "Epoch 518/10000 — Avg Train Loss: 4.4830 | Avg Val Loss:   10.2361 | LR: 9.95e-03\n"
     ]
    },
    {
     "name": "stderr",
     "output_type": "stream",
     "text": [
      "                                                                                           \r"
     ]
    },
    {
     "name": "stdout",
     "output_type": "stream",
     "text": [
      "Epoch 519/10000 — Avg Train Loss: 4.4728 | Avg Val Loss:   10.2215 | LR: 9.95e-03\n"
     ]
    },
    {
     "name": "stderr",
     "output_type": "stream",
     "text": [
      "                                                                                           \r"
     ]
    },
    {
     "name": "stdout",
     "output_type": "stream",
     "text": [
      "Epoch 520/10000 — Avg Train Loss: 4.4171 | Avg Val Loss:   10.2196 | LR: 9.95e-03\n"
     ]
    },
    {
     "name": "stderr",
     "output_type": "stream",
     "text": [
      "                                                                                           \r"
     ]
    },
    {
     "name": "stdout",
     "output_type": "stream",
     "text": [
      "Epoch 521/10000 — Avg Train Loss: 4.4224 | Avg Val Loss:   10.2610 | LR: 9.94e-03\n"
     ]
    },
    {
     "name": "stderr",
     "output_type": "stream",
     "text": [
      "                                                                                           \r"
     ]
    },
    {
     "name": "stdout",
     "output_type": "stream",
     "text": [
      "Epoch 522/10000 — Avg Train Loss: 4.4170 | Avg Val Loss:   10.4628 | LR: 9.94e-03\n"
     ]
    },
    {
     "name": "stderr",
     "output_type": "stream",
     "text": [
      "                                                                                           \r"
     ]
    },
    {
     "name": "stdout",
     "output_type": "stream",
     "text": [
      "Epoch 523/10000 — Avg Train Loss: 4.4220 | Avg Val Loss:   10.1323 | LR: 9.94e-03\n"
     ]
    },
    {
     "name": "stderr",
     "output_type": "stream",
     "text": [
      "                                                                                           \r"
     ]
    },
    {
     "name": "stdout",
     "output_type": "stream",
     "text": [
      "Epoch 524/10000 — Avg Train Loss: 4.4172 | Avg Val Loss:   10.6077 | LR: 9.94e-03\n"
     ]
    },
    {
     "name": "stderr",
     "output_type": "stream",
     "text": [
      "                                                                                           \r"
     ]
    },
    {
     "name": "stdout",
     "output_type": "stream",
     "text": [
      "Epoch 525/10000 — Avg Train Loss: 4.4025 | Avg Val Loss:   10.6181 | LR: 9.94e-03\n"
     ]
    },
    {
     "name": "stderr",
     "output_type": "stream",
     "text": [
      "                                                                                           \r"
     ]
    },
    {
     "name": "stdout",
     "output_type": "stream",
     "text": [
      "Epoch 526/10000 — Avg Train Loss: 4.4412 | Avg Val Loss:   10.7252 | LR: 9.94e-03\n"
     ]
    },
    {
     "name": "stderr",
     "output_type": "stream",
     "text": [
      "                                                                                           \r"
     ]
    },
    {
     "name": "stdout",
     "output_type": "stream",
     "text": [
      "Epoch 527/10000 — Avg Train Loss: 4.4064 | Avg Val Loss:   10.8460 | LR: 9.94e-03\n"
     ]
    },
    {
     "name": "stderr",
     "output_type": "stream",
     "text": [
      "                                                                                           \r"
     ]
    },
    {
     "name": "stdout",
     "output_type": "stream",
     "text": [
      "Epoch 528/10000 — Avg Train Loss: 4.4215 | Avg Val Loss:   10.8160 | LR: 9.94e-03\n"
     ]
    },
    {
     "name": "stderr",
     "output_type": "stream",
     "text": [
      "                                                                                           \r"
     ]
    },
    {
     "name": "stdout",
     "output_type": "stream",
     "text": [
      "Epoch 529/10000 — Avg Train Loss: 4.4128 | Avg Val Loss:   10.7097 | LR: 9.94e-03\n"
     ]
    },
    {
     "name": "stderr",
     "output_type": "stream",
     "text": [
      "                                                                                           \r"
     ]
    },
    {
     "name": "stdout",
     "output_type": "stream",
     "text": [
      "Epoch 530/10000 — Avg Train Loss: 4.4310 | Avg Val Loss:   10.5196 | LR: 9.94e-03\n"
     ]
    },
    {
     "name": "stderr",
     "output_type": "stream",
     "text": [
      "                                                                                           \r"
     ]
    },
    {
     "name": "stdout",
     "output_type": "stream",
     "text": [
      "Epoch 531/10000 — Avg Train Loss: 4.4139 | Avg Val Loss:   10.1538 | LR: 9.94e-03\n"
     ]
    },
    {
     "name": "stderr",
     "output_type": "stream",
     "text": [
      "                                                                                           \r"
     ]
    },
    {
     "name": "stdout",
     "output_type": "stream",
     "text": [
      "Epoch 532/10000 — Avg Train Loss: 4.3963 | Avg Val Loss:   9.9079 | LR: 9.94e-03\n"
     ]
    },
    {
     "name": "stderr",
     "output_type": "stream",
     "text": [
      "                                                                                           \r"
     ]
    },
    {
     "name": "stdout",
     "output_type": "stream",
     "text": [
      "Epoch 533/10000 — Avg Train Loss: 4.3964 | Avg Val Loss:   10.7148 | LR: 9.94e-03\n"
     ]
    },
    {
     "name": "stderr",
     "output_type": "stream",
     "text": [
      "                                                                                           \r"
     ]
    },
    {
     "name": "stdout",
     "output_type": "stream",
     "text": [
      "Epoch 534/10000 — Avg Train Loss: 4.4036 | Avg Val Loss:   10.4490 | LR: 9.94e-03\n"
     ]
    },
    {
     "name": "stderr",
     "output_type": "stream",
     "text": [
      "                                                                                           \r"
     ]
    },
    {
     "name": "stdout",
     "output_type": "stream",
     "text": [
      "Epoch 535/10000 — Avg Train Loss: 4.4098 | Avg Val Loss:   10.4290 | LR: 9.94e-03\n"
     ]
    },
    {
     "name": "stderr",
     "output_type": "stream",
     "text": [
      "                                                                                           \r"
     ]
    },
    {
     "name": "stdout",
     "output_type": "stream",
     "text": [
      "Epoch 536/10000 — Avg Train Loss: 4.4022 | Avg Val Loss:   10.4526 | LR: 9.94e-03\n"
     ]
    },
    {
     "name": "stderr",
     "output_type": "stream",
     "text": [
      "                                                                                           \r"
     ]
    },
    {
     "name": "stdout",
     "output_type": "stream",
     "text": [
      "Epoch 537/10000 — Avg Train Loss: 4.4279 | Avg Val Loss:   10.4055 | LR: 9.94e-03\n"
     ]
    },
    {
     "name": "stderr",
     "output_type": "stream",
     "text": [
      "                                                                                           \r"
     ]
    },
    {
     "name": "stdout",
     "output_type": "stream",
     "text": [
      "Epoch 538/10000 — Avg Train Loss: 4.4112 | Avg Val Loss:   10.8752 | LR: 9.94e-03\n"
     ]
    },
    {
     "name": "stderr",
     "output_type": "stream",
     "text": [
      "                                                                                           \r"
     ]
    },
    {
     "name": "stdout",
     "output_type": "stream",
     "text": [
      "Epoch 539/10000 — Avg Train Loss: 4.4108 | Avg Val Loss:   10.5213 | LR: 9.94e-03\n"
     ]
    },
    {
     "name": "stderr",
     "output_type": "stream",
     "text": [
      "                                                                                           \r"
     ]
    },
    {
     "name": "stdout",
     "output_type": "stream",
     "text": [
      "Epoch 540/10000 — Avg Train Loss: 4.3870 | Avg Val Loss:   10.4676 | LR: 9.94e-03\n"
     ]
    },
    {
     "name": "stderr",
     "output_type": "stream",
     "text": [
      "                                                                                           \r"
     ]
    },
    {
     "name": "stdout",
     "output_type": "stream",
     "text": [
      "Epoch 541/10000 — Avg Train Loss: 4.4070 | Avg Val Loss:   10.6831 | LR: 9.94e-03\n"
     ]
    },
    {
     "name": "stderr",
     "output_type": "stream",
     "text": [
      "                                                                                           \r"
     ]
    },
    {
     "name": "stdout",
     "output_type": "stream",
     "text": [
      "Epoch 542/10000 — Avg Train Loss: 4.3977 | Avg Val Loss:   10.6980 | LR: 9.94e-03\n"
     ]
    },
    {
     "name": "stderr",
     "output_type": "stream",
     "text": [
      "                                                                                           \r"
     ]
    },
    {
     "name": "stdout",
     "output_type": "stream",
     "text": [
      "Epoch 543/10000 — Avg Train Loss: 4.3970 | Avg Val Loss:   10.4748 | LR: 9.94e-03\n"
     ]
    },
    {
     "name": "stderr",
     "output_type": "stream",
     "text": [
      "                                                                                           \r"
     ]
    },
    {
     "name": "stdout",
     "output_type": "stream",
     "text": [
      "Epoch 544/10000 — Avg Train Loss: 4.4278 | Avg Val Loss:   10.3202 | LR: 9.94e-03\n"
     ]
    },
    {
     "name": "stderr",
     "output_type": "stream",
     "text": [
      "                                                                                           \r"
     ]
    },
    {
     "name": "stdout",
     "output_type": "stream",
     "text": [
      "Epoch 545/10000 — Avg Train Loss: 4.4029 | Avg Val Loss:   10.5172 | LR: 9.94e-03\n"
     ]
    },
    {
     "name": "stderr",
     "output_type": "stream",
     "text": [
      "                                                                                           \r"
     ]
    },
    {
     "name": "stdout",
     "output_type": "stream",
     "text": [
      "Epoch 546/10000 — Avg Train Loss: 4.4278 | Avg Val Loss:   10.6491 | LR: 9.94e-03\n"
     ]
    },
    {
     "name": "stderr",
     "output_type": "stream",
     "text": [
      "                                                                                           \r"
     ]
    },
    {
     "name": "stdout",
     "output_type": "stream",
     "text": [
      "Epoch 547/10000 — Avg Train Loss: 4.4116 | Avg Val Loss:   10.7017 | LR: 9.94e-03\n"
     ]
    },
    {
     "name": "stderr",
     "output_type": "stream",
     "text": [
      "                                                                                           \r"
     ]
    },
    {
     "name": "stdout",
     "output_type": "stream",
     "text": [
      "Epoch 548/10000 — Avg Train Loss: 4.3787 | Avg Val Loss:   10.0003 | LR: 9.94e-03\n"
     ]
    },
    {
     "name": "stderr",
     "output_type": "stream",
     "text": [
      "                                                                                           \r"
     ]
    },
    {
     "name": "stdout",
     "output_type": "stream",
     "text": [
      "Epoch 549/10000 — Avg Train Loss: 4.3616 | Avg Val Loss:   10.3883 | LR: 9.94e-03\n"
     ]
    },
    {
     "name": "stderr",
     "output_type": "stream",
     "text": [
      "                                                                                           \r"
     ]
    },
    {
     "name": "stdout",
     "output_type": "stream",
     "text": [
      "Epoch 550/10000 — Avg Train Loss: 4.3720 | Avg Val Loss:   10.4078 | LR: 9.94e-03\n"
     ]
    },
    {
     "name": "stderr",
     "output_type": "stream",
     "text": [
      "                                                                                           \r"
     ]
    },
    {
     "name": "stdout",
     "output_type": "stream",
     "text": [
      "Epoch 551/10000 — Avg Train Loss: 4.3867 | Avg Val Loss:   10.8355 | LR: 9.94e-03\n"
     ]
    },
    {
     "name": "stderr",
     "output_type": "stream",
     "text": [
      "                                                                                           \r"
     ]
    },
    {
     "name": "stdout",
     "output_type": "stream",
     "text": [
      "Epoch 552/10000 — Avg Train Loss: 4.3880 | Avg Val Loss:   10.6792 | LR: 9.94e-03\n"
     ]
    },
    {
     "name": "stderr",
     "output_type": "stream",
     "text": [
      "                                                                                           \r"
     ]
    },
    {
     "name": "stdout",
     "output_type": "stream",
     "text": [
      "Epoch 553/10000 — Avg Train Loss: 4.3405 | Avg Val Loss:   10.7564 | LR: 9.94e-03\n"
     ]
    },
    {
     "name": "stderr",
     "output_type": "stream",
     "text": [
      "                                                                                           \r"
     ]
    },
    {
     "name": "stdout",
     "output_type": "stream",
     "text": [
      "Epoch 554/10000 — Avg Train Loss: 4.3714 | Avg Val Loss:   10.6404 | LR: 9.94e-03\n"
     ]
    },
    {
     "name": "stderr",
     "output_type": "stream",
     "text": [
      "                                                                                           \r"
     ]
    },
    {
     "name": "stdout",
     "output_type": "stream",
     "text": [
      "Epoch 555/10000 — Avg Train Loss: 4.3507 | Avg Val Loss:   10.1122 | LR: 9.94e-03\n"
     ]
    },
    {
     "name": "stderr",
     "output_type": "stream",
     "text": [
      "                                                                                           \r"
     ]
    },
    {
     "name": "stdout",
     "output_type": "stream",
     "text": [
      "Epoch 556/10000 — Avg Train Loss: 4.3755 | Avg Val Loss:   10.1948 | LR: 9.94e-03\n"
     ]
    },
    {
     "name": "stderr",
     "output_type": "stream",
     "text": [
      "                                                                                           \r"
     ]
    },
    {
     "name": "stdout",
     "output_type": "stream",
     "text": [
      "Epoch 557/10000 — Avg Train Loss: 4.3847 | Avg Val Loss:   11.0994 | LR: 9.94e-03\n"
     ]
    },
    {
     "name": "stderr",
     "output_type": "stream",
     "text": [
      "                                                                                           \r"
     ]
    },
    {
     "name": "stdout",
     "output_type": "stream",
     "text": [
      "Epoch 558/10000 — Avg Train Loss: 4.3923 | Avg Val Loss:   10.2042 | LR: 9.94e-03\n"
     ]
    },
    {
     "name": "stderr",
     "output_type": "stream",
     "text": [
      "                                                                                           \r"
     ]
    },
    {
     "name": "stdout",
     "output_type": "stream",
     "text": [
      "Epoch 559/10000 — Avg Train Loss: 4.4004 | Avg Val Loss:   10.5726 | LR: 9.94e-03\n"
     ]
    },
    {
     "name": "stderr",
     "output_type": "stream",
     "text": [
      "                                                                                           \r"
     ]
    },
    {
     "name": "stdout",
     "output_type": "stream",
     "text": [
      "Epoch 560/10000 — Avg Train Loss: 4.3745 | Avg Val Loss:   10.9253 | LR: 9.94e-03\n"
     ]
    },
    {
     "name": "stderr",
     "output_type": "stream",
     "text": [
      "                                                                                           \r"
     ]
    },
    {
     "name": "stdout",
     "output_type": "stream",
     "text": [
      "Epoch 561/10000 — Avg Train Loss: 4.3734 | Avg Val Loss:   10.5091 | LR: 9.94e-03\n"
     ]
    },
    {
     "name": "stderr",
     "output_type": "stream",
     "text": [
      "                                                                                           \r"
     ]
    },
    {
     "name": "stdout",
     "output_type": "stream",
     "text": [
      "Epoch 562/10000 — Avg Train Loss: 4.3895 | Avg Val Loss:   10.7928 | LR: 9.93e-03\n"
     ]
    },
    {
     "name": "stderr",
     "output_type": "stream",
     "text": [
      "                                                                                           \r"
     ]
    },
    {
     "name": "stdout",
     "output_type": "stream",
     "text": [
      "Epoch 563/10000 — Avg Train Loss: 4.4043 | Avg Val Loss:   10.5887 | LR: 9.93e-03\n"
     ]
    },
    {
     "name": "stderr",
     "output_type": "stream",
     "text": [
      "                                                                                           \r"
     ]
    },
    {
     "name": "stdout",
     "output_type": "stream",
     "text": [
      "Epoch 564/10000 — Avg Train Loss: 4.4237 | Avg Val Loss:   10.3212 | LR: 9.93e-03\n"
     ]
    },
    {
     "name": "stderr",
     "output_type": "stream",
     "text": [
      "                                                                                           \r"
     ]
    },
    {
     "name": "stdout",
     "output_type": "stream",
     "text": [
      "Epoch 565/10000 — Avg Train Loss: 4.3859 | Avg Val Loss:   10.9050 | LR: 9.93e-03\n"
     ]
    },
    {
     "name": "stderr",
     "output_type": "stream",
     "text": [
      "                                                                                           \r"
     ]
    },
    {
     "name": "stdout",
     "output_type": "stream",
     "text": [
      "Epoch 566/10000 — Avg Train Loss: 4.3642 | Avg Val Loss:   10.2815 | LR: 9.93e-03\n"
     ]
    },
    {
     "name": "stderr",
     "output_type": "stream",
     "text": [
      "                                                                                           \r"
     ]
    },
    {
     "name": "stdout",
     "output_type": "stream",
     "text": [
      "Epoch 567/10000 — Avg Train Loss: 4.3686 | Avg Val Loss:   11.0185 | LR: 9.93e-03\n"
     ]
    },
    {
     "name": "stderr",
     "output_type": "stream",
     "text": [
      "                                                                                           \r"
     ]
    },
    {
     "name": "stdout",
     "output_type": "stream",
     "text": [
      "Epoch 568/10000 — Avg Train Loss: 4.4204 | Avg Val Loss:   11.4165 | LR: 9.93e-03\n"
     ]
    },
    {
     "name": "stderr",
     "output_type": "stream",
     "text": [
      "                                                                                           \r"
     ]
    },
    {
     "name": "stdout",
     "output_type": "stream",
     "text": [
      "Epoch 569/10000 — Avg Train Loss: 4.3778 | Avg Val Loss:   10.4192 | LR: 9.93e-03\n"
     ]
    },
    {
     "name": "stderr",
     "output_type": "stream",
     "text": [
      "                                                                                           \r"
     ]
    },
    {
     "name": "stdout",
     "output_type": "stream",
     "text": [
      "Epoch 570/10000 — Avg Train Loss: 4.3621 | Avg Val Loss:   10.7884 | LR: 9.93e-03\n"
     ]
    },
    {
     "name": "stderr",
     "output_type": "stream",
     "text": [
      "                                                                                           \r"
     ]
    },
    {
     "name": "stdout",
     "output_type": "stream",
     "text": [
      "Epoch 571/10000 — Avg Train Loss: 4.3650 | Avg Val Loss:   10.5620 | LR: 9.93e-03\n"
     ]
    },
    {
     "name": "stderr",
     "output_type": "stream",
     "text": [
      "                                                                                           \r"
     ]
    },
    {
     "name": "stdout",
     "output_type": "stream",
     "text": [
      "Epoch 572/10000 — Avg Train Loss: 4.3387 | Avg Val Loss:   10.4166 | LR: 9.93e-03\n"
     ]
    },
    {
     "name": "stderr",
     "output_type": "stream",
     "text": [
      "                                                                                           \r"
     ]
    },
    {
     "name": "stdout",
     "output_type": "stream",
     "text": [
      "Epoch 573/10000 — Avg Train Loss: 4.3702 | Avg Val Loss:   11.0166 | LR: 9.93e-03\n"
     ]
    },
    {
     "name": "stderr",
     "output_type": "stream",
     "text": [
      "                                                                                           \r"
     ]
    },
    {
     "name": "stdout",
     "output_type": "stream",
     "text": [
      "Epoch 574/10000 — Avg Train Loss: 4.3753 | Avg Val Loss:   10.3384 | LR: 9.93e-03\n"
     ]
    },
    {
     "name": "stderr",
     "output_type": "stream",
     "text": [
      "                                                                                           \r"
     ]
    },
    {
     "name": "stdout",
     "output_type": "stream",
     "text": [
      "Epoch 575/10000 — Avg Train Loss: 4.3687 | Avg Val Loss:   10.6216 | LR: 9.93e-03\n"
     ]
    },
    {
     "name": "stderr",
     "output_type": "stream",
     "text": [
      "                                                                                           \r"
     ]
    },
    {
     "name": "stdout",
     "output_type": "stream",
     "text": [
      "Epoch 576/10000 — Avg Train Loss: 4.3747 | Avg Val Loss:   10.1903 | LR: 9.93e-03\n"
     ]
    },
    {
     "name": "stderr",
     "output_type": "stream",
     "text": [
      "                                                                                           \r"
     ]
    },
    {
     "name": "stdout",
     "output_type": "stream",
     "text": [
      "Epoch 577/10000 — Avg Train Loss: 4.3669 | Avg Val Loss:   10.2172 | LR: 9.93e-03\n"
     ]
    },
    {
     "name": "stderr",
     "output_type": "stream",
     "text": [
      "                                                                                           \r"
     ]
    },
    {
     "name": "stdout",
     "output_type": "stream",
     "text": [
      "Epoch 578/10000 — Avg Train Loss: 4.3741 | Avg Val Loss:   10.3660 | LR: 9.93e-03\n"
     ]
    },
    {
     "name": "stderr",
     "output_type": "stream",
     "text": [
      "                                                                                           \r"
     ]
    },
    {
     "name": "stdout",
     "output_type": "stream",
     "text": [
      "Epoch 579/10000 — Avg Train Loss: 4.3869 | Avg Val Loss:   10.4414 | LR: 9.93e-03\n"
     ]
    },
    {
     "name": "stderr",
     "output_type": "stream",
     "text": [
      "                                                                                           \r"
     ]
    },
    {
     "name": "stdout",
     "output_type": "stream",
     "text": [
      "Epoch 580/10000 — Avg Train Loss: 4.3763 | Avg Val Loss:   10.8940 | LR: 9.93e-03\n"
     ]
    },
    {
     "name": "stderr",
     "output_type": "stream",
     "text": [
      "                                                                                           \r"
     ]
    },
    {
     "name": "stdout",
     "output_type": "stream",
     "text": [
      "Epoch 581/10000 — Avg Train Loss: 4.3300 | Avg Val Loss:   10.8293 | LR: 9.93e-03\n"
     ]
    },
    {
     "name": "stderr",
     "output_type": "stream",
     "text": [
      "                                                                                           \r"
     ]
    },
    {
     "name": "stdout",
     "output_type": "stream",
     "text": [
      "Epoch 582/10000 — Avg Train Loss: 4.3831 | Avg Val Loss:   9.9443 | LR: 9.93e-03\n"
     ]
    },
    {
     "name": "stderr",
     "output_type": "stream",
     "text": [
      "                                                                                           \r"
     ]
    },
    {
     "name": "stdout",
     "output_type": "stream",
     "text": [
      "Epoch 583/10000 — Avg Train Loss: 4.3697 | Avg Val Loss:   10.5122 | LR: 9.93e-03\n"
     ]
    },
    {
     "name": "stderr",
     "output_type": "stream",
     "text": [
      "                                                                                           \r"
     ]
    },
    {
     "name": "stdout",
     "output_type": "stream",
     "text": [
      "Epoch 584/10000 — Avg Train Loss: 4.3723 | Avg Val Loss:   11.2207 | LR: 9.93e-03\n"
     ]
    },
    {
     "name": "stderr",
     "output_type": "stream",
     "text": [
      "                                                                                           \r"
     ]
    },
    {
     "name": "stdout",
     "output_type": "stream",
     "text": [
      "Epoch 585/10000 — Avg Train Loss: 4.3704 | Avg Val Loss:   10.6764 | LR: 9.93e-03\n"
     ]
    },
    {
     "name": "stderr",
     "output_type": "stream",
     "text": [
      "                                                                                           \r"
     ]
    },
    {
     "name": "stdout",
     "output_type": "stream",
     "text": [
      "Epoch 586/10000 — Avg Train Loss: 4.3883 | Avg Val Loss:   10.4952 | LR: 9.93e-03\n"
     ]
    },
    {
     "name": "stderr",
     "output_type": "stream",
     "text": [
      "                                                                                           \r"
     ]
    },
    {
     "name": "stdout",
     "output_type": "stream",
     "text": [
      "Epoch 587/10000 — Avg Train Loss: 4.3908 | Avg Val Loss:   10.9191 | LR: 9.93e-03\n"
     ]
    },
    {
     "name": "stderr",
     "output_type": "stream",
     "text": [
      "                                                                                           \r"
     ]
    },
    {
     "name": "stdout",
     "output_type": "stream",
     "text": [
      "Epoch 588/10000 — Avg Train Loss: 4.3714 | Avg Val Loss:   10.7275 | LR: 9.93e-03\n"
     ]
    },
    {
     "name": "stderr",
     "output_type": "stream",
     "text": [
      "                                                                                           \r"
     ]
    },
    {
     "name": "stdout",
     "output_type": "stream",
     "text": [
      "Epoch 589/10000 — Avg Train Loss: 4.3885 | Avg Val Loss:   10.5811 | LR: 9.93e-03\n"
     ]
    },
    {
     "name": "stderr",
     "output_type": "stream",
     "text": [
      "                                                                                           \r"
     ]
    },
    {
     "name": "stdout",
     "output_type": "stream",
     "text": [
      "Epoch 590/10000 — Avg Train Loss: 4.3430 | Avg Val Loss:   10.7402 | LR: 9.93e-03\n"
     ]
    },
    {
     "name": "stderr",
     "output_type": "stream",
     "text": [
      "                                                                                           \r"
     ]
    },
    {
     "name": "stdout",
     "output_type": "stream",
     "text": [
      "Epoch 591/10000 — Avg Train Loss: 4.3375 | Avg Val Loss:   10.9418 | LR: 9.93e-03\n"
     ]
    },
    {
     "name": "stderr",
     "output_type": "stream",
     "text": [
      "                                                                                           \r"
     ]
    },
    {
     "name": "stdout",
     "output_type": "stream",
     "text": [
      "Epoch 592/10000 — Avg Train Loss: 4.3338 | Avg Val Loss:   10.8476 | LR: 9.93e-03\n"
     ]
    },
    {
     "name": "stderr",
     "output_type": "stream",
     "text": [
      "                                                                                           \r"
     ]
    },
    {
     "name": "stdout",
     "output_type": "stream",
     "text": [
      "Epoch 593/10000 — Avg Train Loss: 4.3336 | Avg Val Loss:   10.6595 | LR: 9.93e-03\n"
     ]
    },
    {
     "name": "stderr",
     "output_type": "stream",
     "text": [
      "                                                                                           \r"
     ]
    },
    {
     "name": "stdout",
     "output_type": "stream",
     "text": [
      "Epoch 594/10000 — Avg Train Loss: 4.3591 | Avg Val Loss:   10.2286 | LR: 9.93e-03\n"
     ]
    },
    {
     "name": "stderr",
     "output_type": "stream",
     "text": [
      "                                                                                           \r"
     ]
    },
    {
     "name": "stdout",
     "output_type": "stream",
     "text": [
      "Epoch 595/10000 — Avg Train Loss: 4.3323 | Avg Val Loss:   10.5474 | LR: 9.93e-03\n"
     ]
    },
    {
     "name": "stderr",
     "output_type": "stream",
     "text": [
      "                                                                                           \r"
     ]
    },
    {
     "name": "stdout",
     "output_type": "stream",
     "text": [
      "Epoch 596/10000 — Avg Train Loss: 4.3208 | Avg Val Loss:   10.9647 | LR: 9.93e-03\n"
     ]
    },
    {
     "name": "stderr",
     "output_type": "stream",
     "text": [
      "                                                                                           \r"
     ]
    },
    {
     "name": "stdout",
     "output_type": "stream",
     "text": [
      "Epoch 597/10000 — Avg Train Loss: 4.3471 | Avg Val Loss:   11.0349 | LR: 9.93e-03\n"
     ]
    },
    {
     "name": "stderr",
     "output_type": "stream",
     "text": [
      "                                                                                           \r"
     ]
    },
    {
     "name": "stdout",
     "output_type": "stream",
     "text": [
      "Epoch 598/10000 — Avg Train Loss: 4.3498 | Avg Val Loss:   10.4638 | LR: 9.93e-03\n"
     ]
    },
    {
     "name": "stderr",
     "output_type": "stream",
     "text": [
      "                                                                                           \r"
     ]
    },
    {
     "name": "stdout",
     "output_type": "stream",
     "text": [
      "Epoch 599/10000 — Avg Train Loss: 4.3379 | Avg Val Loss:   10.5536 | LR: 9.93e-03\n"
     ]
    },
    {
     "name": "stderr",
     "output_type": "stream",
     "text": [
      "                                                                                           \r"
     ]
    },
    {
     "name": "stdout",
     "output_type": "stream",
     "text": [
      "Epoch 600/10000 — Avg Train Loss: 4.3237 | Avg Val Loss:   10.6063 | LR: 9.92e-03\n"
     ]
    },
    {
     "name": "stderr",
     "output_type": "stream",
     "text": [
      "                                                                                           \r"
     ]
    },
    {
     "name": "stdout",
     "output_type": "stream",
     "text": [
      "Epoch 601/10000 — Avg Train Loss: 4.3282 | Avg Val Loss:   10.9408 | LR: 9.92e-03\n"
     ]
    },
    {
     "name": "stderr",
     "output_type": "stream",
     "text": [
      "                                                                                           \r"
     ]
    },
    {
     "name": "stdout",
     "output_type": "stream",
     "text": [
      "Epoch 602/10000 — Avg Train Loss: 4.3031 | Avg Val Loss:   11.0142 | LR: 9.92e-03\n"
     ]
    },
    {
     "name": "stderr",
     "output_type": "stream",
     "text": [
      "                                                                                           \r"
     ]
    },
    {
     "name": "stdout",
     "output_type": "stream",
     "text": [
      "Epoch 603/10000 — Avg Train Loss: 4.3011 | Avg Val Loss:   11.4176 | LR: 9.92e-03\n"
     ]
    },
    {
     "name": "stderr",
     "output_type": "stream",
     "text": [
      "                                                                                           \r"
     ]
    },
    {
     "name": "stdout",
     "output_type": "stream",
     "text": [
      "Epoch 604/10000 — Avg Train Loss: 4.3153 | Avg Val Loss:   10.7538 | LR: 9.92e-03\n"
     ]
    },
    {
     "name": "stderr",
     "output_type": "stream",
     "text": [
      "                                                                                           \r"
     ]
    },
    {
     "name": "stdout",
     "output_type": "stream",
     "text": [
      "Epoch 605/10000 — Avg Train Loss: 4.3316 | Avg Val Loss:   10.2444 | LR: 9.92e-03\n"
     ]
    },
    {
     "name": "stderr",
     "output_type": "stream",
     "text": [
      "                                                                                           \r"
     ]
    },
    {
     "name": "stdout",
     "output_type": "stream",
     "text": [
      "Epoch 606/10000 — Avg Train Loss: 4.3353 | Avg Val Loss:   10.9809 | LR: 9.92e-03\n"
     ]
    },
    {
     "name": "stderr",
     "output_type": "stream",
     "text": [
      "                                                                                           \r"
     ]
    },
    {
     "name": "stdout",
     "output_type": "stream",
     "text": [
      "Epoch 607/10000 — Avg Train Loss: 4.3519 | Avg Val Loss:   10.6264 | LR: 9.92e-03\n"
     ]
    },
    {
     "name": "stderr",
     "output_type": "stream",
     "text": [
      "                                                                                           \r"
     ]
    },
    {
     "name": "stdout",
     "output_type": "stream",
     "text": [
      "Epoch 608/10000 — Avg Train Loss: 4.3629 | Avg Val Loss:   10.1533 | LR: 9.92e-03\n"
     ]
    },
    {
     "name": "stderr",
     "output_type": "stream",
     "text": [
      "                                                                                           \r"
     ]
    },
    {
     "name": "stdout",
     "output_type": "stream",
     "text": [
      "Epoch 609/10000 — Avg Train Loss: 4.3938 | Avg Val Loss:   10.3782 | LR: 9.92e-03\n"
     ]
    },
    {
     "name": "stderr",
     "output_type": "stream",
     "text": [
      "                                                                                           \r"
     ]
    },
    {
     "name": "stdout",
     "output_type": "stream",
     "text": [
      "Epoch 610/10000 — Avg Train Loss: 4.3660 | Avg Val Loss:   10.6619 | LR: 9.92e-03\n"
     ]
    },
    {
     "name": "stderr",
     "output_type": "stream",
     "text": [
      "                                                                                           \r"
     ]
    },
    {
     "name": "stdout",
     "output_type": "stream",
     "text": [
      "Epoch 611/10000 — Avg Train Loss: 4.3485 | Avg Val Loss:   10.5809 | LR: 9.92e-03\n"
     ]
    },
    {
     "name": "stderr",
     "output_type": "stream",
     "text": [
      "                                                                                           \r"
     ]
    },
    {
     "name": "stdout",
     "output_type": "stream",
     "text": [
      "Epoch 612/10000 — Avg Train Loss: 4.3314 | Avg Val Loss:   10.1081 | LR: 9.92e-03\n"
     ]
    },
    {
     "name": "stderr",
     "output_type": "stream",
     "text": [
      "                                                                                           \r"
     ]
    },
    {
     "name": "stdout",
     "output_type": "stream",
     "text": [
      "Epoch 613/10000 — Avg Train Loss: 4.3018 | Avg Val Loss:   10.7346 | LR: 9.92e-03\n"
     ]
    },
    {
     "name": "stderr",
     "output_type": "stream",
     "text": [
      "                                                                                           \r"
     ]
    },
    {
     "name": "stdout",
     "output_type": "stream",
     "text": [
      "Epoch 614/10000 — Avg Train Loss: 4.3264 | Avg Val Loss:   10.2934 | LR: 9.92e-03\n"
     ]
    },
    {
     "name": "stderr",
     "output_type": "stream",
     "text": [
      "                                                                                           \r"
     ]
    },
    {
     "name": "stdout",
     "output_type": "stream",
     "text": [
      "Epoch 615/10000 — Avg Train Loss: 4.3321 | Avg Val Loss:   10.9624 | LR: 9.92e-03\n"
     ]
    },
    {
     "name": "stderr",
     "output_type": "stream",
     "text": [
      "                                                                                           \r"
     ]
    },
    {
     "name": "stdout",
     "output_type": "stream",
     "text": [
      "Epoch 616/10000 — Avg Train Loss: 4.3257 | Avg Val Loss:   10.9477 | LR: 9.92e-03\n"
     ]
    },
    {
     "name": "stderr",
     "output_type": "stream",
     "text": [
      "                                                                                           \r"
     ]
    },
    {
     "name": "stdout",
     "output_type": "stream",
     "text": [
      "Epoch 617/10000 — Avg Train Loss: 4.3425 | Avg Val Loss:   9.8135 | LR: 9.92e-03\n"
     ]
    },
    {
     "name": "stderr",
     "output_type": "stream",
     "text": [
      "                                                                                           \r"
     ]
    },
    {
     "name": "stdout",
     "output_type": "stream",
     "text": [
      "Epoch 618/10000 — Avg Train Loss: 4.3589 | Avg Val Loss:   10.9486 | LR: 9.92e-03\n"
     ]
    },
    {
     "name": "stderr",
     "output_type": "stream",
     "text": [
      "                                                                                           \r"
     ]
    },
    {
     "name": "stdout",
     "output_type": "stream",
     "text": [
      "Epoch 619/10000 — Avg Train Loss: 4.3340 | Avg Val Loss:   10.5548 | LR: 9.92e-03\n"
     ]
    },
    {
     "name": "stderr",
     "output_type": "stream",
     "text": [
      "                                                                                           \r"
     ]
    },
    {
     "name": "stdout",
     "output_type": "stream",
     "text": [
      "Epoch 620/10000 — Avg Train Loss: 4.3653 | Avg Val Loss:   10.8372 | LR: 9.92e-03\n"
     ]
    },
    {
     "name": "stderr",
     "output_type": "stream",
     "text": [
      "                                                                                           \r"
     ]
    },
    {
     "name": "stdout",
     "output_type": "stream",
     "text": [
      "Epoch 621/10000 — Avg Train Loss: 4.3239 | Avg Val Loss:   10.7557 | LR: 9.92e-03\n"
     ]
    },
    {
     "name": "stderr",
     "output_type": "stream",
     "text": [
      "                                                                                           \r"
     ]
    },
    {
     "name": "stdout",
     "output_type": "stream",
     "text": [
      "Epoch 622/10000 — Avg Train Loss: 4.3226 | Avg Val Loss:   11.3069 | LR: 9.92e-03\n"
     ]
    },
    {
     "name": "stderr",
     "output_type": "stream",
     "text": [
      "                                                                                           \r"
     ]
    },
    {
     "name": "stdout",
     "output_type": "stream",
     "text": [
      "Epoch 623/10000 — Avg Train Loss: 4.3209 | Avg Val Loss:   10.5894 | LR: 9.92e-03\n"
     ]
    },
    {
     "name": "stderr",
     "output_type": "stream",
     "text": [
      "                                                                                           \r"
     ]
    },
    {
     "name": "stdout",
     "output_type": "stream",
     "text": [
      "Epoch 624/10000 — Avg Train Loss: 4.3064 | Avg Val Loss:   10.5478 | LR: 9.92e-03\n"
     ]
    },
    {
     "name": "stderr",
     "output_type": "stream",
     "text": [
      "                                                                                           \r"
     ]
    },
    {
     "name": "stdout",
     "output_type": "stream",
     "text": [
      "Epoch 625/10000 — Avg Train Loss: 4.2896 | Avg Val Loss:   11.2855 | LR: 9.92e-03\n"
     ]
    },
    {
     "name": "stderr",
     "output_type": "stream",
     "text": [
      "                                                                                           \r"
     ]
    },
    {
     "name": "stdout",
     "output_type": "stream",
     "text": [
      "Epoch 626/10000 — Avg Train Loss: 4.2945 | Avg Val Loss:   10.0579 | LR: 9.92e-03\n"
     ]
    },
    {
     "name": "stderr",
     "output_type": "stream",
     "text": [
      "                                                                                           \r"
     ]
    },
    {
     "name": "stdout",
     "output_type": "stream",
     "text": [
      "Epoch 627/10000 — Avg Train Loss: 4.3189 | Avg Val Loss:   10.3641 | LR: 9.92e-03\n"
     ]
    },
    {
     "name": "stderr",
     "output_type": "stream",
     "text": [
      "                                                                                           \r"
     ]
    },
    {
     "name": "stdout",
     "output_type": "stream",
     "text": [
      "Epoch 628/10000 — Avg Train Loss: 4.3702 | Avg Val Loss:   10.4016 | LR: 9.92e-03\n"
     ]
    },
    {
     "name": "stderr",
     "output_type": "stream",
     "text": [
      "                                                                                           \r"
     ]
    },
    {
     "name": "stdout",
     "output_type": "stream",
     "text": [
      "Epoch 629/10000 — Avg Train Loss: 4.3454 | Avg Val Loss:   10.4469 | LR: 9.92e-03\n"
     ]
    },
    {
     "name": "stderr",
     "output_type": "stream",
     "text": [
      "                                                                                        2]\r"
     ]
    },
    {
     "name": "stdout",
     "output_type": "stream",
     "text": [
      "Epoch 631/10000 — Avg Train Loss: 4.3295 | Avg Val Loss:   10.5479 | LR: 9.92e-03\n"
     ]
    },
    {
     "name": "stderr",
     "output_type": "stream",
     "text": [
      "                                                                                           \r"
     ]
    },
    {
     "name": "stdout",
     "output_type": "stream",
     "text": [
      "Epoch 632/10000 — Avg Train Loss: 4.3168 | Avg Val Loss:   10.4000 | LR: 9.92e-03\n"
     ]
    },
    {
     "name": "stderr",
     "output_type": "stream",
     "text": [
      "                                                                                           \r"
     ]
    },
    {
     "name": "stdout",
     "output_type": "stream",
     "text": [
      "Epoch 633/10000 — Avg Train Loss: 4.3080 | Avg Val Loss:   10.2606 | LR: 9.92e-03\n"
     ]
    },
    {
     "name": "stderr",
     "output_type": "stream",
     "text": [
      "                                                                                           \r"
     ]
    },
    {
     "name": "stdout",
     "output_type": "stream",
     "text": [
      "Epoch 634/10000 — Avg Train Loss: 4.3062 | Avg Val Loss:   10.7930 | LR: 9.92e-03\n"
     ]
    },
    {
     "name": "stderr",
     "output_type": "stream",
     "text": [
      "                                                                                           \r"
     ]
    },
    {
     "name": "stdout",
     "output_type": "stream",
     "text": [
      "Epoch 635/10000 — Avg Train Loss: 4.3332 | Avg Val Loss:   10.7703 | LR: 9.91e-03\n"
     ]
    },
    {
     "name": "stderr",
     "output_type": "stream",
     "text": [
      "                                                                                           \r"
     ]
    },
    {
     "name": "stdout",
     "output_type": "stream",
     "text": [
      "Epoch 636/10000 — Avg Train Loss: 4.2837 | Avg Val Loss:   10.8396 | LR: 9.91e-03\n"
     ]
    },
    {
     "name": "stderr",
     "output_type": "stream",
     "text": [
      "                                                                                           \r"
     ]
    },
    {
     "name": "stdout",
     "output_type": "stream",
     "text": [
      "Epoch 637/10000 — Avg Train Loss: 4.3137 | Avg Val Loss:   9.9193 | LR: 9.91e-03\n"
     ]
    },
    {
     "name": "stderr",
     "output_type": "stream",
     "text": [
      "                                                                                           \r"
     ]
    },
    {
     "name": "stdout",
     "output_type": "stream",
     "text": [
      "Epoch 638/10000 — Avg Train Loss: 4.3216 | Avg Val Loss:   10.3335 | LR: 9.91e-03\n"
     ]
    },
    {
     "name": "stderr",
     "output_type": "stream",
     "text": [
      "                                                                                           \r"
     ]
    },
    {
     "name": "stdout",
     "output_type": "stream",
     "text": [
      "Epoch 639/10000 — Avg Train Loss: 4.3152 | Avg Val Loss:   10.1551 | LR: 9.91e-03\n"
     ]
    },
    {
     "name": "stderr",
     "output_type": "stream",
     "text": [
      "                                                                                           \r"
     ]
    },
    {
     "name": "stdout",
     "output_type": "stream",
     "text": [
      "Epoch 640/10000 — Avg Train Loss: 4.2827 | Avg Val Loss:   10.0675 | LR: 9.91e-03\n"
     ]
    },
    {
     "name": "stderr",
     "output_type": "stream",
     "text": [
      "                                                                                           \r"
     ]
    },
    {
     "name": "stdout",
     "output_type": "stream",
     "text": [
      "Epoch 641/10000 — Avg Train Loss: 4.3378 | Avg Val Loss:   10.7592 | LR: 9.91e-03\n"
     ]
    },
    {
     "name": "stderr",
     "output_type": "stream",
     "text": [
      "                                                                                           \r"
     ]
    },
    {
     "name": "stdout",
     "output_type": "stream",
     "text": [
      "Epoch 642/10000 — Avg Train Loss: 4.2827 | Avg Val Loss:   10.1513 | LR: 9.91e-03\n"
     ]
    },
    {
     "name": "stderr",
     "output_type": "stream",
     "text": [
      "                                                                                           \r"
     ]
    },
    {
     "name": "stdout",
     "output_type": "stream",
     "text": [
      "Epoch 643/10000 — Avg Train Loss: 4.3391 | Avg Val Loss:   10.8207 | LR: 9.91e-03\n"
     ]
    },
    {
     "name": "stderr",
     "output_type": "stream",
     "text": [
      "                                                                                           \r"
     ]
    },
    {
     "name": "stdout",
     "output_type": "stream",
     "text": [
      "Epoch 644/10000 — Avg Train Loss: 4.2892 | Avg Val Loss:   12.0106 | LR: 9.91e-03\n"
     ]
    },
    {
     "name": "stderr",
     "output_type": "stream",
     "text": [
      "                                                                                           \r"
     ]
    },
    {
     "name": "stdout",
     "output_type": "stream",
     "text": [
      "Epoch 645/10000 — Avg Train Loss: 4.3084 | Avg Val Loss:   10.3240 | LR: 9.91e-03\n"
     ]
    },
    {
     "name": "stderr",
     "output_type": "stream",
     "text": [
      "                                                                                           \r"
     ]
    },
    {
     "name": "stdout",
     "output_type": "stream",
     "text": [
      "Epoch 646/10000 — Avg Train Loss: 4.2804 | Avg Val Loss:   11.0151 | LR: 9.91e-03\n"
     ]
    },
    {
     "name": "stderr",
     "output_type": "stream",
     "text": [
      "                                                                                           \r"
     ]
    },
    {
     "name": "stdout",
     "output_type": "stream",
     "text": [
      "Epoch 647/10000 — Avg Train Loss: 4.2920 | Avg Val Loss:   10.7233 | LR: 9.91e-03\n"
     ]
    },
    {
     "name": "stderr",
     "output_type": "stream",
     "text": [
      "                                                                                           \r"
     ]
    },
    {
     "name": "stdout",
     "output_type": "stream",
     "text": [
      "Epoch 648/10000 — Avg Train Loss: 4.2927 | Avg Val Loss:   10.8340 | LR: 9.91e-03\n"
     ]
    },
    {
     "name": "stderr",
     "output_type": "stream",
     "text": [
      "                                                                                           \r"
     ]
    },
    {
     "name": "stdout",
     "output_type": "stream",
     "text": [
      "Epoch 649/10000 — Avg Train Loss: 4.3018 | Avg Val Loss:   10.5978 | LR: 9.91e-03\n"
     ]
    },
    {
     "name": "stderr",
     "output_type": "stream",
     "text": [
      "                                                                                           \r"
     ]
    },
    {
     "name": "stdout",
     "output_type": "stream",
     "text": [
      "Epoch 650/10000 — Avg Train Loss: 4.2924 | Avg Val Loss:   10.6366 | LR: 9.91e-03\n"
     ]
    },
    {
     "name": "stderr",
     "output_type": "stream",
     "text": [
      "                                                                                           \r"
     ]
    },
    {
     "name": "stdout",
     "output_type": "stream",
     "text": [
      "Epoch 651/10000 — Avg Train Loss: 4.3255 | Avg Val Loss:   10.3670 | LR: 9.91e-03\n"
     ]
    },
    {
     "name": "stderr",
     "output_type": "stream",
     "text": [
      "                                                                                           \r"
     ]
    },
    {
     "name": "stdout",
     "output_type": "stream",
     "text": [
      "Epoch 652/10000 — Avg Train Loss: 4.3114 | Avg Val Loss:   10.0868 | LR: 9.91e-03\n"
     ]
    },
    {
     "name": "stderr",
     "output_type": "stream",
     "text": [
      "                                                                                           \r"
     ]
    },
    {
     "name": "stdout",
     "output_type": "stream",
     "text": [
      "Epoch 653/10000 — Avg Train Loss: 4.3218 | Avg Val Loss:   10.7473 | LR: 9.91e-03\n"
     ]
    },
    {
     "name": "stderr",
     "output_type": "stream",
     "text": [
      "                                                                                           \r"
     ]
    },
    {
     "name": "stdout",
     "output_type": "stream",
     "text": [
      "Epoch 654/10000 — Avg Train Loss: 4.3461 | Avg Val Loss:   10.3560 | LR: 9.91e-03\n"
     ]
    },
    {
     "name": "stderr",
     "output_type": "stream",
     "text": [
      "                                                                                           \r"
     ]
    },
    {
     "name": "stdout",
     "output_type": "stream",
     "text": [
      "Epoch 655/10000 — Avg Train Loss: 4.3946 | Avg Val Loss:   10.7697 | LR: 9.91e-03\n"
     ]
    },
    {
     "name": "stderr",
     "output_type": "stream",
     "text": [
      "                                                                                           \r"
     ]
    },
    {
     "name": "stdout",
     "output_type": "stream",
     "text": [
      "Epoch 656/10000 — Avg Train Loss: 4.4033 | Avg Val Loss:   10.6372 | LR: 9.91e-03\n"
     ]
    },
    {
     "name": "stderr",
     "output_type": "stream",
     "text": [
      "                                                                                           \r"
     ]
    },
    {
     "name": "stdout",
     "output_type": "stream",
     "text": [
      "Epoch 657/10000 — Avg Train Loss: 4.4366 | Avg Val Loss:   10.4115 | LR: 9.91e-03\n"
     ]
    },
    {
     "name": "stderr",
     "output_type": "stream",
     "text": [
      "                                                                                           \r"
     ]
    },
    {
     "name": "stdout",
     "output_type": "stream",
     "text": [
      "Epoch 658/10000 — Avg Train Loss: 4.3720 | Avg Val Loss:   9.9559 | LR: 9.91e-03\n"
     ]
    },
    {
     "name": "stderr",
     "output_type": "stream",
     "text": [
      "                                                                                           \r"
     ]
    },
    {
     "name": "stdout",
     "output_type": "stream",
     "text": [
      "Epoch 659/10000 — Avg Train Loss: 4.3434 | Avg Val Loss:   10.2492 | LR: 9.91e-03\n"
     ]
    },
    {
     "name": "stderr",
     "output_type": "stream",
     "text": [
      "                                                                                           \r"
     ]
    },
    {
     "name": "stdout",
     "output_type": "stream",
     "text": [
      "Epoch 660/10000 — Avg Train Loss: 4.3368 | Avg Val Loss:   10.2946 | LR: 9.91e-03\n"
     ]
    },
    {
     "name": "stderr",
     "output_type": "stream",
     "text": [
      "                                                                                           \r"
     ]
    },
    {
     "name": "stdout",
     "output_type": "stream",
     "text": [
      "Epoch 661/10000 — Avg Train Loss: 4.3425 | Avg Val Loss:   10.3428 | LR: 9.91e-03\n"
     ]
    },
    {
     "name": "stderr",
     "output_type": "stream",
     "text": [
      "                                                                                           \r"
     ]
    },
    {
     "name": "stdout",
     "output_type": "stream",
     "text": [
      "Epoch 662/10000 — Avg Train Loss: 4.3256 | Avg Val Loss:   10.2007 | LR: 9.91e-03\n"
     ]
    },
    {
     "name": "stderr",
     "output_type": "stream",
     "text": [
      "                                                                                           \r"
     ]
    },
    {
     "name": "stdout",
     "output_type": "stream",
     "text": [
      "Epoch 663/10000 — Avg Train Loss: 4.2967 | Avg Val Loss:   11.1733 | LR: 9.91e-03\n"
     ]
    },
    {
     "name": "stderr",
     "output_type": "stream",
     "text": [
      "                                                                                           \r"
     ]
    },
    {
     "name": "stdout",
     "output_type": "stream",
     "text": [
      "Epoch 664/10000 — Avg Train Loss: 4.3194 | Avg Val Loss:   10.6473 | LR: 9.91e-03\n"
     ]
    },
    {
     "name": "stderr",
     "output_type": "stream",
     "text": [
      "                                                                                           \r"
     ]
    },
    {
     "name": "stdout",
     "output_type": "stream",
     "text": [
      "Epoch 665/10000 — Avg Train Loss: 4.2951 | Avg Val Loss:   10.6084 | LR: 9.91e-03\n"
     ]
    },
    {
     "name": "stderr",
     "output_type": "stream",
     "text": [
      "                                                                                           \r"
     ]
    },
    {
     "name": "stdout",
     "output_type": "stream",
     "text": [
      "Epoch 666/10000 — Avg Train Loss: 4.2874 | Avg Val Loss:   10.8611 | LR: 9.91e-03\n"
     ]
    },
    {
     "name": "stderr",
     "output_type": "stream",
     "text": [
      "                                                                                           \r"
     ]
    },
    {
     "name": "stdout",
     "output_type": "stream",
     "text": [
      "Epoch 667/10000 — Avg Train Loss: 4.2831 | Avg Val Loss:   10.5272 | LR: 9.91e-03\n"
     ]
    },
    {
     "name": "stderr",
     "output_type": "stream",
     "text": [
      "                                                                                           \r"
     ]
    },
    {
     "name": "stdout",
     "output_type": "stream",
     "text": [
      "Epoch 668/10000 — Avg Train Loss: 4.2845 | Avg Val Loss:   10.9334 | LR: 9.91e-03\n"
     ]
    },
    {
     "name": "stderr",
     "output_type": "stream",
     "text": [
      "                                                                                           \r"
     ]
    },
    {
     "name": "stdout",
     "output_type": "stream",
     "text": [
      "Epoch 669/10000 — Avg Train Loss: 4.2727 | Avg Val Loss:   10.9388 | LR: 9.90e-03\n"
     ]
    },
    {
     "name": "stderr",
     "output_type": "stream",
     "text": [
      "                                                                                           \r"
     ]
    },
    {
     "name": "stdout",
     "output_type": "stream",
     "text": [
      "Epoch 670/10000 — Avg Train Loss: 4.2922 | Avg Val Loss:   10.0842 | LR: 9.90e-03\n"
     ]
    },
    {
     "name": "stderr",
     "output_type": "stream",
     "text": [
      "                                                                                           \r"
     ]
    },
    {
     "name": "stdout",
     "output_type": "stream",
     "text": [
      "Epoch 671/10000 — Avg Train Loss: 4.2718 | Avg Val Loss:   10.5339 | LR: 9.90e-03\n"
     ]
    },
    {
     "name": "stderr",
     "output_type": "stream",
     "text": [
      "                                                                                           \r"
     ]
    },
    {
     "name": "stdout",
     "output_type": "stream",
     "text": [
      "Epoch 672/10000 — Avg Train Loss: 4.2534 | Avg Val Loss:   11.2609 | LR: 9.90e-03\n"
     ]
    },
    {
     "name": "stderr",
     "output_type": "stream",
     "text": [
      "                                                                                           \r"
     ]
    },
    {
     "name": "stdout",
     "output_type": "stream",
     "text": [
      "Epoch 673/10000 — Avg Train Loss: 4.2449 | Avg Val Loss:   10.7658 | LR: 9.90e-03\n"
     ]
    },
    {
     "name": "stderr",
     "output_type": "stream",
     "text": [
      "                                                                                           \r"
     ]
    },
    {
     "name": "stdout",
     "output_type": "stream",
     "text": [
      "Epoch 674/10000 — Avg Train Loss: 4.2872 | Avg Val Loss:   10.1983 | LR: 9.90e-03\n"
     ]
    },
    {
     "name": "stderr",
     "output_type": "stream",
     "text": [
      "                                                                                           \r"
     ]
    },
    {
     "name": "stdout",
     "output_type": "stream",
     "text": [
      "Epoch 675/10000 — Avg Train Loss: 4.2449 | Avg Val Loss:   10.8805 | LR: 9.90e-03\n"
     ]
    },
    {
     "name": "stderr",
     "output_type": "stream",
     "text": [
      "                                                                                           \r"
     ]
    },
    {
     "name": "stdout",
     "output_type": "stream",
     "text": [
      "Epoch 676/10000 — Avg Train Loss: 4.2386 | Avg Val Loss:   10.8163 | LR: 9.90e-03\n"
     ]
    },
    {
     "name": "stderr",
     "output_type": "stream",
     "text": [
      "                                                                                           \r"
     ]
    },
    {
     "name": "stdout",
     "output_type": "stream",
     "text": [
      "Epoch 677/10000 — Avg Train Loss: 4.2622 | Avg Val Loss:   10.8428 | LR: 9.90e-03\n"
     ]
    },
    {
     "name": "stderr",
     "output_type": "stream",
     "text": [
      "                                                                                           \r"
     ]
    },
    {
     "name": "stdout",
     "output_type": "stream",
     "text": [
      "Epoch 678/10000 — Avg Train Loss: 4.2424 | Avg Val Loss:   10.5127 | LR: 9.90e-03\n"
     ]
    },
    {
     "name": "stderr",
     "output_type": "stream",
     "text": [
      "                                                                                           \r"
     ]
    },
    {
     "name": "stdout",
     "output_type": "stream",
     "text": [
      "Epoch 679/10000 — Avg Train Loss: 4.2311 | Avg Val Loss:   10.9825 | LR: 9.90e-03\n"
     ]
    },
    {
     "name": "stderr",
     "output_type": "stream",
     "text": [
      "                                                                                           \r"
     ]
    },
    {
     "name": "stdout",
     "output_type": "stream",
     "text": [
      "Epoch 680/10000 — Avg Train Loss: 4.2279 | Avg Val Loss:   11.8506 | LR: 9.90e-03\n"
     ]
    },
    {
     "name": "stderr",
     "output_type": "stream",
     "text": [
      "                                                                                           \r"
     ]
    },
    {
     "name": "stdout",
     "output_type": "stream",
     "text": [
      "Epoch 681/10000 — Avg Train Loss: 4.1996 | Avg Val Loss:   11.3650 | LR: 9.90e-03\n"
     ]
    },
    {
     "name": "stderr",
     "output_type": "stream",
     "text": [
      "                                                                                           \r"
     ]
    },
    {
     "name": "stdout",
     "output_type": "stream",
     "text": [
      "Epoch 682/10000 — Avg Train Loss: 4.2063 | Avg Val Loss:   10.6487 | LR: 9.90e-03\n"
     ]
    },
    {
     "name": "stderr",
     "output_type": "stream",
     "text": [
      "                                                                                           \r"
     ]
    },
    {
     "name": "stdout",
     "output_type": "stream",
     "text": [
      "Epoch 683/10000 — Avg Train Loss: 4.2316 | Avg Val Loss:   10.5060 | LR: 9.90e-03\n"
     ]
    },
    {
     "name": "stderr",
     "output_type": "stream",
     "text": [
      "                                                                                           \r"
     ]
    },
    {
     "name": "stdout",
     "output_type": "stream",
     "text": [
      "Epoch 684/10000 — Avg Train Loss: 4.2210 | Avg Val Loss:   11.1279 | LR: 9.90e-03\n"
     ]
    },
    {
     "name": "stderr",
     "output_type": "stream",
     "text": [
      "                                                                                           \r"
     ]
    },
    {
     "name": "stdout",
     "output_type": "stream",
     "text": [
      "Epoch 685/10000 — Avg Train Loss: 4.2029 | Avg Val Loss:   11.0975 | LR: 9.90e-03\n"
     ]
    },
    {
     "name": "stderr",
     "output_type": "stream",
     "text": [
      "                                                                                           \r"
     ]
    },
    {
     "name": "stdout",
     "output_type": "stream",
     "text": [
      "Epoch 686/10000 — Avg Train Loss: 4.2504 | Avg Val Loss:   11.0678 | LR: 9.90e-03\n"
     ]
    },
    {
     "name": "stderr",
     "output_type": "stream",
     "text": [
      "                                                                                           \r"
     ]
    },
    {
     "name": "stdout",
     "output_type": "stream",
     "text": [
      "Epoch 687/10000 — Avg Train Loss: 4.2210 | Avg Val Loss:   11.0503 | LR: 9.90e-03\n"
     ]
    },
    {
     "name": "stderr",
     "output_type": "stream",
     "text": [
      "                                                                                           \r"
     ]
    },
    {
     "name": "stdout",
     "output_type": "stream",
     "text": [
      "Epoch 688/10000 — Avg Train Loss: 4.2120 | Avg Val Loss:   10.8702 | LR: 9.90e-03\n"
     ]
    },
    {
     "name": "stderr",
     "output_type": "stream",
     "text": [
      "                                                                                           \r"
     ]
    },
    {
     "name": "stdout",
     "output_type": "stream",
     "text": [
      "Epoch 689/10000 — Avg Train Loss: 4.2073 | Avg Val Loss:   11.0827 | LR: 9.90e-03\n"
     ]
    },
    {
     "name": "stderr",
     "output_type": "stream",
     "text": [
      "                                                                                           \r"
     ]
    },
    {
     "name": "stdout",
     "output_type": "stream",
     "text": [
      "Epoch 690/10000 — Avg Train Loss: 4.2099 | Avg Val Loss:   11.4786 | LR: 9.90e-03\n"
     ]
    },
    {
     "name": "stderr",
     "output_type": "stream",
     "text": [
      "                                                                                           \r"
     ]
    },
    {
     "name": "stdout",
     "output_type": "stream",
     "text": [
      "Epoch 691/10000 — Avg Train Loss: 4.2295 | Avg Val Loss:   10.9940 | LR: 9.90e-03\n"
     ]
    },
    {
     "name": "stderr",
     "output_type": "stream",
     "text": [
      "                                                                                           \r"
     ]
    },
    {
     "name": "stdout",
     "output_type": "stream",
     "text": [
      "Epoch 692/10000 — Avg Train Loss: 4.2482 | Avg Val Loss:   11.1881 | LR: 9.90e-03\n"
     ]
    },
    {
     "name": "stderr",
     "output_type": "stream",
     "text": [
      "                                                                                           \r"
     ]
    },
    {
     "name": "stdout",
     "output_type": "stream",
     "text": [
      "Epoch 693/10000 — Avg Train Loss: 4.2402 | Avg Val Loss:   10.7579 | LR: 9.90e-03\n"
     ]
    },
    {
     "name": "stderr",
     "output_type": "stream",
     "text": [
      "                                                                                           \r"
     ]
    },
    {
     "name": "stdout",
     "output_type": "stream",
     "text": [
      "Epoch 694/10000 — Avg Train Loss: 4.2481 | Avg Val Loss:   10.8389 | LR: 9.90e-03\n"
     ]
    },
    {
     "name": "stderr",
     "output_type": "stream",
     "text": [
      "                                                                                           \r"
     ]
    },
    {
     "name": "stdout",
     "output_type": "stream",
     "text": [
      "Epoch 695/10000 — Avg Train Loss: 4.2168 | Avg Val Loss:   12.1169 | LR: 9.90e-03\n"
     ]
    },
    {
     "name": "stderr",
     "output_type": "stream",
     "text": [
      "                                                                                           \r"
     ]
    },
    {
     "name": "stdout",
     "output_type": "stream",
     "text": [
      "Epoch 696/10000 — Avg Train Loss: 4.1850 | Avg Val Loss:   11.1260 | LR: 9.90e-03\n"
     ]
    },
    {
     "name": "stderr",
     "output_type": "stream",
     "text": [
      "                                                                                           \r"
     ]
    },
    {
     "name": "stdout",
     "output_type": "stream",
     "text": [
      "Epoch 697/10000 — Avg Train Loss: 4.1890 | Avg Val Loss:   11.3294 | LR: 9.90e-03\n"
     ]
    },
    {
     "name": "stderr",
     "output_type": "stream",
     "text": [
      "                                                                                           \r"
     ]
    },
    {
     "name": "stdout",
     "output_type": "stream",
     "text": [
      "Epoch 698/10000 — Avg Train Loss: 4.1772 | Avg Val Loss:   10.8669 | LR: 9.90e-03\n"
     ]
    },
    {
     "name": "stderr",
     "output_type": "stream",
     "text": [
      "                                                                                           \r"
     ]
    },
    {
     "name": "stdout",
     "output_type": "stream",
     "text": [
      "Epoch 699/10000 — Avg Train Loss: 4.2011 | Avg Val Loss:   10.9842 | LR: 9.90e-03\n"
     ]
    },
    {
     "name": "stderr",
     "output_type": "stream",
     "text": [
      "                                                                                           \r"
     ]
    },
    {
     "name": "stdout",
     "output_type": "stream",
     "text": [
      "Epoch 700/10000 — Avg Train Loss: 4.1965 | Avg Val Loss:   10.2793 | LR: 9.90e-03\n"
     ]
    },
    {
     "name": "stderr",
     "output_type": "stream",
     "text": [
      "                                                                                           \r"
     ]
    },
    {
     "name": "stdout",
     "output_type": "stream",
     "text": [
      "Epoch 701/10000 — Avg Train Loss: 4.2086 | Avg Val Loss:   10.9460 | LR: 9.89e-03\n"
     ]
    },
    {
     "name": "stderr",
     "output_type": "stream",
     "text": [
      "                                                                                           \r"
     ]
    },
    {
     "name": "stdout",
     "output_type": "stream",
     "text": [
      "Epoch 702/10000 — Avg Train Loss: 4.2210 | Avg Val Loss:   11.1225 | LR: 9.89e-03\n"
     ]
    },
    {
     "name": "stderr",
     "output_type": "stream",
     "text": [
      "                                                                                           \r"
     ]
    },
    {
     "name": "stdout",
     "output_type": "stream",
     "text": [
      "Epoch 703/10000 — Avg Train Loss: 4.2031 | Avg Val Loss:   10.7830 | LR: 9.89e-03\n"
     ]
    },
    {
     "name": "stderr",
     "output_type": "stream",
     "text": [
      "                                                                                           \r"
     ]
    },
    {
     "name": "stdout",
     "output_type": "stream",
     "text": [
      "Epoch 704/10000 — Avg Train Loss: 4.2105 | Avg Val Loss:   10.5335 | LR: 9.89e-03\n"
     ]
    },
    {
     "name": "stderr",
     "output_type": "stream",
     "text": [
      "                                                                                           \r"
     ]
    },
    {
     "name": "stdout",
     "output_type": "stream",
     "text": [
      "Epoch 705/10000 — Avg Train Loss: 4.2498 | Avg Val Loss:   10.9739 | LR: 9.89e-03\n"
     ]
    },
    {
     "name": "stderr",
     "output_type": "stream",
     "text": [
      "                                                                                           \r"
     ]
    },
    {
     "name": "stdout",
     "output_type": "stream",
     "text": [
      "Epoch 706/10000 — Avg Train Loss: 4.2537 | Avg Val Loss:   11.0344 | LR: 9.89e-03\n"
     ]
    },
    {
     "name": "stderr",
     "output_type": "stream",
     "text": [
      "                                                                                           \r"
     ]
    },
    {
     "name": "stdout",
     "output_type": "stream",
     "text": [
      "Epoch 707/10000 — Avg Train Loss: 4.2273 | Avg Val Loss:   10.8149 | LR: 9.89e-03\n"
     ]
    },
    {
     "name": "stderr",
     "output_type": "stream",
     "text": [
      "                                                                                           \r"
     ]
    },
    {
     "name": "stdout",
     "output_type": "stream",
     "text": [
      "Epoch 708/10000 — Avg Train Loss: 4.2416 | Avg Val Loss:   10.6614 | LR: 9.89e-03\n"
     ]
    },
    {
     "name": "stderr",
     "output_type": "stream",
     "text": [
      "                                                                                           \r"
     ]
    },
    {
     "name": "stdout",
     "output_type": "stream",
     "text": [
      "Epoch 709/10000 — Avg Train Loss: 4.2468 | Avg Val Loss:   11.2893 | LR: 9.89e-03\n"
     ]
    },
    {
     "name": "stderr",
     "output_type": "stream",
     "text": [
      "                                                                                           \r"
     ]
    },
    {
     "name": "stdout",
     "output_type": "stream",
     "text": [
      "Epoch 710/10000 — Avg Train Loss: 4.2599 | Avg Val Loss:   10.8888 | LR: 9.89e-03\n"
     ]
    },
    {
     "name": "stderr",
     "output_type": "stream",
     "text": [
      "                                                                                           \r"
     ]
    },
    {
     "name": "stdout",
     "output_type": "stream",
     "text": [
      "Epoch 711/10000 — Avg Train Loss: 4.2541 | Avg Val Loss:   10.7559 | LR: 9.89e-03\n"
     ]
    },
    {
     "name": "stderr",
     "output_type": "stream",
     "text": [
      "                                                                                           \r"
     ]
    },
    {
     "name": "stdout",
     "output_type": "stream",
     "text": [
      "Epoch 712/10000 — Avg Train Loss: 4.2573 | Avg Val Loss:   10.9179 | LR: 9.89e-03\n"
     ]
    },
    {
     "name": "stderr",
     "output_type": "stream",
     "text": [
      "                                                                                           \r"
     ]
    },
    {
     "name": "stdout",
     "output_type": "stream",
     "text": [
      "Epoch 713/10000 — Avg Train Loss: 4.2771 | Avg Val Loss:   10.6130 | LR: 9.89e-03\n"
     ]
    },
    {
     "name": "stderr",
     "output_type": "stream",
     "text": [
      "                                                                                           \r"
     ]
    },
    {
     "name": "stdout",
     "output_type": "stream",
     "text": [
      "Epoch 714/10000 — Avg Train Loss: 4.2244 | Avg Val Loss:   11.4781 | LR: 9.89e-03\n"
     ]
    },
    {
     "name": "stderr",
     "output_type": "stream",
     "text": [
      "                                                                                           \r"
     ]
    },
    {
     "name": "stdout",
     "output_type": "stream",
     "text": [
      "Epoch 715/10000 — Avg Train Loss: 4.3115 | Avg Val Loss:   10.8474 | LR: 9.89e-03\n"
     ]
    },
    {
     "name": "stderr",
     "output_type": "stream",
     "text": [
      "                                                                                           \r"
     ]
    },
    {
     "name": "stdout",
     "output_type": "stream",
     "text": [
      "Epoch 716/10000 — Avg Train Loss: 4.2538 | Avg Val Loss:   10.6738 | LR: 9.89e-03\n"
     ]
    },
    {
     "name": "stderr",
     "output_type": "stream",
     "text": [
      "                                                                                           \r"
     ]
    },
    {
     "name": "stdout",
     "output_type": "stream",
     "text": [
      "Epoch 717/10000 — Avg Train Loss: 4.2400 | Avg Val Loss:   10.5762 | LR: 9.89e-03\n"
     ]
    },
    {
     "name": "stderr",
     "output_type": "stream",
     "text": [
      "                                                                                           \r"
     ]
    },
    {
     "name": "stdout",
     "output_type": "stream",
     "text": [
      "Epoch 718/10000 — Avg Train Loss: 4.2092 | Avg Val Loss:   11.2774 | LR: 9.89e-03\n"
     ]
    },
    {
     "name": "stderr",
     "output_type": "stream",
     "text": [
      "                                                                                           \r"
     ]
    },
    {
     "name": "stdout",
     "output_type": "stream",
     "text": [
      "Epoch 719/10000 — Avg Train Loss: 4.2552 | Avg Val Loss:   10.4647 | LR: 9.89e-03\n"
     ]
    },
    {
     "name": "stderr",
     "output_type": "stream",
     "text": [
      "                                                                                           \r"
     ]
    },
    {
     "name": "stdout",
     "output_type": "stream",
     "text": [
      "Epoch 720/10000 — Avg Train Loss: 4.1910 | Avg Val Loss:   11.0868 | LR: 9.89e-03\n"
     ]
    },
    {
     "name": "stderr",
     "output_type": "stream",
     "text": [
      "                                                                                           \r"
     ]
    },
    {
     "name": "stdout",
     "output_type": "stream",
     "text": [
      "Epoch 721/10000 — Avg Train Loss: 4.2341 | Avg Val Loss:   10.4553 | LR: 9.89e-03\n"
     ]
    },
    {
     "name": "stderr",
     "output_type": "stream",
     "text": [
      "                                                                                           \r"
     ]
    },
    {
     "name": "stdout",
     "output_type": "stream",
     "text": [
      "Epoch 722/10000 — Avg Train Loss: 4.2367 | Avg Val Loss:   10.7915 | LR: 9.89e-03\n"
     ]
    },
    {
     "name": "stderr",
     "output_type": "stream",
     "text": [
      "                                                                                           \r"
     ]
    },
    {
     "name": "stdout",
     "output_type": "stream",
     "text": [
      "Epoch 723/10000 — Avg Train Loss: 4.2786 | Avg Val Loss:   10.7713 | LR: 9.89e-03\n"
     ]
    },
    {
     "name": "stderr",
     "output_type": "stream",
     "text": [
      "                                                                                           \r"
     ]
    },
    {
     "name": "stdout",
     "output_type": "stream",
     "text": [
      "Epoch 724/10000 — Avg Train Loss: 4.2420 | Avg Val Loss:   10.8852 | LR: 9.89e-03\n"
     ]
    },
    {
     "name": "stderr",
     "output_type": "stream",
     "text": [
      "                                                                                           \r"
     ]
    },
    {
     "name": "stdout",
     "output_type": "stream",
     "text": [
      "Epoch 725/10000 — Avg Train Loss: 4.2125 | Avg Val Loss:   10.5794 | LR: 9.89e-03\n"
     ]
    },
    {
     "name": "stderr",
     "output_type": "stream",
     "text": [
      "                                                                                           \r"
     ]
    },
    {
     "name": "stdout",
     "output_type": "stream",
     "text": [
      "Epoch 726/10000 — Avg Train Loss: 4.2011 | Avg Val Loss:   10.1855 | LR: 9.89e-03\n"
     ]
    },
    {
     "name": "stderr",
     "output_type": "stream",
     "text": [
      "                                                                                           \r"
     ]
    },
    {
     "name": "stdout",
     "output_type": "stream",
     "text": [
      "Epoch 727/10000 — Avg Train Loss: 4.2193 | Avg Val Loss:   10.3853 | LR: 9.89e-03\n"
     ]
    },
    {
     "name": "stderr",
     "output_type": "stream",
     "text": [
      "                                                                                           \r"
     ]
    },
    {
     "name": "stdout",
     "output_type": "stream",
     "text": [
      "Epoch 728/10000 — Avg Train Loss: 4.1977 | Avg Val Loss:   10.8745 | LR: 9.89e-03\n"
     ]
    },
    {
     "name": "stderr",
     "output_type": "stream",
     "text": [
      "                                                                                           \r"
     ]
    },
    {
     "name": "stdout",
     "output_type": "stream",
     "text": [
      "Epoch 729/10000 — Avg Train Loss: 4.2043 | Avg Val Loss:   10.6661 | LR: 9.89e-03\n"
     ]
    },
    {
     "name": "stderr",
     "output_type": "stream",
     "text": [
      "                                                                                           \r"
     ]
    },
    {
     "name": "stdout",
     "output_type": "stream",
     "text": [
      "Epoch 730/10000 — Avg Train Loss: 4.1975 | Avg Val Loss:   11.3206 | LR: 9.89e-03\n"
     ]
    },
    {
     "name": "stderr",
     "output_type": "stream",
     "text": [
      "                                                                                           \r"
     ]
    },
    {
     "name": "stdout",
     "output_type": "stream",
     "text": [
      "Epoch 731/10000 — Avg Train Loss: 4.1897 | Avg Val Loss:   11.1577 | LR: 9.88e-03\n"
     ]
    },
    {
     "name": "stderr",
     "output_type": "stream",
     "text": [
      "                                                                                           \r"
     ]
    },
    {
     "name": "stdout",
     "output_type": "stream",
     "text": [
      "Epoch 732/10000 — Avg Train Loss: 4.1867 | Avg Val Loss:   10.9636 | LR: 9.88e-03\n"
     ]
    },
    {
     "name": "stderr",
     "output_type": "stream",
     "text": [
      "                                                                                           \r"
     ]
    },
    {
     "name": "stdout",
     "output_type": "stream",
     "text": [
      "Epoch 733/10000 — Avg Train Loss: 4.1648 | Avg Val Loss:   11.0396 | LR: 9.88e-03\n"
     ]
    },
    {
     "name": "stderr",
     "output_type": "stream",
     "text": [
      "                                                                                           \r"
     ]
    },
    {
     "name": "stdout",
     "output_type": "stream",
     "text": [
      "Epoch 734/10000 — Avg Train Loss: 4.1701 | Avg Val Loss:   11.0937 | LR: 9.88e-03\n"
     ]
    },
    {
     "name": "stderr",
     "output_type": "stream",
     "text": [
      "                                                                                           \r"
     ]
    },
    {
     "name": "stdout",
     "output_type": "stream",
     "text": [
      "Epoch 735/10000 — Avg Train Loss: 4.1941 | Avg Val Loss:   10.4712 | LR: 9.88e-03\n"
     ]
    },
    {
     "name": "stderr",
     "output_type": "stream",
     "text": [
      "                                                                                           \r"
     ]
    },
    {
     "name": "stdout",
     "output_type": "stream",
     "text": [
      "Epoch 736/10000 — Avg Train Loss: 4.1469 | Avg Val Loss:   10.4802 | LR: 9.88e-03\n"
     ]
    },
    {
     "name": "stderr",
     "output_type": "stream",
     "text": [
      "                                                                                           \r"
     ]
    },
    {
     "name": "stdout",
     "output_type": "stream",
     "text": [
      "Epoch 737/10000 — Avg Train Loss: 4.1412 | Avg Val Loss:   11.1278 | LR: 9.88e-03\n"
     ]
    },
    {
     "name": "stderr",
     "output_type": "stream",
     "text": [
      "                                                                                           \r"
     ]
    },
    {
     "name": "stdout",
     "output_type": "stream",
     "text": [
      "Epoch 738/10000 — Avg Train Loss: 4.1497 | Avg Val Loss:   11.2365 | LR: 9.88e-03\n"
     ]
    },
    {
     "name": "stderr",
     "output_type": "stream",
     "text": [
      "                                                                                           \r"
     ]
    },
    {
     "name": "stdout",
     "output_type": "stream",
     "text": [
      "Epoch 739/10000 — Avg Train Loss: 4.1721 | Avg Val Loss:   10.2619 | LR: 9.88e-03\n"
     ]
    },
    {
     "name": "stderr",
     "output_type": "stream",
     "text": [
      "                                                                                           \r"
     ]
    },
    {
     "name": "stdout",
     "output_type": "stream",
     "text": [
      "Epoch 740/10000 — Avg Train Loss: 4.1507 | Avg Val Loss:   11.0168 | LR: 9.88e-03\n"
     ]
    },
    {
     "name": "stderr",
     "output_type": "stream",
     "text": [
      "                                                                                           \r"
     ]
    },
    {
     "name": "stdout",
     "output_type": "stream",
     "text": [
      "Epoch 741/10000 — Avg Train Loss: 4.1675 | Avg Val Loss:   10.7686 | LR: 9.88e-03\n"
     ]
    },
    {
     "name": "stderr",
     "output_type": "stream",
     "text": [
      "                                                                                           \r"
     ]
    },
    {
     "name": "stdout",
     "output_type": "stream",
     "text": [
      "Epoch 742/10000 — Avg Train Loss: 4.1649 | Avg Val Loss:   11.0303 | LR: 9.88e-03\n"
     ]
    },
    {
     "name": "stderr",
     "output_type": "stream",
     "text": [
      "                                                                                           \r"
     ]
    },
    {
     "name": "stdout",
     "output_type": "stream",
     "text": [
      "Epoch 743/10000 — Avg Train Loss: 4.2057 | Avg Val Loss:   11.0884 | LR: 9.88e-03\n"
     ]
    },
    {
     "name": "stderr",
     "output_type": "stream",
     "text": [
      "                                                                                           \r"
     ]
    },
    {
     "name": "stdout",
     "output_type": "stream",
     "text": [
      "Epoch 744/10000 — Avg Train Loss: 4.1974 | Avg Val Loss:   10.8516 | LR: 9.88e-03\n"
     ]
    },
    {
     "name": "stderr",
     "output_type": "stream",
     "text": [
      "                                                                                           \r"
     ]
    },
    {
     "name": "stdout",
     "output_type": "stream",
     "text": [
      "Epoch 745/10000 — Avg Train Loss: 4.1595 | Avg Val Loss:   11.0955 | LR: 9.88e-03\n"
     ]
    },
    {
     "name": "stderr",
     "output_type": "stream",
     "text": [
      "                                                                                           \r"
     ]
    },
    {
     "name": "stdout",
     "output_type": "stream",
     "text": [
      "Epoch 746/10000 — Avg Train Loss: 4.1933 | Avg Val Loss:   11.2149 | LR: 9.88e-03\n"
     ]
    },
    {
     "name": "stderr",
     "output_type": "stream",
     "text": [
      "                                                                                           \r"
     ]
    },
    {
     "name": "stdout",
     "output_type": "stream",
     "text": [
      "Epoch 747/10000 — Avg Train Loss: 4.1705 | Avg Val Loss:   11.3055 | LR: 9.88e-03\n"
     ]
    },
    {
     "name": "stderr",
     "output_type": "stream",
     "text": [
      "                                                                                           \r"
     ]
    },
    {
     "name": "stdout",
     "output_type": "stream",
     "text": [
      "Epoch 748/10000 — Avg Train Loss: 4.1627 | Avg Val Loss:   11.2077 | LR: 9.88e-03\n"
     ]
    },
    {
     "name": "stderr",
     "output_type": "stream",
     "text": [
      "                                                                                           \r"
     ]
    },
    {
     "name": "stdout",
     "output_type": "stream",
     "text": [
      "Epoch 749/10000 — Avg Train Loss: 4.1566 | Avg Val Loss:   11.1816 | LR: 9.88e-03\n"
     ]
    },
    {
     "name": "stderr",
     "output_type": "stream",
     "text": [
      "                                                                                           \r"
     ]
    },
    {
     "name": "stdout",
     "output_type": "stream",
     "text": [
      "Epoch 750/10000 — Avg Train Loss: 4.1756 | Avg Val Loss:   11.7907 | LR: 9.88e-03\n"
     ]
    },
    {
     "name": "stderr",
     "output_type": "stream",
     "text": [
      "                                                                                           \r"
     ]
    },
    {
     "name": "stdout",
     "output_type": "stream",
     "text": [
      "Epoch 751/10000 — Avg Train Loss: 4.1768 | Avg Val Loss:   10.9767 | LR: 9.88e-03\n"
     ]
    },
    {
     "name": "stderr",
     "output_type": "stream",
     "text": [
      "                                                                                           \r"
     ]
    },
    {
     "name": "stdout",
     "output_type": "stream",
     "text": [
      "Epoch 752/10000 — Avg Train Loss: 4.1704 | Avg Val Loss:   10.8415 | LR: 9.88e-03\n"
     ]
    },
    {
     "name": "stderr",
     "output_type": "stream",
     "text": [
      "                                                                                           \r"
     ]
    },
    {
     "name": "stdout",
     "output_type": "stream",
     "text": [
      "Epoch 753/10000 — Avg Train Loss: 4.2296 | Avg Val Loss:   10.8405 | LR: 9.88e-03\n"
     ]
    },
    {
     "name": "stderr",
     "output_type": "stream",
     "text": [
      "                                                                                           \r"
     ]
    },
    {
     "name": "stdout",
     "output_type": "stream",
     "text": [
      "Epoch 754/10000 — Avg Train Loss: 4.2398 | Avg Val Loss:   10.9866 | LR: 9.88e-03\n"
     ]
    },
    {
     "name": "stderr",
     "output_type": "stream",
     "text": [
      "                                                                                           \r"
     ]
    },
    {
     "name": "stdout",
     "output_type": "stream",
     "text": [
      "Epoch 755/10000 — Avg Train Loss: 4.2347 | Avg Val Loss:   11.0474 | LR: 9.88e-03\n"
     ]
    },
    {
     "name": "stderr",
     "output_type": "stream",
     "text": [
      "                                                                                           \r"
     ]
    },
    {
     "name": "stdout",
     "output_type": "stream",
     "text": [
      "Epoch 756/10000 — Avg Train Loss: 4.2014 | Avg Val Loss:   10.8859 | LR: 9.88e-03\n"
     ]
    },
    {
     "name": "stderr",
     "output_type": "stream",
     "text": [
      "                                                                                           \r"
     ]
    },
    {
     "name": "stdout",
     "output_type": "stream",
     "text": [
      "Epoch 757/10000 — Avg Train Loss: 4.2021 | Avg Val Loss:   11.1026 | LR: 9.88e-03\n"
     ]
    },
    {
     "name": "stderr",
     "output_type": "stream",
     "text": [
      "                                                                                           \r"
     ]
    },
    {
     "name": "stdout",
     "output_type": "stream",
     "text": [
      "Epoch 758/10000 — Avg Train Loss: 4.1741 | Avg Val Loss:   11.5890 | LR: 9.88e-03\n"
     ]
    },
    {
     "name": "stderr",
     "output_type": "stream",
     "text": [
      "                                                                                           \r"
     ]
    },
    {
     "name": "stdout",
     "output_type": "stream",
     "text": [
      "Epoch 759/10000 — Avg Train Loss: 4.1336 | Avg Val Loss:   10.9139 | LR: 9.88e-03\n"
     ]
    },
    {
     "name": "stderr",
     "output_type": "stream",
     "text": [
      "                                                                                           \r"
     ]
    },
    {
     "name": "stdout",
     "output_type": "stream",
     "text": [
      "Epoch 760/10000 — Avg Train Loss: 4.1946 | Avg Val Loss:   10.6393 | LR: 9.87e-03\n"
     ]
    },
    {
     "name": "stderr",
     "output_type": "stream",
     "text": [
      "                                                                                           \r"
     ]
    },
    {
     "name": "stdout",
     "output_type": "stream",
     "text": [
      "Epoch 761/10000 — Avg Train Loss: 4.2082 | Avg Val Loss:   10.6257 | LR: 9.87e-03\n"
     ]
    },
    {
     "name": "stderr",
     "output_type": "stream",
     "text": [
      "                                                                                           \r"
     ]
    },
    {
     "name": "stdout",
     "output_type": "stream",
     "text": [
      "Epoch 762/10000 — Avg Train Loss: 4.1905 | Avg Val Loss:   10.1889 | LR: 9.87e-03\n"
     ]
    },
    {
     "name": "stderr",
     "output_type": "stream",
     "text": [
      "                                                                                           \r"
     ]
    },
    {
     "name": "stdout",
     "output_type": "stream",
     "text": [
      "Epoch 763/10000 — Avg Train Loss: 4.1920 | Avg Val Loss:   10.8947 | LR: 9.87e-03\n"
     ]
    },
    {
     "name": "stderr",
     "output_type": "stream",
     "text": [
      "                                                                                           \r"
     ]
    },
    {
     "name": "stdout",
     "output_type": "stream",
     "text": [
      "Epoch 764/10000 — Avg Train Loss: 4.1537 | Avg Val Loss:   10.3775 | LR: 9.87e-03\n"
     ]
    },
    {
     "name": "stderr",
     "output_type": "stream",
     "text": [
      "                                                                                           \r"
     ]
    },
    {
     "name": "stdout",
     "output_type": "stream",
     "text": [
      "Epoch 765/10000 — Avg Train Loss: 4.1433 | Avg Val Loss:   10.7858 | LR: 9.87e-03\n"
     ]
    },
    {
     "name": "stderr",
     "output_type": "stream",
     "text": [
      "                                                                                           \r"
     ]
    },
    {
     "name": "stdout",
     "output_type": "stream",
     "text": [
      "Epoch 766/10000 — Avg Train Loss: 4.1814 | Avg Val Loss:   10.9051 | LR: 9.87e-03\n"
     ]
    },
    {
     "name": "stderr",
     "output_type": "stream",
     "text": [
      "                                                                                           \r"
     ]
    },
    {
     "name": "stdout",
     "output_type": "stream",
     "text": [
      "Epoch 767/10000 — Avg Train Loss: 4.1617 | Avg Val Loss:   10.8075 | LR: 9.87e-03\n"
     ]
    },
    {
     "name": "stderr",
     "output_type": "stream",
     "text": [
      "                                                                                           \r"
     ]
    },
    {
     "name": "stdout",
     "output_type": "stream",
     "text": [
      "Epoch 768/10000 — Avg Train Loss: 4.1368 | Avg Val Loss:   10.8905 | LR: 9.87e-03\n"
     ]
    },
    {
     "name": "stderr",
     "output_type": "stream",
     "text": [
      "                                                                                           \r"
     ]
    },
    {
     "name": "stdout",
     "output_type": "stream",
     "text": [
      "Epoch 769/10000 — Avg Train Loss: 4.1387 | Avg Val Loss:   11.3852 | LR: 9.87e-03\n"
     ]
    },
    {
     "name": "stderr",
     "output_type": "stream",
     "text": [
      "                                                                                           \r"
     ]
    },
    {
     "name": "stdout",
     "output_type": "stream",
     "text": [
      "Epoch 770/10000 — Avg Train Loss: 4.1692 | Avg Val Loss:   10.1868 | LR: 9.87e-03\n"
     ]
    },
    {
     "name": "stderr",
     "output_type": "stream",
     "text": [
      "                                                                                           \r"
     ]
    },
    {
     "name": "stdout",
     "output_type": "stream",
     "text": [
      "Epoch 771/10000 — Avg Train Loss: 4.1654 | Avg Val Loss:   10.8254 | LR: 9.87e-03\n"
     ]
    },
    {
     "name": "stderr",
     "output_type": "stream",
     "text": [
      "                                                                                           \r"
     ]
    },
    {
     "name": "stdout",
     "output_type": "stream",
     "text": [
      "Epoch 772/10000 — Avg Train Loss: 4.2225 | Avg Val Loss:   10.8921 | LR: 9.87e-03\n"
     ]
    },
    {
     "name": "stderr",
     "output_type": "stream",
     "text": [
      "                                                                                           \r"
     ]
    },
    {
     "name": "stdout",
     "output_type": "stream",
     "text": [
      "Epoch 773/10000 — Avg Train Loss: 4.1871 | Avg Val Loss:   10.5537 | LR: 9.87e-03\n"
     ]
    },
    {
     "name": "stderr",
     "output_type": "stream",
     "text": [
      "                                                                                           \r"
     ]
    },
    {
     "name": "stdout",
     "output_type": "stream",
     "text": [
      "Epoch 774/10000 — Avg Train Loss: 4.1714 | Avg Val Loss:   10.9051 | LR: 9.87e-03\n"
     ]
    },
    {
     "name": "stderr",
     "output_type": "stream",
     "text": [
      "                                                                                           \r"
     ]
    },
    {
     "name": "stdout",
     "output_type": "stream",
     "text": [
      "Epoch 775/10000 — Avg Train Loss: 4.1757 | Avg Val Loss:   11.0655 | LR: 9.87e-03\n"
     ]
    },
    {
     "name": "stderr",
     "output_type": "stream",
     "text": [
      "                                                                                           \r"
     ]
    },
    {
     "name": "stdout",
     "output_type": "stream",
     "text": [
      "Epoch 776/10000 — Avg Train Loss: 4.2420 | Avg Val Loss:   10.3747 | LR: 9.87e-03\n"
     ]
    },
    {
     "name": "stderr",
     "output_type": "stream",
     "text": [
      "                                                                                           \r"
     ]
    },
    {
     "name": "stdout",
     "output_type": "stream",
     "text": [
      "Epoch 777/10000 — Avg Train Loss: 4.1613 | Avg Val Loss:   10.5746 | LR: 9.87e-03\n"
     ]
    },
    {
     "name": "stderr",
     "output_type": "stream",
     "text": [
      "                                                                                           \r"
     ]
    },
    {
     "name": "stdout",
     "output_type": "stream",
     "text": [
      "Epoch 778/10000 — Avg Train Loss: 4.1947 | Avg Val Loss:   11.0289 | LR: 9.87e-03\n"
     ]
    },
    {
     "name": "stderr",
     "output_type": "stream",
     "text": [
      "                                                                                           \r"
     ]
    },
    {
     "name": "stdout",
     "output_type": "stream",
     "text": [
      "Epoch 779/10000 — Avg Train Loss: 4.1498 | Avg Val Loss:   10.7726 | LR: 9.87e-03\n"
     ]
    },
    {
     "name": "stderr",
     "output_type": "stream",
     "text": [
      "                                                                                           \r"
     ]
    },
    {
     "name": "stdout",
     "output_type": "stream",
     "text": [
      "Epoch 780/10000 — Avg Train Loss: 4.1731 | Avg Val Loss:   10.3489 | LR: 9.87e-03\n"
     ]
    },
    {
     "name": "stderr",
     "output_type": "stream",
     "text": [
      "                                                                                           \r"
     ]
    },
    {
     "name": "stdout",
     "output_type": "stream",
     "text": [
      "Epoch 781/10000 — Avg Train Loss: 4.1852 | Avg Val Loss:   10.9670 | LR: 9.87e-03\n"
     ]
    },
    {
     "name": "stderr",
     "output_type": "stream",
     "text": [
      "                                                                                           \r"
     ]
    },
    {
     "name": "stdout",
     "output_type": "stream",
     "text": [
      "Epoch 782/10000 — Avg Train Loss: 4.1585 | Avg Val Loss:   10.6544 | LR: 9.87e-03\n"
     ]
    },
    {
     "name": "stderr",
     "output_type": "stream",
     "text": [
      "                                                                                           \r"
     ]
    },
    {
     "name": "stdout",
     "output_type": "stream",
     "text": [
      "Epoch 783/10000 — Avg Train Loss: 4.1335 | Avg Val Loss:   10.8732 | LR: 9.87e-03\n"
     ]
    },
    {
     "name": "stderr",
     "output_type": "stream",
     "text": [
      "                                                                                           \r"
     ]
    },
    {
     "name": "stdout",
     "output_type": "stream",
     "text": [
      "Epoch 784/10000 — Avg Train Loss: 4.1191 | Avg Val Loss:   11.1291 | LR: 9.87e-03\n"
     ]
    },
    {
     "name": "stderr",
     "output_type": "stream",
     "text": [
      "                                                                                           \r"
     ]
    },
    {
     "name": "stdout",
     "output_type": "stream",
     "text": [
      "Epoch 785/10000 — Avg Train Loss: 4.1294 | Avg Val Loss:   10.8816 | LR: 9.87e-03\n"
     ]
    },
    {
     "name": "stderr",
     "output_type": "stream",
     "text": [
      "                                                                                           \r"
     ]
    },
    {
     "name": "stdout",
     "output_type": "stream",
     "text": [
      "Epoch 786/10000 — Avg Train Loss: 4.1199 | Avg Val Loss:   10.9256 | LR: 9.87e-03\n"
     ]
    },
    {
     "name": "stderr",
     "output_type": "stream",
     "text": [
      "                                                                                           \r"
     ]
    },
    {
     "name": "stdout",
     "output_type": "stream",
     "text": [
      "Epoch 787/10000 — Avg Train Loss: 4.1452 | Avg Val Loss:   10.7522 | LR: 9.87e-03\n"
     ]
    },
    {
     "name": "stderr",
     "output_type": "stream",
     "text": [
      "                                                                                           \r"
     ]
    },
    {
     "name": "stdout",
     "output_type": "stream",
     "text": [
      "Epoch 788/10000 — Avg Train Loss: 4.1791 | Avg Val Loss:   10.9909 | LR: 9.86e-03\n"
     ]
    },
    {
     "name": "stderr",
     "output_type": "stream",
     "text": [
      "                                                                                           \r"
     ]
    },
    {
     "name": "stdout",
     "output_type": "stream",
     "text": [
      "Epoch 789/10000 — Avg Train Loss: 4.1755 | Avg Val Loss:   10.6918 | LR: 9.86e-03\n"
     ]
    },
    {
     "name": "stderr",
     "output_type": "stream",
     "text": [
      "                                                                                           \r"
     ]
    },
    {
     "name": "stdout",
     "output_type": "stream",
     "text": [
      "Epoch 790/10000 — Avg Train Loss: 4.1798 | Avg Val Loss:   10.3861 | LR: 9.86e-03\n"
     ]
    },
    {
     "name": "stderr",
     "output_type": "stream",
     "text": [
      "                                                                                           \r"
     ]
    },
    {
     "name": "stdout",
     "output_type": "stream",
     "text": [
      "Epoch 791/10000 — Avg Train Loss: 4.1943 | Avg Val Loss:   11.1141 | LR: 9.86e-03\n"
     ]
    },
    {
     "name": "stderr",
     "output_type": "stream",
     "text": [
      "                                                                                           \r"
     ]
    },
    {
     "name": "stdout",
     "output_type": "stream",
     "text": [
      "Epoch 792/10000 — Avg Train Loss: 4.1657 | Avg Val Loss:   11.1656 | LR: 9.86e-03\n"
     ]
    },
    {
     "name": "stderr",
     "output_type": "stream",
     "text": [
      "                                                                                           \r"
     ]
    },
    {
     "name": "stdout",
     "output_type": "stream",
     "text": [
      "Epoch 793/10000 — Avg Train Loss: 4.1649 | Avg Val Loss:   10.7927 | LR: 9.86e-03\n"
     ]
    },
    {
     "name": "stderr",
     "output_type": "stream",
     "text": [
      "                                                                                           \r"
     ]
    },
    {
     "name": "stdout",
     "output_type": "stream",
     "text": [
      "Epoch 794/10000 — Avg Train Loss: 4.1455 | Avg Val Loss:   11.0990 | LR: 9.86e-03\n"
     ]
    },
    {
     "name": "stderr",
     "output_type": "stream",
     "text": [
      "                                                                                           \r"
     ]
    },
    {
     "name": "stdout",
     "output_type": "stream",
     "text": [
      "Epoch 795/10000 — Avg Train Loss: 4.1492 | Avg Val Loss:   11.6891 | LR: 9.86e-03\n"
     ]
    },
    {
     "name": "stderr",
     "output_type": "stream",
     "text": [
      "                                                                                           \r"
     ]
    },
    {
     "name": "stdout",
     "output_type": "stream",
     "text": [
      "Epoch 796/10000 — Avg Train Loss: 4.1165 | Avg Val Loss:   11.0667 | LR: 9.86e-03\n"
     ]
    },
    {
     "name": "stderr",
     "output_type": "stream",
     "text": [
      "                                                                                           \r"
     ]
    },
    {
     "name": "stdout",
     "output_type": "stream",
     "text": [
      "Epoch 797/10000 — Avg Train Loss: 4.1222 | Avg Val Loss:   10.9521 | LR: 9.86e-03\n"
     ]
    },
    {
     "name": "stderr",
     "output_type": "stream",
     "text": [
      "                                                                                           \r"
     ]
    },
    {
     "name": "stdout",
     "output_type": "stream",
     "text": [
      "Epoch 798/10000 — Avg Train Loss: 4.1015 | Avg Val Loss:   11.2207 | LR: 9.86e-03\n"
     ]
    },
    {
     "name": "stderr",
     "output_type": "stream",
     "text": [
      "                                                                                           \r"
     ]
    },
    {
     "name": "stdout",
     "output_type": "stream",
     "text": [
      "Epoch 799/10000 — Avg Train Loss: 4.1188 | Avg Val Loss:   10.7694 | LR: 9.86e-03\n"
     ]
    },
    {
     "name": "stderr",
     "output_type": "stream",
     "text": [
      "                                                                                           \r"
     ]
    },
    {
     "name": "stdout",
     "output_type": "stream",
     "text": [
      "Epoch 800/10000 — Avg Train Loss: 4.1216 | Avg Val Loss:   10.1618 | LR: 9.86e-03\n"
     ]
    },
    {
     "name": "stderr",
     "output_type": "stream",
     "text": [
      "                                                                                           \r"
     ]
    },
    {
     "name": "stdout",
     "output_type": "stream",
     "text": [
      "Epoch 801/10000 — Avg Train Loss: 4.1099 | Avg Val Loss:   11.2057 | LR: 9.86e-03\n"
     ]
    },
    {
     "name": "stderr",
     "output_type": "stream",
     "text": [
      "                                                                                           \r"
     ]
    },
    {
     "name": "stdout",
     "output_type": "stream",
     "text": [
      "Epoch 802/10000 — Avg Train Loss: 4.1164 | Avg Val Loss:   11.1820 | LR: 9.86e-03\n"
     ]
    },
    {
     "name": "stderr",
     "output_type": "stream",
     "text": [
      "                                                                                           \r"
     ]
    },
    {
     "name": "stdout",
     "output_type": "stream",
     "text": [
      "Epoch 803/10000 — Avg Train Loss: 4.1220 | Avg Val Loss:   11.2138 | LR: 9.86e-03\n"
     ]
    },
    {
     "name": "stderr",
     "output_type": "stream",
     "text": [
      "                                                                                           \r"
     ]
    },
    {
     "name": "stdout",
     "output_type": "stream",
     "text": [
      "Epoch 804/10000 — Avg Train Loss: 4.1524 | Avg Val Loss:   10.8530 | LR: 9.86e-03\n"
     ]
    },
    {
     "name": "stderr",
     "output_type": "stream",
     "text": [
      "                                                                                           \r"
     ]
    },
    {
     "name": "stdout",
     "output_type": "stream",
     "text": [
      "Epoch 805/10000 — Avg Train Loss: 4.1382 | Avg Val Loss:   11.3204 | LR: 9.86e-03\n"
     ]
    },
    {
     "name": "stderr",
     "output_type": "stream",
     "text": [
      "                                                                                           \r"
     ]
    },
    {
     "name": "stdout",
     "output_type": "stream",
     "text": [
      "Epoch 806/10000 — Avg Train Loss: 4.1522 | Avg Val Loss:   11.5453 | LR: 9.86e-03\n"
     ]
    },
    {
     "name": "stderr",
     "output_type": "stream",
     "text": [
      "                                                                                           \r"
     ]
    },
    {
     "name": "stdout",
     "output_type": "stream",
     "text": [
      "Epoch 807/10000 — Avg Train Loss: 4.1478 | Avg Val Loss:   11.5367 | LR: 9.86e-03\n"
     ]
    },
    {
     "name": "stderr",
     "output_type": "stream",
     "text": [
      "                                                                                           \r"
     ]
    },
    {
     "name": "stdout",
     "output_type": "stream",
     "text": [
      "Epoch 808/10000 — Avg Train Loss: 4.1131 | Avg Val Loss:   11.3118 | LR: 9.86e-03\n"
     ]
    },
    {
     "name": "stderr",
     "output_type": "stream",
     "text": [
      "                                                                                           \r"
     ]
    },
    {
     "name": "stdout",
     "output_type": "stream",
     "text": [
      "Epoch 809/10000 — Avg Train Loss: 4.1021 | Avg Val Loss:   11.1266 | LR: 9.86e-03\n"
     ]
    },
    {
     "name": "stderr",
     "output_type": "stream",
     "text": [
      "                                                                                           \r"
     ]
    },
    {
     "name": "stdout",
     "output_type": "stream",
     "text": [
      "Epoch 810/10000 — Avg Train Loss: 4.1219 | Avg Val Loss:   11.1799 | LR: 9.86e-03\n"
     ]
    },
    {
     "name": "stderr",
     "output_type": "stream",
     "text": [
      "                                                                                           \r"
     ]
    },
    {
     "name": "stdout",
     "output_type": "stream",
     "text": [
      "Epoch 811/10000 — Avg Train Loss: 4.1322 | Avg Val Loss:   11.1719 | LR: 9.86e-03\n"
     ]
    },
    {
     "name": "stderr",
     "output_type": "stream",
     "text": [
      "                                                                                           \r"
     ]
    },
    {
     "name": "stdout",
     "output_type": "stream",
     "text": [
      "Epoch 812/10000 — Avg Train Loss: 4.1240 | Avg Val Loss:   10.8252 | LR: 9.86e-03\n"
     ]
    },
    {
     "name": "stderr",
     "output_type": "stream",
     "text": [
      "                                                                                           \r"
     ]
    },
    {
     "name": "stdout",
     "output_type": "stream",
     "text": [
      "Epoch 813/10000 — Avg Train Loss: 4.1650 | Avg Val Loss:   10.5139 | LR: 9.86e-03\n"
     ]
    },
    {
     "name": "stderr",
     "output_type": "stream",
     "text": [
      "                                                                                           \r"
     ]
    },
    {
     "name": "stdout",
     "output_type": "stream",
     "text": [
      "Epoch 814/10000 — Avg Train Loss: 4.1654 | Avg Val Loss:   10.9620 | LR: 9.86e-03\n"
     ]
    },
    {
     "name": "stderr",
     "output_type": "stream",
     "text": [
      "                                                                                           \r"
     ]
    },
    {
     "name": "stdout",
     "output_type": "stream",
     "text": [
      "Epoch 815/10000 — Avg Train Loss: 4.1789 | Avg Val Loss:   10.6743 | LR: 9.85e-03\n"
     ]
    },
    {
     "name": "stderr",
     "output_type": "stream",
     "text": [
      "                                                                                           \r"
     ]
    },
    {
     "name": "stdout",
     "output_type": "stream",
     "text": [
      "Epoch 816/10000 — Avg Train Loss: 4.1755 | Avg Val Loss:   10.6611 | LR: 9.85e-03\n"
     ]
    },
    {
     "name": "stderr",
     "output_type": "stream",
     "text": [
      "                                                                                           \r"
     ]
    },
    {
     "name": "stdout",
     "output_type": "stream",
     "text": [
      "Epoch 817/10000 — Avg Train Loss: 4.1601 | Avg Val Loss:   10.5198 | LR: 9.85e-03\n"
     ]
    },
    {
     "name": "stderr",
     "output_type": "stream",
     "text": [
      "                                                                                           \r"
     ]
    },
    {
     "name": "stdout",
     "output_type": "stream",
     "text": [
      "Epoch 818/10000 — Avg Train Loss: 4.1388 | Avg Val Loss:   10.9998 | LR: 9.85e-03\n"
     ]
    },
    {
     "name": "stderr",
     "output_type": "stream",
     "text": [
      "                                                                                           \r"
     ]
    },
    {
     "name": "stdout",
     "output_type": "stream",
     "text": [
      "Epoch 819/10000 — Avg Train Loss: 4.1242 | Avg Val Loss:   10.9943 | LR: 9.85e-03\n"
     ]
    },
    {
     "name": "stderr",
     "output_type": "stream",
     "text": [
      "                                                                                           \r"
     ]
    },
    {
     "name": "stdout",
     "output_type": "stream",
     "text": [
      "Epoch 820/10000 — Avg Train Loss: 4.1190 | Avg Val Loss:   10.9881 | LR: 9.85e-03\n"
     ]
    },
    {
     "name": "stderr",
     "output_type": "stream",
     "text": [
      "                                                                                           \r"
     ]
    },
    {
     "name": "stdout",
     "output_type": "stream",
     "text": [
      "Epoch 821/10000 — Avg Train Loss: 4.1105 | Avg Val Loss:   10.9318 | LR: 9.85e-03\n"
     ]
    },
    {
     "name": "stderr",
     "output_type": "stream",
     "text": [
      "                                                                                           \r"
     ]
    },
    {
     "name": "stdout",
     "output_type": "stream",
     "text": [
      "Epoch 822/10000 — Avg Train Loss: 4.1134 | Avg Val Loss:   11.0191 | LR: 9.85e-03\n"
     ]
    },
    {
     "name": "stderr",
     "output_type": "stream",
     "text": [
      "                                                                                           \r"
     ]
    },
    {
     "name": "stdout",
     "output_type": "stream",
     "text": [
      "Epoch 823/10000 — Avg Train Loss: 4.1496 | Avg Val Loss:   11.2129 | LR: 9.85e-03\n"
     ]
    },
    {
     "name": "stderr",
     "output_type": "stream",
     "text": [
      "                                                                                           \r"
     ]
    },
    {
     "name": "stdout",
     "output_type": "stream",
     "text": [
      "Epoch 824/10000 — Avg Train Loss: 4.1405 | Avg Val Loss:   10.8343 | LR: 9.85e-03\n"
     ]
    },
    {
     "name": "stderr",
     "output_type": "stream",
     "text": [
      "                                                                                           \r"
     ]
    },
    {
     "name": "stdout",
     "output_type": "stream",
     "text": [
      "Epoch 825/10000 — Avg Train Loss: 4.1691 | Avg Val Loss:   11.4978 | LR: 9.85e-03\n"
     ]
    },
    {
     "name": "stderr",
     "output_type": "stream",
     "text": [
      "                                                                                           \r"
     ]
    },
    {
     "name": "stdout",
     "output_type": "stream",
     "text": [
      "Epoch 826/10000 — Avg Train Loss: 4.1154 | Avg Val Loss:   11.5670 | LR: 9.85e-03\n"
     ]
    },
    {
     "name": "stderr",
     "output_type": "stream",
     "text": [
      "                                                                                           \r"
     ]
    },
    {
     "name": "stdout",
     "output_type": "stream",
     "text": [
      "Epoch 827/10000 — Avg Train Loss: 4.1669 | Avg Val Loss:   11.3412 | LR: 9.85e-03\n"
     ]
    },
    {
     "name": "stderr",
     "output_type": "stream",
     "text": [
      "                                                                                           \r"
     ]
    },
    {
     "name": "stdout",
     "output_type": "stream",
     "text": [
      "Epoch 828/10000 — Avg Train Loss: 4.2014 | Avg Val Loss:   10.8801 | LR: 9.85e-03\n"
     ]
    },
    {
     "name": "stderr",
     "output_type": "stream",
     "text": [
      "                                                                                           \r"
     ]
    },
    {
     "name": "stdout",
     "output_type": "stream",
     "text": [
      "Epoch 829/10000 — Avg Train Loss: 4.1956 | Avg Val Loss:   11.1321 | LR: 9.85e-03\n"
     ]
    },
    {
     "name": "stderr",
     "output_type": "stream",
     "text": [
      "                                                                                           \r"
     ]
    },
    {
     "name": "stdout",
     "output_type": "stream",
     "text": [
      "Epoch 830/10000 — Avg Train Loss: 4.1557 | Avg Val Loss:   11.2842 | LR: 9.85e-03\n"
     ]
    },
    {
     "name": "stderr",
     "output_type": "stream",
     "text": [
      "                                                                                           \r"
     ]
    },
    {
     "name": "stdout",
     "output_type": "stream",
     "text": [
      "Epoch 831/10000 — Avg Train Loss: 4.1293 | Avg Val Loss:   10.7123 | LR: 9.85e-03\n"
     ]
    },
    {
     "name": "stderr",
     "output_type": "stream",
     "text": [
      "                                                                                           \r"
     ]
    },
    {
     "name": "stdout",
     "output_type": "stream",
     "text": [
      "Epoch 832/10000 — Avg Train Loss: 4.0726 | Avg Val Loss:   11.1768 | LR: 9.85e-03\n"
     ]
    },
    {
     "name": "stderr",
     "output_type": "stream",
     "text": [
      "                                                                                           \r"
     ]
    },
    {
     "name": "stdout",
     "output_type": "stream",
     "text": [
      "Epoch 833/10000 — Avg Train Loss: 4.1331 | Avg Val Loss:   12.3339 | LR: 9.85e-03\n"
     ]
    },
    {
     "name": "stderr",
     "output_type": "stream",
     "text": [
      "                                                                                           \r"
     ]
    },
    {
     "name": "stdout",
     "output_type": "stream",
     "text": [
      "Epoch 834/10000 — Avg Train Loss: 4.1526 | Avg Val Loss:   11.1836 | LR: 9.85e-03\n"
     ]
    },
    {
     "name": "stderr",
     "output_type": "stream",
     "text": [
      "                                                                                           \r"
     ]
    },
    {
     "name": "stdout",
     "output_type": "stream",
     "text": [
      "Epoch 835/10000 — Avg Train Loss: 4.1033 | Avg Val Loss:   11.1560 | LR: 9.85e-03\n"
     ]
    },
    {
     "name": "stderr",
     "output_type": "stream",
     "text": [
      "                                                                                           \r"
     ]
    },
    {
     "name": "stdout",
     "output_type": "stream",
     "text": [
      "Epoch 836/10000 — Avg Train Loss: 4.1207 | Avg Val Loss:   11.1416 | LR: 9.85e-03\n"
     ]
    },
    {
     "name": "stderr",
     "output_type": "stream",
     "text": [
      "                                                                                           \r"
     ]
    },
    {
     "name": "stdout",
     "output_type": "stream",
     "text": [
      "Epoch 837/10000 — Avg Train Loss: 4.1160 | Avg Val Loss:   10.8757 | LR: 9.85e-03\n"
     ]
    },
    {
     "name": "stderr",
     "output_type": "stream",
     "text": [
      "                                                                                           \r"
     ]
    },
    {
     "name": "stdout",
     "output_type": "stream",
     "text": [
      "Epoch 838/10000 — Avg Train Loss: 4.1781 | Avg Val Loss:   10.7139 | LR: 9.85e-03\n"
     ]
    },
    {
     "name": "stderr",
     "output_type": "stream",
     "text": [
      "                                                                                           \r"
     ]
    },
    {
     "name": "stdout",
     "output_type": "stream",
     "text": [
      "Epoch 839/10000 — Avg Train Loss: 4.1380 | Avg Val Loss:   10.4787 | LR: 9.85e-03\n"
     ]
    },
    {
     "name": "stderr",
     "output_type": "stream",
     "text": [
      "                                                                                           \r"
     ]
    },
    {
     "name": "stdout",
     "output_type": "stream",
     "text": [
      "Epoch 840/10000 — Avg Train Loss: 4.1371 | Avg Val Loss:   11.2136 | LR: 9.85e-03\n"
     ]
    },
    {
     "name": "stderr",
     "output_type": "stream",
     "text": [
      "                                                                                           \r"
     ]
    },
    {
     "name": "stdout",
     "output_type": "stream",
     "text": [
      "Epoch 841/10000 — Avg Train Loss: 4.1160 | Avg Val Loss:   10.4311 | LR: 9.84e-03\n"
     ]
    },
    {
     "name": "stderr",
     "output_type": "stream",
     "text": [
      "                                                                                           \r"
     ]
    },
    {
     "name": "stdout",
     "output_type": "stream",
     "text": [
      "Epoch 842/10000 — Avg Train Loss: 4.1332 | Avg Val Loss:   11.0902 | LR: 9.84e-03\n"
     ]
    },
    {
     "name": "stderr",
     "output_type": "stream",
     "text": [
      "                                                                                           \r"
     ]
    },
    {
     "name": "stdout",
     "output_type": "stream",
     "text": [
      "Epoch 843/10000 — Avg Train Loss: 4.0982 | Avg Val Loss:   10.8877 | LR: 9.84e-03\n"
     ]
    },
    {
     "name": "stderr",
     "output_type": "stream",
     "text": [
      "                                                                                           \r"
     ]
    },
    {
     "name": "stdout",
     "output_type": "stream",
     "text": [
      "Epoch 844/10000 — Avg Train Loss: 4.1117 | Avg Val Loss:   10.9184 | LR: 9.84e-03\n"
     ]
    },
    {
     "name": "stderr",
     "output_type": "stream",
     "text": [
      "                                                                                           \r"
     ]
    },
    {
     "name": "stdout",
     "output_type": "stream",
     "text": [
      "Epoch 845/10000 — Avg Train Loss: 4.1054 | Avg Val Loss:   10.9859 | LR: 9.84e-03\n"
     ]
    },
    {
     "name": "stderr",
     "output_type": "stream",
     "text": [
      "                                                                                           \r"
     ]
    },
    {
     "name": "stdout",
     "output_type": "stream",
     "text": [
      "Epoch 846/10000 — Avg Train Loss: 4.1074 | Avg Val Loss:   11.0112 | LR: 9.84e-03\n"
     ]
    },
    {
     "name": "stderr",
     "output_type": "stream",
     "text": [
      "                                                                                           \r"
     ]
    },
    {
     "name": "stdout",
     "output_type": "stream",
     "text": [
      "Epoch 847/10000 — Avg Train Loss: 4.0977 | Avg Val Loss:   11.7577 | LR: 9.84e-03\n"
     ]
    },
    {
     "name": "stderr",
     "output_type": "stream",
     "text": [
      "                                                                                           \r"
     ]
    },
    {
     "name": "stdout",
     "output_type": "stream",
     "text": [
      "Epoch 848/10000 — Avg Train Loss: 4.0769 | Avg Val Loss:   12.6904 | LR: 9.84e-03\n"
     ]
    },
    {
     "name": "stderr",
     "output_type": "stream",
     "text": [
      "                                                                                           \r"
     ]
    },
    {
     "name": "stdout",
     "output_type": "stream",
     "text": [
      "Epoch 849/10000 — Avg Train Loss: 4.0839 | Avg Val Loss:   11.8073 | LR: 9.84e-03\n"
     ]
    },
    {
     "name": "stderr",
     "output_type": "stream",
     "text": [
      "                                                                                           \r"
     ]
    },
    {
     "name": "stdout",
     "output_type": "stream",
     "text": [
      "Epoch 850/10000 — Avg Train Loss: 4.1124 | Avg Val Loss:   11.1337 | LR: 9.84e-03\n"
     ]
    },
    {
     "name": "stderr",
     "output_type": "stream",
     "text": [
      "                                                                                           \r"
     ]
    },
    {
     "name": "stdout",
     "output_type": "stream",
     "text": [
      "Epoch 851/10000 — Avg Train Loss: 4.0774 | Avg Val Loss:   11.1463 | LR: 9.84e-03\n"
     ]
    },
    {
     "name": "stderr",
     "output_type": "stream",
     "text": [
      "                                                                                           \r"
     ]
    },
    {
     "name": "stdout",
     "output_type": "stream",
     "text": [
      "Epoch 852/10000 — Avg Train Loss: 4.0825 | Avg Val Loss:   10.8594 | LR: 9.84e-03\n"
     ]
    },
    {
     "name": "stderr",
     "output_type": "stream",
     "text": [
      "                                                                                           \r"
     ]
    },
    {
     "name": "stdout",
     "output_type": "stream",
     "text": [
      "Epoch 853/10000 — Avg Train Loss: 4.0991 | Avg Val Loss:   10.8607 | LR: 9.84e-03\n"
     ]
    },
    {
     "name": "stderr",
     "output_type": "stream",
     "text": [
      "                                                                                           \r"
     ]
    },
    {
     "name": "stdout",
     "output_type": "stream",
     "text": [
      "Epoch 854/10000 — Avg Train Loss: 4.1071 | Avg Val Loss:   10.9012 | LR: 9.84e-03\n"
     ]
    },
    {
     "name": "stderr",
     "output_type": "stream",
     "text": [
      "                                                                                           \r"
     ]
    },
    {
     "name": "stdout",
     "output_type": "stream",
     "text": [
      "Epoch 855/10000 — Avg Train Loss: 4.0937 | Avg Val Loss:   11.4224 | LR: 9.84e-03\n"
     ]
    },
    {
     "name": "stderr",
     "output_type": "stream",
     "text": [
      "                                                                                           \r"
     ]
    },
    {
     "name": "stdout",
     "output_type": "stream",
     "text": [
      "Epoch 856/10000 — Avg Train Loss: 4.0933 | Avg Val Loss:   10.9142 | LR: 9.84e-03\n"
     ]
    },
    {
     "name": "stderr",
     "output_type": "stream",
     "text": [
      "                                                                                           \r"
     ]
    },
    {
     "name": "stdout",
     "output_type": "stream",
     "text": [
      "Epoch 857/10000 — Avg Train Loss: 4.0962 | Avg Val Loss:   11.0054 | LR: 9.84e-03\n"
     ]
    },
    {
     "name": "stderr",
     "output_type": "stream",
     "text": [
      "                                                                                           \r"
     ]
    },
    {
     "name": "stdout",
     "output_type": "stream",
     "text": [
      "Epoch 858/10000 — Avg Train Loss: 4.1061 | Avg Val Loss:   10.8085 | LR: 9.84e-03\n"
     ]
    },
    {
     "name": "stderr",
     "output_type": "stream",
     "text": [
      "                                                                                           \r"
     ]
    },
    {
     "name": "stdout",
     "output_type": "stream",
     "text": [
      "Epoch 859/10000 — Avg Train Loss: 4.0868 | Avg Val Loss:   10.5696 | LR: 9.84e-03\n"
     ]
    },
    {
     "name": "stderr",
     "output_type": "stream",
     "text": [
      "                                                                                           \r"
     ]
    },
    {
     "name": "stdout",
     "output_type": "stream",
     "text": [
      "Epoch 860/10000 — Avg Train Loss: 4.0636 | Avg Val Loss:   11.4061 | LR: 9.84e-03\n"
     ]
    },
    {
     "name": "stderr",
     "output_type": "stream",
     "text": [
      "                                                                                           \r"
     ]
    },
    {
     "name": "stdout",
     "output_type": "stream",
     "text": [
      "Epoch 861/10000 — Avg Train Loss: 4.1163 | Avg Val Loss:   10.9187 | LR: 9.84e-03\n"
     ]
    },
    {
     "name": "stderr",
     "output_type": "stream",
     "text": [
      "                                                                                           \r"
     ]
    },
    {
     "name": "stdout",
     "output_type": "stream",
     "text": [
      "Epoch 862/10000 — Avg Train Loss: 4.1014 | Avg Val Loss:   11.0848 | LR: 9.84e-03\n"
     ]
    },
    {
     "name": "stderr",
     "output_type": "stream",
     "text": [
      "                                                                                           \r"
     ]
    },
    {
     "name": "stdout",
     "output_type": "stream",
     "text": [
      "Epoch 863/10000 — Avg Train Loss: 4.0574 | Avg Val Loss:   11.2187 | LR: 9.84e-03\n"
     ]
    },
    {
     "name": "stderr",
     "output_type": "stream",
     "text": [
      "                                                                                           \r"
     ]
    },
    {
     "name": "stdout",
     "output_type": "stream",
     "text": [
      "Epoch 864/10000 — Avg Train Loss: 4.0716 | Avg Val Loss:   11.6451 | LR: 9.84e-03\n"
     ]
    },
    {
     "name": "stderr",
     "output_type": "stream",
     "text": [
      "                                                                                           \r"
     ]
    },
    {
     "name": "stdout",
     "output_type": "stream",
     "text": [
      "Epoch 865/10000 — Avg Train Loss: 4.0751 | Avg Val Loss:   11.4065 | LR: 9.84e-03\n"
     ]
    },
    {
     "name": "stderr",
     "output_type": "stream",
     "text": [
      "                                                                                           \r"
     ]
    },
    {
     "name": "stdout",
     "output_type": "stream",
     "text": [
      "Epoch 866/10000 — Avg Train Loss: 4.0889 | Avg Val Loss:   11.1980 | LR: 9.83e-03\n"
     ]
    },
    {
     "name": "stderr",
     "output_type": "stream",
     "text": [
      "                                                                                           \r"
     ]
    },
    {
     "name": "stdout",
     "output_type": "stream",
     "text": [
      "Epoch 867/10000 — Avg Train Loss: 4.1627 | Avg Val Loss:   10.1109 | LR: 9.83e-03\n"
     ]
    },
    {
     "name": "stderr",
     "output_type": "stream",
     "text": [
      "                                                                                           \r"
     ]
    },
    {
     "name": "stdout",
     "output_type": "stream",
     "text": [
      "Epoch 868/10000 — Avg Train Loss: 4.2113 | Avg Val Loss:   9.4444 | LR: 9.83e-03\n"
     ]
    },
    {
     "name": "stderr",
     "output_type": "stream",
     "text": [
      "                                                                                           \r"
     ]
    },
    {
     "name": "stdout",
     "output_type": "stream",
     "text": [
      "Epoch 869/10000 — Avg Train Loss: 4.1896 | Avg Val Loss:   10.6336 | LR: 9.83e-03\n"
     ]
    },
    {
     "name": "stderr",
     "output_type": "stream",
     "text": [
      "                                                                                           \r"
     ]
    },
    {
     "name": "stdout",
     "output_type": "stream",
     "text": [
      "Epoch 870/10000 — Avg Train Loss: 4.1370 | Avg Val Loss:   10.9715 | LR: 9.83e-03\n"
     ]
    },
    {
     "name": "stderr",
     "output_type": "stream",
     "text": [
      "                                                                                           \r"
     ]
    },
    {
     "name": "stdout",
     "output_type": "stream",
     "text": [
      "Epoch 871/10000 — Avg Train Loss: 4.1238 | Avg Val Loss:   10.8108 | LR: 9.83e-03\n"
     ]
    },
    {
     "name": "stderr",
     "output_type": "stream",
     "text": [
      "                                                                                           \r"
     ]
    },
    {
     "name": "stdout",
     "output_type": "stream",
     "text": [
      "Epoch 872/10000 — Avg Train Loss: 4.0837 | Avg Val Loss:   10.9775 | LR: 9.83e-03\n"
     ]
    },
    {
     "name": "stderr",
     "output_type": "stream",
     "text": [
      "                                                                                           \r"
     ]
    },
    {
     "name": "stdout",
     "output_type": "stream",
     "text": [
      "Epoch 873/10000 — Avg Train Loss: 4.1030 | Avg Val Loss:   11.2953 | LR: 9.83e-03\n"
     ]
    },
    {
     "name": "stderr",
     "output_type": "stream",
     "text": [
      "                                                                                           \r"
     ]
    },
    {
     "name": "stdout",
     "output_type": "stream",
     "text": [
      "Epoch 874/10000 — Avg Train Loss: 4.1212 | Avg Val Loss:   10.4931 | LR: 9.83e-03\n"
     ]
    },
    {
     "name": "stderr",
     "output_type": "stream",
     "text": [
      "                                                                                           \r"
     ]
    },
    {
     "name": "stdout",
     "output_type": "stream",
     "text": [
      "Epoch 875/10000 — Avg Train Loss: 4.1291 | Avg Val Loss:   11.2311 | LR: 9.83e-03\n"
     ]
    },
    {
     "name": "stderr",
     "output_type": "stream",
     "text": [
      "                                                                                           \r"
     ]
    },
    {
     "name": "stdout",
     "output_type": "stream",
     "text": [
      "Epoch 876/10000 — Avg Train Loss: 4.1135 | Avg Val Loss:   11.0326 | LR: 9.83e-03\n"
     ]
    },
    {
     "name": "stderr",
     "output_type": "stream",
     "text": [
      "                                                                                           \r"
     ]
    },
    {
     "name": "stdout",
     "output_type": "stream",
     "text": [
      "Epoch 877/10000 — Avg Train Loss: 4.1062 | Avg Val Loss:   11.1421 | LR: 9.83e-03\n"
     ]
    },
    {
     "name": "stderr",
     "output_type": "stream",
     "text": [
      "                                                                                           \r"
     ]
    },
    {
     "name": "stdout",
     "output_type": "stream",
     "text": [
      "Epoch 878/10000 — Avg Train Loss: 4.1184 | Avg Val Loss:   10.7639 | LR: 9.83e-03\n"
     ]
    },
    {
     "name": "stderr",
     "output_type": "stream",
     "text": [
      "                                                                                           \r"
     ]
    },
    {
     "name": "stdout",
     "output_type": "stream",
     "text": [
      "Epoch 879/10000 — Avg Train Loss: 4.1125 | Avg Val Loss:   11.4875 | LR: 9.83e-03\n"
     ]
    },
    {
     "name": "stderr",
     "output_type": "stream",
     "text": [
      "                                                                                           \r"
     ]
    },
    {
     "name": "stdout",
     "output_type": "stream",
     "text": [
      "Epoch 880/10000 — Avg Train Loss: 4.1051 | Avg Val Loss:   10.9338 | LR: 9.83e-03\n"
     ]
    },
    {
     "name": "stderr",
     "output_type": "stream",
     "text": [
      "                                                                                           \r"
     ]
    },
    {
     "name": "stdout",
     "output_type": "stream",
     "text": [
      "Epoch 881/10000 — Avg Train Loss: 4.1036 | Avg Val Loss:   11.1358 | LR: 9.83e-03\n"
     ]
    },
    {
     "name": "stderr",
     "output_type": "stream",
     "text": [
      "                                                                                           \r"
     ]
    },
    {
     "name": "stdout",
     "output_type": "stream",
     "text": [
      "Epoch 882/10000 — Avg Train Loss: 4.0567 | Avg Val Loss:   10.9994 | LR: 9.83e-03\n"
     ]
    },
    {
     "name": "stderr",
     "output_type": "stream",
     "text": [
      "                                                                                           \r"
     ]
    },
    {
     "name": "stdout",
     "output_type": "stream",
     "text": [
      "Epoch 883/10000 — Avg Train Loss: 4.1086 | Avg Val Loss:   11.3901 | LR: 9.83e-03\n"
     ]
    },
    {
     "name": "stderr",
     "output_type": "stream",
     "text": [
      "                                                                                           \r"
     ]
    },
    {
     "name": "stdout",
     "output_type": "stream",
     "text": [
      "Epoch 884/10000 — Avg Train Loss: 4.1227 | Avg Val Loss:   10.9136 | LR: 9.83e-03\n"
     ]
    },
    {
     "name": "stderr",
     "output_type": "stream",
     "text": [
      "                                                                                           \r"
     ]
    },
    {
     "name": "stdout",
     "output_type": "stream",
     "text": [
      "Epoch 885/10000 — Avg Train Loss: 4.0669 | Avg Val Loss:   10.7856 | LR: 9.83e-03\n"
     ]
    },
    {
     "name": "stderr",
     "output_type": "stream",
     "text": [
      "                                                                                           \r"
     ]
    },
    {
     "name": "stdout",
     "output_type": "stream",
     "text": [
      "Epoch 886/10000 — Avg Train Loss: 4.0936 | Avg Val Loss:   10.9662 | LR: 9.83e-03\n"
     ]
    },
    {
     "name": "stderr",
     "output_type": "stream",
     "text": [
      "                                                                                           \r"
     ]
    },
    {
     "name": "stdout",
     "output_type": "stream",
     "text": [
      "Epoch 887/10000 — Avg Train Loss: 4.0984 | Avg Val Loss:   10.8937 | LR: 9.83e-03\n"
     ]
    },
    {
     "name": "stderr",
     "output_type": "stream",
     "text": [
      "                                                                                           \r"
     ]
    },
    {
     "name": "stdout",
     "output_type": "stream",
     "text": [
      "Epoch 888/10000 — Avg Train Loss: 4.0802 | Avg Val Loss:   10.7058 | LR: 9.83e-03\n"
     ]
    },
    {
     "name": "stderr",
     "output_type": "stream",
     "text": [
      "                                                                                           \r"
     ]
    },
    {
     "name": "stdout",
     "output_type": "stream",
     "text": [
      "Epoch 889/10000 — Avg Train Loss: 4.0659 | Avg Val Loss:   10.9093 | LR: 9.83e-03\n"
     ]
    },
    {
     "name": "stderr",
     "output_type": "stream",
     "text": [
      "                                                                                           \r"
     ]
    },
    {
     "name": "stdout",
     "output_type": "stream",
     "text": [
      "Epoch 890/10000 — Avg Train Loss: 4.0939 | Avg Val Loss:   10.5578 | LR: 9.83e-03\n"
     ]
    },
    {
     "name": "stderr",
     "output_type": "stream",
     "text": [
      "                                                                                           \r"
     ]
    },
    {
     "name": "stdout",
     "output_type": "stream",
     "text": [
      "Epoch 891/10000 — Avg Train Loss: 4.1164 | Avg Val Loss:   10.2169 | LR: 9.82e-03\n"
     ]
    },
    {
     "name": "stderr",
     "output_type": "stream",
     "text": [
      "                                                                                           \r"
     ]
    },
    {
     "name": "stdout",
     "output_type": "stream",
     "text": [
      "Epoch 892/10000 — Avg Train Loss: 4.0739 | Avg Val Loss:   10.8253 | LR: 9.82e-03\n"
     ]
    },
    {
     "name": "stderr",
     "output_type": "stream",
     "text": [
      "                                                                                           \r"
     ]
    },
    {
     "name": "stdout",
     "output_type": "stream",
     "text": [
      "Epoch 893/10000 — Avg Train Loss: 4.0685 | Avg Val Loss:   10.4733 | LR: 9.82e-03\n"
     ]
    },
    {
     "name": "stderr",
     "output_type": "stream",
     "text": [
      "                                                                                           \r"
     ]
    },
    {
     "name": "stdout",
     "output_type": "stream",
     "text": [
      "Epoch 894/10000 — Avg Train Loss: 4.0606 | Avg Val Loss:   10.8889 | LR: 9.82e-03\n"
     ]
    },
    {
     "name": "stderr",
     "output_type": "stream",
     "text": [
      "                                                                                           \r"
     ]
    },
    {
     "name": "stdout",
     "output_type": "stream",
     "text": [
      "Epoch 895/10000 — Avg Train Loss: 4.0611 | Avg Val Loss:   10.9399 | LR: 9.82e-03\n"
     ]
    },
    {
     "name": "stderr",
     "output_type": "stream",
     "text": [
      "                                                                                           \r"
     ]
    },
    {
     "name": "stdout",
     "output_type": "stream",
     "text": [
      "Epoch 896/10000 — Avg Train Loss: 4.0396 | Avg Val Loss:   11.4262 | LR: 9.82e-03\n"
     ]
    },
    {
     "name": "stderr",
     "output_type": "stream",
     "text": [
      "                                                                                           \r"
     ]
    },
    {
     "name": "stdout",
     "output_type": "stream",
     "text": [
      "Epoch 897/10000 — Avg Train Loss: 4.0656 | Avg Val Loss:   11.1507 | LR: 9.82e-03\n"
     ]
    },
    {
     "name": "stderr",
     "output_type": "stream",
     "text": [
      "                                                                                           \r"
     ]
    },
    {
     "name": "stdout",
     "output_type": "stream",
     "text": [
      "Epoch 898/10000 — Avg Train Loss: 4.0605 | Avg Val Loss:   10.1707 | LR: 9.82e-03\n"
     ]
    },
    {
     "name": "stderr",
     "output_type": "stream",
     "text": [
      "                                                                                           \r"
     ]
    },
    {
     "name": "stdout",
     "output_type": "stream",
     "text": [
      "Epoch 899/10000 — Avg Train Loss: 4.0403 | Avg Val Loss:   11.3284 | LR: 9.82e-03\n"
     ]
    },
    {
     "name": "stderr",
     "output_type": "stream",
     "text": [
      "                                                                                           \r"
     ]
    },
    {
     "name": "stdout",
     "output_type": "stream",
     "text": [
      "Epoch 900/10000 — Avg Train Loss: 4.0310 | Avg Val Loss:   11.2803 | LR: 9.82e-03\n"
     ]
    },
    {
     "name": "stderr",
     "output_type": "stream",
     "text": [
      "                                                                                           \r"
     ]
    },
    {
     "name": "stdout",
     "output_type": "stream",
     "text": [
      "Epoch 901/10000 — Avg Train Loss: 4.0410 | Avg Val Loss:   11.2417 | LR: 9.82e-03\n"
     ]
    },
    {
     "name": "stderr",
     "output_type": "stream",
     "text": [
      "                                                                                           \r"
     ]
    },
    {
     "name": "stdout",
     "output_type": "stream",
     "text": [
      "Epoch 902/10000 — Avg Train Loss: 4.0874 | Avg Val Loss:   10.6220 | LR: 9.82e-03\n"
     ]
    },
    {
     "name": "stderr",
     "output_type": "stream",
     "text": [
      "                                                                                           \r"
     ]
    },
    {
     "name": "stdout",
     "output_type": "stream",
     "text": [
      "Epoch 903/10000 — Avg Train Loss: 4.0724 | Avg Val Loss:   11.2073 | LR: 9.82e-03\n"
     ]
    },
    {
     "name": "stderr",
     "output_type": "stream",
     "text": [
      "                                                                                           \r"
     ]
    },
    {
     "name": "stdout",
     "output_type": "stream",
     "text": [
      "Epoch 904/10000 — Avg Train Loss: 4.0900 | Avg Val Loss:   10.2701 | LR: 9.82e-03\n"
     ]
    },
    {
     "name": "stderr",
     "output_type": "stream",
     "text": [
      "                                                                                           \r"
     ]
    },
    {
     "name": "stdout",
     "output_type": "stream",
     "text": [
      "Epoch 905/10000 — Avg Train Loss: 4.0706 | Avg Val Loss:   10.6270 | LR: 9.82e-03\n"
     ]
    },
    {
     "name": "stderr",
     "output_type": "stream",
     "text": [
      "                                                                                           \r"
     ]
    },
    {
     "name": "stdout",
     "output_type": "stream",
     "text": [
      "Epoch 906/10000 — Avg Train Loss: 4.0599 | Avg Val Loss:   10.5660 | LR: 9.82e-03\n"
     ]
    },
    {
     "name": "stderr",
     "output_type": "stream",
     "text": [
      "                                                                                           \r"
     ]
    },
    {
     "name": "stdout",
     "output_type": "stream",
     "text": [
      "Epoch 907/10000 — Avg Train Loss: 4.0818 | Avg Val Loss:   11.6363 | LR: 9.82e-03\n"
     ]
    },
    {
     "name": "stderr",
     "output_type": "stream",
     "text": [
      "                                                                                           \r"
     ]
    },
    {
     "name": "stdout",
     "output_type": "stream",
     "text": [
      "Epoch 908/10000 — Avg Train Loss: 4.0608 | Avg Val Loss:   11.1970 | LR: 9.82e-03\n"
     ]
    },
    {
     "name": "stderr",
     "output_type": "stream",
     "text": [
      "                                                                                           \r"
     ]
    },
    {
     "name": "stdout",
     "output_type": "stream",
     "text": [
      "Epoch 909/10000 — Avg Train Loss: 4.0433 | Avg Val Loss:   10.6741 | LR: 9.82e-03\n"
     ]
    },
    {
     "name": "stderr",
     "output_type": "stream",
     "text": [
      "                                                                                           \r"
     ]
    },
    {
     "name": "stdout",
     "output_type": "stream",
     "text": [
      "Epoch 910/10000 — Avg Train Loss: 4.0533 | Avg Val Loss:   11.1255 | LR: 9.82e-03\n"
     ]
    },
    {
     "name": "stderr",
     "output_type": "stream",
     "text": [
      "                                                                                           \r"
     ]
    },
    {
     "name": "stdout",
     "output_type": "stream",
     "text": [
      "Epoch 911/10000 — Avg Train Loss: 4.0650 | Avg Val Loss:   10.6902 | LR: 9.82e-03\n"
     ]
    },
    {
     "name": "stderr",
     "output_type": "stream",
     "text": [
      "                                                                                           \r"
     ]
    },
    {
     "name": "stdout",
     "output_type": "stream",
     "text": [
      "Epoch 912/10000 — Avg Train Loss: 4.0539 | Avg Val Loss:   11.1510 | LR: 9.82e-03\n"
     ]
    },
    {
     "name": "stderr",
     "output_type": "stream",
     "text": [
      "                                                                                           \r"
     ]
    },
    {
     "name": "stdout",
     "output_type": "stream",
     "text": [
      "Epoch 913/10000 — Avg Train Loss: 4.0476 | Avg Val Loss:   10.8790 | LR: 9.82e-03\n"
     ]
    },
    {
     "name": "stderr",
     "output_type": "stream",
     "text": [
      "                                                                                           \r"
     ]
    },
    {
     "name": "stdout",
     "output_type": "stream",
     "text": [
      "Epoch 914/10000 — Avg Train Loss: 4.0336 | Avg Val Loss:   11.7595 | LR: 9.82e-03\n"
     ]
    },
    {
     "name": "stderr",
     "output_type": "stream",
     "text": [
      "                                                                                           \r"
     ]
    },
    {
     "name": "stdout",
     "output_type": "stream",
     "text": [
      "Epoch 915/10000 — Avg Train Loss: 4.0262 | Avg Val Loss:   10.7800 | LR: 9.81e-03\n"
     ]
    },
    {
     "name": "stderr",
     "output_type": "stream",
     "text": [
      "                                                                                           \r"
     ]
    },
    {
     "name": "stdout",
     "output_type": "stream",
     "text": [
      "Epoch 916/10000 — Avg Train Loss: 4.0219 | Avg Val Loss:   10.9751 | LR: 9.81e-03\n"
     ]
    },
    {
     "name": "stderr",
     "output_type": "stream",
     "text": [
      "                                                                                           \r"
     ]
    },
    {
     "name": "stdout",
     "output_type": "stream",
     "text": [
      "Epoch 917/10000 — Avg Train Loss: 4.0574 | Avg Val Loss:   11.5109 | LR: 9.81e-03\n"
     ]
    },
    {
     "name": "stderr",
     "output_type": "stream",
     "text": [
      "                                                                                           \r"
     ]
    },
    {
     "name": "stdout",
     "output_type": "stream",
     "text": [
      "Epoch 918/10000 — Avg Train Loss: 4.0523 | Avg Val Loss:   10.3224 | LR: 9.81e-03\n"
     ]
    },
    {
     "name": "stderr",
     "output_type": "stream",
     "text": [
      "                                                                                           \r"
     ]
    },
    {
     "name": "stdout",
     "output_type": "stream",
     "text": [
      "Epoch 919/10000 — Avg Train Loss: 4.1092 | Avg Val Loss:   10.8439 | LR: 9.81e-03\n"
     ]
    },
    {
     "name": "stderr",
     "output_type": "stream",
     "text": [
      "                                                                                           \r"
     ]
    },
    {
     "name": "stdout",
     "output_type": "stream",
     "text": [
      "Epoch 920/10000 — Avg Train Loss: 4.0603 | Avg Val Loss:   10.9840 | LR: 9.81e-03\n"
     ]
    },
    {
     "name": "stderr",
     "output_type": "stream",
     "text": [
      "                                                                                           \r"
     ]
    },
    {
     "name": "stdout",
     "output_type": "stream",
     "text": [
      "Epoch 921/10000 — Avg Train Loss: 4.0427 | Avg Val Loss:   10.6427 | LR: 9.81e-03\n"
     ]
    },
    {
     "name": "stderr",
     "output_type": "stream",
     "text": [
      "                                                                                           \r"
     ]
    },
    {
     "name": "stdout",
     "output_type": "stream",
     "text": [
      "Epoch 922/10000 — Avg Train Loss: 4.0364 | Avg Val Loss:   10.6377 | LR: 9.81e-03\n"
     ]
    },
    {
     "name": "stderr",
     "output_type": "stream",
     "text": [
      "                                                                                           \r"
     ]
    },
    {
     "name": "stdout",
     "output_type": "stream",
     "text": [
      "Epoch 923/10000 — Avg Train Loss: 4.0390 | Avg Val Loss:   10.8821 | LR: 9.81e-03\n"
     ]
    },
    {
     "name": "stderr",
     "output_type": "stream",
     "text": [
      "                                                                                           \r"
     ]
    },
    {
     "name": "stdout",
     "output_type": "stream",
     "text": [
      "Epoch 924/10000 — Avg Train Loss: 4.1069 | Avg Val Loss:   11.0135 | LR: 9.81e-03\n"
     ]
    },
    {
     "name": "stderr",
     "output_type": "stream",
     "text": [
      "                                                                                           \r"
     ]
    },
    {
     "name": "stdout",
     "output_type": "stream",
     "text": [
      "Epoch 925/10000 — Avg Train Loss: 4.0473 | Avg Val Loss:   10.5429 | LR: 9.81e-03\n"
     ]
    },
    {
     "name": "stderr",
     "output_type": "stream",
     "text": [
      "                                                                                           \r"
     ]
    },
    {
     "name": "stdout",
     "output_type": "stream",
     "text": [
      "Epoch 926/10000 — Avg Train Loss: 4.0433 | Avg Val Loss:   11.4266 | LR: 9.81e-03\n"
     ]
    },
    {
     "name": "stderr",
     "output_type": "stream",
     "text": [
      "                                                                                           \r"
     ]
    },
    {
     "name": "stdout",
     "output_type": "stream",
     "text": [
      "Epoch 927/10000 — Avg Train Loss: 4.0663 | Avg Val Loss:   10.9733 | LR: 9.81e-03\n"
     ]
    },
    {
     "name": "stderr",
     "output_type": "stream",
     "text": [
      "                                                                                           \r"
     ]
    },
    {
     "name": "stdout",
     "output_type": "stream",
     "text": [
      "Epoch 928/10000 — Avg Train Loss: 4.0838 | Avg Val Loss:   11.2159 | LR: 9.81e-03\n"
     ]
    },
    {
     "name": "stderr",
     "output_type": "stream",
     "text": [
      "                                                                                           \r"
     ]
    },
    {
     "name": "stdout",
     "output_type": "stream",
     "text": [
      "Epoch 929/10000 — Avg Train Loss: 4.1309 | Avg Val Loss:   10.6730 | LR: 9.81e-03\n"
     ]
    },
    {
     "name": "stderr",
     "output_type": "stream",
     "text": [
      "                                                                                           \r"
     ]
    },
    {
     "name": "stdout",
     "output_type": "stream",
     "text": [
      "Epoch 930/10000 — Avg Train Loss: 4.1041 | Avg Val Loss:   11.4141 | LR: 9.81e-03\n"
     ]
    },
    {
     "name": "stderr",
     "output_type": "stream",
     "text": [
      "                                                                                           \r"
     ]
    },
    {
     "name": "stdout",
     "output_type": "stream",
     "text": [
      "Epoch 931/10000 — Avg Train Loss: 4.1093 | Avg Val Loss:   11.3874 | LR: 9.81e-03\n"
     ]
    },
    {
     "name": "stderr",
     "output_type": "stream",
     "text": [
      "                                                                                           \r"
     ]
    },
    {
     "name": "stdout",
     "output_type": "stream",
     "text": [
      "Epoch 932/10000 — Avg Train Loss: 4.0599 | Avg Val Loss:   10.8305 | LR: 9.81e-03\n"
     ]
    },
    {
     "name": "stderr",
     "output_type": "stream",
     "text": [
      "                                                                                           \r"
     ]
    },
    {
     "name": "stdout",
     "output_type": "stream",
     "text": [
      "Epoch 933/10000 — Avg Train Loss: 4.3917 | Avg Val Loss:   8.8805 | LR: 9.81e-03\n"
     ]
    },
    {
     "name": "stderr",
     "output_type": "stream",
     "text": [
      "                                                                                           \r"
     ]
    },
    {
     "name": "stdout",
     "output_type": "stream",
     "text": [
      "Epoch 934/10000 — Avg Train Loss: 4.5549 | Avg Val Loss:   8.5388 | LR: 9.81e-03\n"
     ]
    },
    {
     "name": "stderr",
     "output_type": "stream",
     "text": [
      "                                                                                           \r"
     ]
    },
    {
     "name": "stdout",
     "output_type": "stream",
     "text": [
      "Epoch 935/10000 — Avg Train Loss: 4.3521 | Avg Val Loss:   8.0361 | LR: 9.81e-03\n"
     ]
    },
    {
     "name": "stderr",
     "output_type": "stream",
     "text": [
      "                                                                                           \r"
     ]
    },
    {
     "name": "stdout",
     "output_type": "stream",
     "text": [
      "Epoch 936/10000 — Avg Train Loss: 4.3640 | Avg Val Loss:   8.4460 | LR: 9.81e-03\n"
     ]
    },
    {
     "name": "stderr",
     "output_type": "stream",
     "text": [
      "                                                                                           \r"
     ]
    },
    {
     "name": "stdout",
     "output_type": "stream",
     "text": [
      "Epoch 937/10000 — Avg Train Loss: 4.1852 | Avg Val Loss:   9.9410 | LR: 9.81e-03\n"
     ]
    },
    {
     "name": "stderr",
     "output_type": "stream",
     "text": [
      "                                                                                           \r"
     ]
    },
    {
     "name": "stdout",
     "output_type": "stream",
     "text": [
      "Epoch 938/10000 — Avg Train Loss: 4.3260 | Avg Val Loss:   9.7601 | LR: 9.80e-03\n"
     ]
    },
    {
     "name": "stderr",
     "output_type": "stream",
     "text": [
      "                                                                                           \r"
     ]
    },
    {
     "name": "stdout",
     "output_type": "stream",
     "text": [
      "Epoch 939/10000 — Avg Train Loss: 4.2047 | Avg Val Loss:   10.3639 | LR: 9.80e-03\n"
     ]
    },
    {
     "name": "stderr",
     "output_type": "stream",
     "text": [
      "                                                                                           \r"
     ]
    },
    {
     "name": "stdout",
     "output_type": "stream",
     "text": [
      "Epoch 940/10000 — Avg Train Loss: 4.0908 | Avg Val Loss:   10.4346 | LR: 9.80e-03\n"
     ]
    },
    {
     "name": "stderr",
     "output_type": "stream",
     "text": [
      "                                                                                           \r"
     ]
    },
    {
     "name": "stdout",
     "output_type": "stream",
     "text": [
      "Epoch 941/10000 — Avg Train Loss: 4.2929 | Avg Val Loss:   9.7512 | LR: 9.80e-03\n"
     ]
    },
    {
     "name": "stderr",
     "output_type": "stream",
     "text": [
      "                                                                                           \r"
     ]
    },
    {
     "name": "stdout",
     "output_type": "stream",
     "text": [
      "Epoch 942/10000 — Avg Train Loss: 4.2468 | Avg Val Loss:   10.6419 | LR: 9.80e-03\n"
     ]
    },
    {
     "name": "stderr",
     "output_type": "stream",
     "text": [
      "                                                                                           \r"
     ]
    },
    {
     "name": "stdout",
     "output_type": "stream",
     "text": [
      "Epoch 943/10000 — Avg Train Loss: 4.1565 | Avg Val Loss:   11.1178 | LR: 9.80e-03\n"
     ]
    },
    {
     "name": "stderr",
     "output_type": "stream",
     "text": [
      "                                                                                           \r"
     ]
    },
    {
     "name": "stdout",
     "output_type": "stream",
     "text": [
      "Epoch 944/10000 — Avg Train Loss: 4.1798 | Avg Val Loss:   11.2253 | LR: 9.80e-03\n"
     ]
    },
    {
     "name": "stderr",
     "output_type": "stream",
     "text": [
      "                                                                                           \r"
     ]
    },
    {
     "name": "stdout",
     "output_type": "stream",
     "text": [
      "Epoch 945/10000 — Avg Train Loss: 4.1364 | Avg Val Loss:   11.0316 | LR: 9.80e-03\n"
     ]
    },
    {
     "name": "stderr",
     "output_type": "stream",
     "text": [
      "                                                                                           \r"
     ]
    },
    {
     "name": "stdout",
     "output_type": "stream",
     "text": [
      "Epoch 946/10000 — Avg Train Loss: 4.1497 | Avg Val Loss:   9.1370 | LR: 9.80e-03\n"
     ]
    },
    {
     "name": "stderr",
     "output_type": "stream",
     "text": [
      "                                                                                           \r"
     ]
    },
    {
     "name": "stdout",
     "output_type": "stream",
     "text": [
      "Epoch 947/10000 — Avg Train Loss: 4.1582 | Avg Val Loss:   10.4305 | LR: 9.80e-03\n"
     ]
    },
    {
     "name": "stderr",
     "output_type": "stream",
     "text": [
      "                                                                                           \r"
     ]
    },
    {
     "name": "stdout",
     "output_type": "stream",
     "text": [
      "Epoch 948/10000 — Avg Train Loss: 4.0971 | Avg Val Loss:   10.3214 | LR: 9.80e-03\n"
     ]
    },
    {
     "name": "stderr",
     "output_type": "stream",
     "text": [
      "                                                                                           \r"
     ]
    },
    {
     "name": "stdout",
     "output_type": "stream",
     "text": [
      "Epoch 949/10000 — Avg Train Loss: 4.1172 | Avg Val Loss:   9.5754 | LR: 9.80e-03\n"
     ]
    },
    {
     "name": "stderr",
     "output_type": "stream",
     "text": [
      "                                                                                           \r"
     ]
    },
    {
     "name": "stdout",
     "output_type": "stream",
     "text": [
      "Epoch 950/10000 — Avg Train Loss: 4.1232 | Avg Val Loss:   10.4025 | LR: 9.80e-03\n"
     ]
    },
    {
     "name": "stderr",
     "output_type": "stream",
     "text": [
      "                                                                                           \r"
     ]
    },
    {
     "name": "stdout",
     "output_type": "stream",
     "text": [
      "Epoch 951/10000 — Avg Train Loss: 4.0811 | Avg Val Loss:   10.7860 | LR: 9.80e-03\n"
     ]
    },
    {
     "name": "stderr",
     "output_type": "stream",
     "text": [
      "                                                                                           \r"
     ]
    },
    {
     "name": "stdout",
     "output_type": "stream",
     "text": [
      "Epoch 957/10000 — Avg Train Loss: 4.0362 | Avg Val Loss:   10.9957 | LR: 9.80e-03\n"
     ]
    },
    {
     "name": "stderr",
     "output_type": "stream",
     "text": [
      "                                                                                           \r"
     ]
    },
    {
     "name": "stdout",
     "output_type": "stream",
     "text": [
      "Epoch 958/10000 — Avg Train Loss: 4.0537 | Avg Val Loss:   11.7048 | LR: 9.80e-03\n"
     ]
    },
    {
     "name": "stderr",
     "output_type": "stream",
     "text": [
      "                                                                                           \r"
     ]
    },
    {
     "name": "stdout",
     "output_type": "stream",
     "text": [
      "Epoch 959/10000 — Avg Train Loss: 4.1068 | Avg Val Loss:   11.0080 | LR: 9.80e-03\n"
     ]
    },
    {
     "name": "stderr",
     "output_type": "stream",
     "text": [
      "                                                                                           \r"
     ]
    },
    {
     "name": "stdout",
     "output_type": "stream",
     "text": [
      "Epoch 960/10000 — Avg Train Loss: 4.1290 | Avg Val Loss:   10.5700 | LR: 9.80e-03\n"
     ]
    },
    {
     "name": "stderr",
     "output_type": "stream",
     "text": [
      "                                                                                           \r"
     ]
    },
    {
     "name": "stdout",
     "output_type": "stream",
     "text": [
      "Epoch 961/10000 — Avg Train Loss: 4.1239 | Avg Val Loss:   13.2754 | LR: 9.79e-03\n"
     ]
    },
    {
     "name": "stderr",
     "output_type": "stream",
     "text": [
      "                                                                                           \r"
     ]
    },
    {
     "name": "stdout",
     "output_type": "stream",
     "text": [
      "Epoch 962/10000 — Avg Train Loss: 4.0792 | Avg Val Loss:   11.5015 | LR: 9.79e-03\n"
     ]
    },
    {
     "name": "stderr",
     "output_type": "stream",
     "text": [
      "                                                                                           \r"
     ]
    },
    {
     "name": "stdout",
     "output_type": "stream",
     "text": [
      "Epoch 963/10000 — Avg Train Loss: 4.0716 | Avg Val Loss:   9.3369 | LR: 9.79e-03\n"
     ]
    },
    {
     "name": "stderr",
     "output_type": "stream",
     "text": [
      "                                                                                           \r"
     ]
    },
    {
     "name": "stdout",
     "output_type": "stream",
     "text": [
      "Epoch 964/10000 — Avg Train Loss: 4.0686 | Avg Val Loss:   9.3703 | LR: 9.79e-03\n"
     ]
    },
    {
     "name": "stderr",
     "output_type": "stream",
     "text": [
      "                                                                                           \r"
     ]
    },
    {
     "name": "stdout",
     "output_type": "stream",
     "text": [
      "Epoch 965/10000 — Avg Train Loss: 4.0947 | Avg Val Loss:   11.1850 | LR: 9.79e-03\n"
     ]
    },
    {
     "name": "stderr",
     "output_type": "stream",
     "text": [
      "                                                                                           \r"
     ]
    },
    {
     "name": "stdout",
     "output_type": "stream",
     "text": [
      "Epoch 966/10000 — Avg Train Loss: 4.0810 | Avg Val Loss:   10.8424 | LR: 9.79e-03\n"
     ]
    },
    {
     "name": "stderr",
     "output_type": "stream",
     "text": [
      "                                                                                           \r"
     ]
    },
    {
     "name": "stdout",
     "output_type": "stream",
     "text": [
      "Epoch 967/10000 — Avg Train Loss: 4.0354 | Avg Val Loss:   11.8945 | LR: 9.79e-03\n"
     ]
    },
    {
     "name": "stderr",
     "output_type": "stream",
     "text": [
      "                                                                                           \r"
     ]
    },
    {
     "name": "stdout",
     "output_type": "stream",
     "text": [
      "Epoch 968/10000 — Avg Train Loss: 4.0202 | Avg Val Loss:   10.6158 | LR: 9.79e-03\n"
     ]
    },
    {
     "name": "stderr",
     "output_type": "stream",
     "text": [
      "                                                                                           \r"
     ]
    },
    {
     "name": "stdout",
     "output_type": "stream",
     "text": [
      "Epoch 969/10000 — Avg Train Loss: 4.0017 | Avg Val Loss:   10.9717 | LR: 9.79e-03\n"
     ]
    },
    {
     "name": "stderr",
     "output_type": "stream",
     "text": [
      "                                                                                           \r"
     ]
    },
    {
     "name": "stdout",
     "output_type": "stream",
     "text": [
      "Epoch 970/10000 — Avg Train Loss: 3.9797 | Avg Val Loss:   10.9500 | LR: 9.79e-03\n"
     ]
    },
    {
     "name": "stderr",
     "output_type": "stream",
     "text": [
      "                                                                                           \r"
     ]
    },
    {
     "name": "stdout",
     "output_type": "stream",
     "text": [
      "Epoch 971/10000 — Avg Train Loss: 4.0198 | Avg Val Loss:   11.8413 | LR: 9.79e-03\n"
     ]
    },
    {
     "name": "stderr",
     "output_type": "stream",
     "text": [
      "                                                                                           \r"
     ]
    },
    {
     "name": "stdout",
     "output_type": "stream",
     "text": [
      "Epoch 972/10000 — Avg Train Loss: 4.0465 | Avg Val Loss:   11.0046 | LR: 9.79e-03\n"
     ]
    },
    {
     "name": "stderr",
     "output_type": "stream",
     "text": [
      "                                                                                           \r"
     ]
    },
    {
     "name": "stdout",
     "output_type": "stream",
     "text": [
      "Epoch 973/10000 — Avg Train Loss: 4.0742 | Avg Val Loss:   12.5728 | LR: 9.79e-03\n"
     ]
    },
    {
     "name": "stderr",
     "output_type": "stream",
     "text": [
      "                                                                                           \r"
     ]
    },
    {
     "name": "stdout",
     "output_type": "stream",
     "text": [
      "Epoch 974/10000 — Avg Train Loss: 3.9889 | Avg Val Loss:   11.0696 | LR: 9.79e-03\n"
     ]
    },
    {
     "name": "stderr",
     "output_type": "stream",
     "text": [
      "                                                                                           \r"
     ]
    },
    {
     "name": "stdout",
     "output_type": "stream",
     "text": [
      "Epoch 975/10000 — Avg Train Loss: 3.9938 | Avg Val Loss:   11.7342 | LR: 9.79e-03\n"
     ]
    },
    {
     "name": "stderr",
     "output_type": "stream",
     "text": [
      "                                                                                           \r"
     ]
    },
    {
     "name": "stdout",
     "output_type": "stream",
     "text": [
      "Epoch 976/10000 — Avg Train Loss: 3.9898 | Avg Val Loss:   10.8832 | LR: 9.79e-03\n"
     ]
    },
    {
     "name": "stderr",
     "output_type": "stream",
     "text": [
      "                                                                                           \r"
     ]
    },
    {
     "name": "stdout",
     "output_type": "stream",
     "text": [
      "Epoch 977/10000 — Avg Train Loss: 4.0138 | Avg Val Loss:   11.3577 | LR: 9.79e-03\n"
     ]
    },
    {
     "name": "stderr",
     "output_type": "stream",
     "text": [
      "                                                                                           \r"
     ]
    },
    {
     "name": "stdout",
     "output_type": "stream",
     "text": [
      "Epoch 978/10000 — Avg Train Loss: 4.0598 | Avg Val Loss:   10.9990 | LR: 9.79e-03\n"
     ]
    },
    {
     "name": "stderr",
     "output_type": "stream",
     "text": [
      "                                                                                           \r"
     ]
    },
    {
     "ename": "KeyboardInterrupt",
     "evalue": "",
     "output_type": "error",
     "traceback": [
      "\u001b[0;31m---------------------------------------------------------------------------\u001b[0m",
      "\u001b[0;31mKeyboardInterrupt\u001b[0m                         Traceback (most recent call last)",
      "Cell \u001b[0;32mIn[5]\u001b[0m\n\u001b[1;32m      0\u001b[0m <Error retrieving source code with stack_data see ipython/ipython#13598>\n",
      "\u001b[0;31mKeyboardInterrupt\u001b[0m: "
     ]
    }
   ],
   "source": [
    "# CLIPModel Pipeline with SimpleViT, BatchNorm, LayerNorm, Dropout, AMP, Scheduler, Early Stopping\n",
    "# This script processes genomic inputs (sequence + pattern + frequency) and trains a CLIP-like model using SimpleViT encoders\n",
    "\n",
    "import os\n",
    "import random\n",
    "import math\n",
    "import numpy as np\n",
    "import pandas as pd\n",
    "from tqdm import tqdm\n",
    "\n",
    "import torch\n",
    "import torch.nn as nn\n",
    "import torch.nn.functional as F\n",
    "import torch.optim as optim\n",
    "from torch.utils.data import Dataset, DataLoader\n",
    "from torch.optim.lr_scheduler import LambdaLR\n",
    "\n",
    "# Import SimpleViT from lucidrains implementation\n",
    "from vit_pytorch.simple_vit import SimpleViT\n",
    "\n",
    "# Optional mixed precision\n",
    "from torch.amp import GradScaler, autocast\n",
    "\n",
    "# -------------------- Flags & Hyperparameters --------------------\n",
    "LOAD_DATASET    = True      # If True, load from saved .npy files instead of generating\n",
    "SAVE_DATASET    = False     # If True (and generating), save arrays to .npy after generation\n",
    "\n",
    "n_epochs        = 10000\n",
    "batch_size      = 2_000\n",
    "learning_rate   = 1e-2               # adjust as needed\n",
    "weight_decay    = 5e-8               # weight decay for regularization\n",
    "dropout_prob    = 0.0                # dropout probability\n",
    "warmup_epochs   = 50                 # number of warmup epochs\n",
    "USE_AMP         = False              # set to True to enable mixed precision\n",
    "patience        = 1000               # early stopping patience\n",
    "# -------------------------------------------------------------------\n",
    "\n",
    "# Device setup\n",
    "device = torch.device(\"cuda\" if torch.cuda.is_available() else \"cpu\")\n",
    "\n",
    "# ==============================================================================\n",
    "# 1. Load promoter coordinates from BED file\n",
    "# ==============================================================================\n",
    "promoter_bed = 'promoter_view_test.bed'  # replace with actual path\n",
    "bed_df = pd.read_csv(\n",
    "    promoter_bed,\n",
    "    sep='\\t',\n",
    "    header=None,\n",
    "    usecols=[0, 1, 2],\n",
    "    names=['chrom', 'start', 'end']\n",
    ")\n",
    "\n",
    "# ==============================================================================\n",
    "# 2. Load intervals ±25 kb of promoter start (preprocessed into numpy arrays)\n",
    "# ==============================================================================\n",
    "# seq_h_dataset shape: (n_samples, 5, 32) → 5 rows, 32 nucleotides per row (one-hot or embedding channels)\n",
    "# top_out_dataset shape: (n_samples, 10, 100) → 10 pattern rows, 100 bp per pattern (binary patterns)\n",
    "# top_amount_dataset shape: (n_samples, 10) → frequency vector per pattern\n",
    "seq_h_dataset      = np.load('seq_h_dataset.npy')       # shape (n_samples, 5, 32)\n",
    "top_out_dataset    = np.load('top_out_dataset.npy')     # shape (n_samples, 10, 100)\n",
    "top_amount_dataset = np.load('top_amount_dataset.npy')  # shape (n_samples, 10)\n",
    "n_samples          = seq_h_dataset.shape[0]\n",
    "\n",
    "# ==============================================================================\n",
    "# 3. Split into Training (80%) and Validation (20%) Sets\n",
    "# ==============================================================================\n",
    "indices = np.arange(n_samples)\n",
    "np.random.seed(42)\n",
    "np.random.shuffle(indices)\n",
    "split     = int(0.8 * n_samples)\n",
    "train_idx = indices[:split]\n",
    "val_idx   = indices[split:]\n",
    "\n",
    "train_seq_h      = seq_h_dataset[train_idx]\n",
    "train_top_out    = top_out_dataset[train_idx]\n",
    "train_top_amount = top_amount_dataset[train_idx]\n",
    "val_seq_h        = seq_h_dataset[val_idx]\n",
    "val_top_out      = top_out_dataset[val_idx]\n",
    "val_top_amount   = top_amount_dataset[val_idx]\n",
    "\n",
    "# ==============================================================================\n",
    "# 4. Wrap in PyTorch Dataset and DataLoader\n",
    "# ==============================================================================\n",
    "class GenomicClipDataset(Dataset):\n",
    "    def __init__(self, seq_h_array, top_array, top_amount_array):\n",
    "        assert seq_h_array.shape[0] == top_array.shape[0] == top_amount_array.shape[0]\n",
    "        self.seq_h      = seq_h_array\n",
    "        self.top        = top_array\n",
    "        self.top_amount = top_amount_array\n",
    "\n",
    "    def __len__(self):\n",
    "        return self.seq_h.shape[0]\n",
    "\n",
    "    def __getitem__(self, idx):\n",
    "        # dna: (5, 32) → convert channels dimension dynamically\n",
    "        dna  = torch.from_numpy(self.seq_h[idx]).float()       # (5, 32)\n",
    "        # patterns: (10, 100)\n",
    "        pat  = torch.from_numpy(self.top[idx]).float()         # (10, 100)\n",
    "        # frequency: (10,)\n",
    "        freq = torch.from_numpy(self.top_amount[idx]).float()  # (10,)\n",
    "        # Add channel dimension for ViT: dna → (channels, H, W)\n",
    "        # Here, treat '5' as channels or height? We treat 5 rows as height and 1 channel, so reshape to (1,5,32)\n",
    "        dna = dna.unsqueeze(0)  # → (1, 5, 32)\n",
    "        # For patterns: treat 10 rows as height, 1 channel, 100 width: reshape (1,10,100)\n",
    "        pat = pat.unsqueeze(0)  # → (1, 10, 100)\n",
    "        return dna, pat, freq\n",
    "\n",
    "train_loader = DataLoader(\n",
    "    GenomicClipDataset(train_seq_h, train_top_out, train_top_amount),\n",
    "    batch_size=batch_size,\n",
    "    shuffle=True,\n",
    "    drop_last=True\n",
    ")\n",
    "val_loader = DataLoader(\n",
    "    GenomicClipDataset(val_seq_h, val_top_out, val_top_amount),\n",
    "    batch_size=batch_size,\n",
    "    shuffle=False,\n",
    "    drop_last=False\n",
    ")\n",
    "\n",
    "# ==============================================================================\n",
    "# 5. Define CLIPModel with SimpleViT encoders\n",
    "# ==============================================================================\n",
    "class CLIPModel(nn.Module):\n",
    "    def __init__(self,\n",
    "                 dna_dim: int = 256,\n",
    "                 dna_depth: int = 2,\n",
    "                 dna_heads: int = 2,\n",
    "                 pat_dim: int = 2512,\n",
    "                 pat_depth: int = 2,\n",
    "                 pat_heads: int = 2,\n",
    "                 latent_dim: int = 2512,\n",
    "                 dropout: float = 0.4,\n",
    "                 dna_channels: int = 100,\n",
    "                 pat_channels: int = 100):\n",
    "        super(CLIPModel, self).__init__()\n",
    "\n",
    "        # --- DNA Encoder (SimpleViT) ---\n",
    "        # dna_tensor shape → (B, dna_channels, 5, 32)\n",
    "        self.dna_encoder = SimpleViT(\n",
    "            image_size=(5, 32),        # height x width for dna\n",
    "            patch_size=(5, 8),         # patch dims\n",
    "            num_classes=dna_dim,\n",
    "            dim=dna_dim,\n",
    "            depth=dna_depth,\n",
    "            heads=dna_heads,\n",
    "            mlp_dim=dna_dim * 2,\n",
    "            channels=dna_channels,\n",
    "            dim_head=64\n",
    "        )\n",
    "        self.dna_proj = nn.Sequential(\n",
    "            nn.Linear(dna_dim, latent_dim),\n",
    "            nn.LayerNorm(latent_dim),     # retain LayerNorm here\n",
    "            nn.ReLU(inplace=True),\n",
    "            nn.Dropout(p=dropout),\n",
    "        )\n",
    "\n",
    "        # --- Pattern Encoder (SimpleViT) ---\n",
    "        # pat_tensor shape → (B, pat_channels, 10, 100)\n",
    "        self.pat_encoder = SimpleViT(\n",
    "            image_size=(10, 100),\n",
    "            patch_size=(2, 10),\n",
    "            num_classes=pat_dim,\n",
    "            dim=pat_dim,\n",
    "            depth=pat_depth,\n",
    "            heads=pat_heads,\n",
    "            mlp_dim=pat_dim * 2,\n",
    "            channels=pat_channels,\n",
    "            dim_head=64\n",
    "        )\n",
    "        self.pat_feat_bn = nn.BatchNorm1d(pat_dim, eps=1e-5, momentum=0.1)\n",
    "\n",
    "        # --- Frequency branch normalization ---\n",
    "        self.freq_bn = nn.BatchNorm1d(10, eps=1e-5, momentum=0.1)\n",
    "        self.freq_proj_input = nn.Linear(10, pat_dim)\n",
    "        self.freq_mlp = nn.Sequential(\n",
    "            nn.Linear(pat_dim, pat_dim),\n",
    "            nn.LayerNorm(pat_dim),       # keep LayerNorm inside freq MLP\n",
    "            nn.ReLU(inplace=True),\n",
    "            nn.Dropout(p=dropout),\n",
    "            nn.Linear(pat_dim, pat_dim),\n",
    "            nn.LayerNorm(pat_dim),\n",
    "            nn.ReLU(inplace=True),\n",
    "            nn.Dropout(p=dropout),\n",
    "        )\n",
    "\n",
    "        # --- Combiner MLP: (pat_dim*2 → pat_dim) with BatchNorm after first linear\n",
    "        self.combiner_mlp = nn.Sequential(\n",
    "            nn.Linear(pat_dim * 2, pat_dim),\n",
    "            nn.BatchNorm1d(pat_dim, eps=1e-5, momentum=0.1),\n",
    "            nn.ReLU(inplace=True),\n",
    "            nn.Dropout(p=dropout),\n",
    "            nn.Linear(pat_dim, pat_dim),\n",
    "            nn.LayerNorm(pat_dim),       # final LayerNorm\n",
    "            nn.ReLU(inplace=True),\n",
    "            nn.Dropout(p=dropout),\n",
    "        )\n",
    "\n",
    "        # Final projection: (pat_dim → latent_dim)\n",
    "        self.pat_proj = nn.Sequential(\n",
    "            nn.Linear(pat_dim, latent_dim),\n",
    "            nn.LayerNorm(latent_dim),\n",
    "            nn.ReLU(inplace=True),\n",
    "            nn.Dropout(p=dropout),\n",
    "        )\n",
    "\n",
    "        # Learnable temperature parameter (initialized to log(1/0.07))\n",
    "        self.logit_scale_param = nn.Parameter(torch.ones([]) * math.log(1/0.07))\n",
    "\n",
    "        # Xavier initialization for all Linear layers\n",
    "        for m in self.modules():\n",
    "            if isinstance(m, nn.Linear):\n",
    "                nn.init.xavier_uniform_(m.weight)\n",
    "                if m.bias is not None:\n",
    "                    nn.init.zeros_(m.bias)\n",
    "\n",
    "    def forward(self, dna_tensor, pat_tensor, freq_tensor):\n",
    "        \"\"\"\n",
    "        dna_tensor:  (B, channels, 5, 32)\n",
    "        pat_tensor:  (B, channels, 10, 100)\n",
    "        freq_tensor: (B, 10)\n",
    "\n",
    "        Returns:\n",
    "            dna_latent: (B, latent_dim)\n",
    "            pat_latent: (B, latent_dim)\n",
    "            logit_scale: scalar > 0\n",
    "        \"\"\"\n",
    "        # --- DNA branch ---\n",
    "        dna_feat   = self.dna_encoder(dna_tensor)      # (B, dna_dim)\n",
    "        dna_latent = self.dna_proj(dna_feat)           # (B, latent_dim)\n",
    "\n",
    "        # --- Pattern branch ---\n",
    "        pat_feat       = self.pat_encoder(pat_tensor)  # (B, pat_dim)\n",
    "        pat_feat_norm  = self.pat_feat_bn(pat_feat)    # (B, pat_dim)\n",
    "\n",
    "        # --- Frequency branch ---\n",
    "        freq_normed = self.freq_bn(freq_tensor)       # (B, 10)\n",
    "        freq_proj   = self.freq_proj_input(freq_normed)  # (B, pat_dim)\n",
    "        freq_feat   = self.freq_mlp(freq_proj)           # (B, pat_dim)\n",
    "\n",
    "        # --- Combine pattern + frequency ---\n",
    "        combined   = torch.cat([pat_feat_norm, freq_feat], dim=1)  # (B, 2*pat_dim)\n",
    "        comb_feat  = self.combiner_mlp(combined)                   # (B, pat_dim)\n",
    "        pat_latent = self.pat_proj(comb_feat)                       # (B, latent_dim)\n",
    "\n",
    "        # Clamp logit_scale to avoid numerical explosion\n",
    "        logit_scale = torch.clamp(self.logit_scale_param, -5.0, 5.0).exp()\n",
    "        return dna_latent, pat_latent, logit_scale\n",
    "\n",
    "# Instantiate model and move to device (example dynamic channels)\n",
    "# dna_channels = number of input channels for DNA (e.g., 1 if one-hot encoded)\n",
    "# pat_channels = number of input channels for patterns (e.g., 1 for binary patterns)\n",
    "model = CLIPModel(\n",
    "    dna_dim=256, dna_depth=8, dna_heads=8,\n",
    "    pat_dim=512, pat_depth=8, pat_heads=8,\n",
    "    latent_dim=32, dropout=dropout_prob,\n",
    "    dna_channels=1, pat_channels=1\n",
    ").to(device)\n",
    "\n",
    "# ==============================================================================\n",
    "# 6. Contrastive Loss (InfoNCE with Label Smoothing)\n",
    "# ==============================================================================\n",
    "def contrastive_loss(dna_latent, pat_latent, logit_scale, smoothing: float = 0.1):\n",
    "    \"\"\"\n",
    "    dna_latent:   (B, D)\n",
    "    pat_latent:   (B, D)\n",
    "    logit_scale:  scalar\n",
    "    smoothing:    float in [0,1]\n",
    "    Returns:\n",
    "        average of image-to-text and text-to-image KLDiv-based losses.\n",
    "    \"\"\"\n",
    "    B, D = dna_latent.size()\n",
    "    eps = 1e-8\n",
    "    dna_norm = dna_latent / (dna_latent.norm(dim=1, keepdim=True) + eps)\n",
    "    pat_norm = pat_latent / (pat_latent.norm(dim=1, keepdim=True) + eps)\n",
    "    logits = logit_scale * torch.matmul(dna_norm, pat_norm.t())  # (B, B)\n",
    "    labels = torch.arange(B, device=logits.device)\n",
    "    n_classes = logits.size(1)\n",
    "    with torch.no_grad():\n",
    "        smooth_target = torch.full((B, n_classes), smoothing / (n_classes - 1), device=logits.device)\n",
    "        smooth_target[torch.arange(B), labels] = 1.0 - smoothing\n",
    "    loss_i2p = F.kl_div(F.log_softmax(logits, dim=1), smooth_target, reduction=\"batchmean\")\n",
    "    loss_p2i = F.kl_div(F.log_softmax(logits.t(), dim=1), smooth_target, reduction=\"batchmean\")\n",
    "    return (loss_i2p + loss_p2i) / 2.0\n",
    "\n",
    "# ==============================================================================\n",
    "# 7. Training & Validation Loop with Optional AMP, Extended Warmup, Early Stopping\n",
    "# ==============================================================================\n",
    "optimizer = optim.AdamW(model.parameters(), lr=learning_rate, weight_decay=weight_decay)\n",
    "total_steps  = n_epochs * len(train_loader)\n",
    "warmup_steps = warmup_epochs * len(train_loader)\n",
    "\n",
    "def lr_lambda(step):\n",
    "    if step < warmup_steps:\n",
    "        return float(step) / float(max(1, warmup_steps))\n",
    "    return 0.5 * (1.0 + math.cos(math.pi * (step - warmup_steps) / (total_steps - warmup_steps)))\n",
    "\n",
    "scheduler = LambdaLR(optimizer, lr_lambda=lr_lambda)\n",
    "scaler = GradScaler(enabled=USE_AMP)\n",
    "\n",
    "# Debug: frequency stats\n",
    "freq_all = torch.from_numpy(top_amount_dataset)\n",
    "print(\n",
    "    \"Initial freq stats:\",\n",
    "    f\"min={freq_all.min().item():.1e}, max={freq_all.max().item():.1e},\",\n",
    "    f\"mean={freq_all.mean().item():.1e}, std={freq_all.std().item():.1e}\"\n",
    ")\n",
    "\n",
    "best_val_loss = float('inf')\n",
    "no_improve    = 0\n",
    "checkpoint_dir = \"checkpoints\"\n",
    "os.makedirs(checkpoint_dir, exist_ok=True)\n",
    "\n",
    "for epoch in range(1, n_epochs + 1):\n",
    "    # --- Training Phase ---\n",
    "    model.train()\n",
    "    train_loss_accum = 0.0\n",
    "    train_bar = tqdm(train_loader, desc=f\"Epoch {epoch}/{n_epochs} [Train]\", leave=False)\n",
    "\n",
    "    for dna_batch, pat_batch, freq_batch in train_bar:\n",
    "        dna_batch, pat_batch, freq_batch = dna_batch.to(device), pat_batch.to(device), freq_batch.to(device)\n",
    "        if dna_batch.isnan().any() or dna_batch.isinf().any():\n",
    "            raise RuntimeError(\"dna_batch contains NaN or Inf\")\n",
    "        if pat_batch.isnan().any() or pat_batch.isinf().any():\n",
    "            raise RuntimeError(\"pat_batch contains NaN or Inf\")\n",
    "        if freq_batch.isnan().any() or freq_batch.isinf().any():\n",
    "            raise RuntimeError(\"freq_batch contains NaN or Inf\")\n",
    "\n",
    "        optimizer.zero_grad()\n",
    "        if USE_AMP:\n",
    "            with autocast():\n",
    "                dna_latent, pat_latent, logit_scale = model(dna_batch, pat_batch, freq_batch)\n",
    "                loss = contrastive_loss(dna_latent, pat_latent, logit_scale)\n",
    "            scaler.scale(loss).backward()\n",
    "            scaler.unscale_(optimizer)\n",
    "        else:\n",
    "            dna_latent, pat_latent, logit_scale = model(dna_batch, pat_batch, freq_batch)\n",
    "            loss = contrastive_loss(dna_latent, pat_latent, logit_scale)\n",
    "            loss.backward()\n",
    "\n",
    "        # Gradient clipping & check\n",
    "        torch.nn.utils.clip_grad_norm_(model.parameters(), max_norm=1.0)\n",
    "        for name, param in model.named_parameters():\n",
    "            if param.grad is not None and param.grad.isnan().any():\n",
    "                raise RuntimeError(f\"Gradient for {name} contains NaN\")\n",
    "\n",
    "        if USE_AMP:\n",
    "            scaler.step(optimizer)\n",
    "            scaler.update()\n",
    "        else:\n",
    "            optimizer.step()\n",
    "        scheduler.step()\n",
    "\n",
    "        train_loss_accum += loss.item()\n",
    "        train_bar.set_postfix(train_loss=f\"{loss.item():.4f}\")\n",
    "    train_bar.close()\n",
    "\n",
    "    avg_train_loss = train_loss_accum / len(train_loader)\n",
    "    model.eval()\n",
    "    val_loss_accum = 0.0\n",
    "    val_bar = tqdm(val_loader, desc=f\"Epoch {epoch}/{n_epochs} [Val]\", leave=False)\n",
    "\n",
    "    with torch.no_grad():\n",
    "        for dna_batch, pat_batch, freq_batch in val_bar:\n",
    "            dna_batch, pat_batch, freq_batch = dna_batch.to(device), pat_batch.to(device), freq_batch.to(device)\n",
    "            if USE_AMP:\n",
    "                with autocast():\n",
    "                    dna_latent, pat_latent, logit_scale = model(dna_batch, pat_batch, freq_batch)\n",
    "                    loss = contrastive_loss(dna_latent, pat_latent, logit_scale)\n",
    "            else:\n",
    "                dna_latent, pat_latent, logit_scale = model(dna_batch, pat_batch, freq_batch)\n",
    "                loss = contrastive_loss(dna_latent, pat_latent, logit_scale)\n",
    "            val_loss_accum += loss.item()\n",
    "            val_bar.set_postfix(val_loss=f\"{loss.item():.4f}\")\n",
    "    val_bar.close()\n",
    "\n",
    "    avg_val_loss = val_loss_accum / len(val_loader)\n",
    "    print(\n",
    "        f\"Epoch {epoch}/{n_epochs} — \"\n",
    "        f\"Avg Train Loss: {avg_train_loss:.4f} | \"\n",
    "        f\"Avg Val Loss:   {avg_val_loss:.4f} | \"\n",
    "        f\"LR: {scheduler.get_last_lr()[0]:.2e}\"\n",
    "    )\n",
    "\n",
    "    # Early Stopping & Checkpoint\n",
    "    if avg_val_loss < best_val_loss:\n",
    "        best_val_loss = avg_val_loss\n",
    "        no_improve    = 0\n",
    "        ckpt_path     = os.path.join(checkpoint_dir, \"best_clip_model.pth\")\n",
    "        torch.save({\n",
    "            \"epoch\": epoch,\n",
    "            \"model_state\": model.state_dict(),\n",
    "            \"optimizer_state\": optimizer.state_dict(),\n",
    "            \"scheduler_state\": scheduler.state_dict(),\n",
    "            \"best_val_loss\": best_val_loss\n",
    "        }, ckpt_path)\n",
    "        print(f\"  ► Saved new best checkpoint (Val Loss: {best_val_loss:.4f})\")\n",
    "    else:\n",
    "        no_improve += 1\n",
    "        if no_improve >= patience:\n",
    "            print(f\"No improvement for {patience} epochs. Stopping early at epoch {epoch}.\")\n",
    "            break\n",
    "\n",
    "# ==============================================================================\n",
    "# 8. Save Final Model Checkpoint (if not already saved in early stop)\n",
    "# ==============================================================================\n",
    "final_ckpt = os.path.join(checkpoint_dir, \"last_epoch_clip_model.pth\")\n",
    "torch.save({\n",
    "    \"epoch\": epoch,\n",
    "    \"model_state\": model.state_dict(),\n",
    "    \"optimizer_state\": optimizer.state_dict(),\n",
    "    \"scheduler_state\": scheduler.state_dict(),\n",
    "    \"best_val_loss\": best_val_loss\n",
    "}, final_ckpt)\n",
    "print(f\"Training complete. Final checkpoint saved to {final_ckpt}\")"
   ]
  },
  {
   "cell_type": "code",
   "execution_count": null,
   "metadata": {
    "id": "hZSXsTSQsryS"
   },
   "outputs": [],
   "source": [
    "# Overfit is working\n",
    "# dropout is regulating it right now\n"
   ]
  },
  {
   "cell_type": "code",
   "execution_count": null,
   "metadata": {
    "id": "xaEJJkErP7xv"
   },
   "outputs": [],
   "source": [
    "#clip\n",
    "first modality\n",
    "\n",
    "DNA 2d matrix\n",
    "  - 32 bp binary hotencoder ((5, 32)) #ACTGN\n",
    "\n",
    "Second clip MODALITY\n",
    "\n",
    "2d matrix (peak binarized top 10 encoders) + 1d vector with values (frequency of the top 10 encoders)\n",
    "\n",
    "  - (10,100) binary sparse_matrix\n",
    "  - frequency of occurency for values for each row # This information should be used to reflect the frequency\n",
    "\n",
    "\n",
    "use VIT to process both modules,\n",
    "add batch norm when needed\n",
    "use the lucid rains implementation of x-clip and VIT\n",
    "\n",
    "\n"
   ]
  },
  {
   "cell_type": "code",
   "execution_count": null,
   "metadata": {
    "id": "tfnZyMG0Y08A"
   },
   "outputs": [],
   "source": []
  }
 ],
 "metadata": {
  "accelerator": "GPU",
  "colab": {
   "gpuType": "T4",
   "provenance": []
  },
  "kernelspec": {
   "display_name": "Python 3 (ipykernel)",
   "language": "python",
   "name": "python3"
  },
  "language_info": {
   "codemirror_mode": {
    "name": "ipython",
    "version": 3
   },
   "file_extension": ".py",
   "mimetype": "text/x-python",
   "name": "python",
   "nbconvert_exporter": "python",
   "pygments_lexer": "ipython3",
   "version": "3.11.10"
  }
 },
 "nbformat": 4,
 "nbformat_minor": 4
}
